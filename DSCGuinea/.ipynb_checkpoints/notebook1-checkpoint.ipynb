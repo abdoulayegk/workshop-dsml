{
 "cells": [
  {
   "cell_type": "markdown",
   "id": "e87b1866-2c79-4004-85db-d55413675fd5",
   "metadata": {},
   "source": [
    "# Intro to Data Science and Analysis with Pandas & Jupyter, September 2021\n",
    "\n",
    "Workshop lead: Abdoulaye Balde [@abdoulayegk](http://twitter.com/abdoulayegk)<br>\n",
    "Notebook will be  [abdulayegk]()"
   ]
  },
  {
   "cell_type": "markdown",
   "id": "c1f7659d-f40f-43e8-9bc3-10f4aec48b85",
   "metadata": {},
   "source": [
    "# Overview\n",
    "The goal of this workshop is to give learners an intro to data science and analysis with Python using Pandas and Jupyter. \n",
    "We will first go through a general overwiew of python such as list, tuple and dictionary.\n",
    "then we go through the process of loading data from CSV files, inspecting and cleaning the data. As a second step, we will analyse the data and draw some insights about Chronic-kidney dataset. \n",
    "\n",
    "The workshop is structured as follows:\n",
    "\n",
    "- Intro and background\n",
    "- Part 0: Quick Jupyter exercise\n",
    "- Part 1: General overview of python\n",
    "- Part 2: Loading and inspecting data\n",
    "- Part 3: Data analysis\n",
    "- Part 4: Summary\n",
    "\n",
    "**Note that this workshop is only intended as an introduction to some basic concepts of python for data science using Pandas. It is in no means intended to be comprehensive, and there are a lot of useful functions a beginner needs to know to do in-depth data analysis. I hope that this workshop sets you up for self-guided learning to master the full range of necessary Pandas tools.**\n",
    "\n",
    "## How to follow along with the workshop\n",
    "- You can run every cell in the notebook as we go along using the shortcut Shift+Enter\n",
    "- You will encounter a few <span style=\"color:blue\">*** DIY exercise ***</span> blocks where you'll get a few minutes to try out what you've just learned\n",
    "- Feel free to save and download your notebook from Binder at the end since Binder deletes notebooks after 12 hours."
   ]
  },
  {
   "cell_type": "markdown",
   "id": "8fc04718-2fbb-4eb6-af67-8b4f3fa6c5c9",
   "metadata": {},
   "source": [
    "# Intro\n",
    "\n",
    "## What is Jupyter (and the Jupyter ecosystem...)?\n",
    "- **IPython** is an **interactive Python shell** (just type \"ipython\" to start it)\n",
    "- **Jupyter** is a Python library that provides a **web-based UI** on top of ipython to create notebooks with code and output\n",
    "- **JupyterLab** provides some additional **features on top of Jupyter**, e.g. a file browser\n",
    "- **Binder** is a **web-based hub** for containers that contain your Python environment and renders notebooks based on a git repo\n",
    "\n",
    "## Quick overview of python list, tupl eand  dictionary\n",
    "- **List**  A list is a data structure in Python that is a mutable, or changeable, ordered sequence of elements. Each element or value that is inside of a list is called an item. Lists are defined by having values between square brackets [ ].\n",
    " - **Tuple** A tuple is a data structure that is an immutable, or unchangeable, ordered sequence of elements. Because tuples are immutable, their values cannot be modified. Tuples have values between parentheses ( ) separated by commas.\n",
    " \n",
    "- **Dictionary** The dictionary is Python’s built-in mapping type. Dictionaries map keys to values and these key-value pairs provide a useful way to store data in Python.\n",
    "\n",
    "    Typically used to hold data that are related, such as the information contained in an ID or a user profile, dictionaries are constructed with curly braces on either side { }.\n",
    "\n",
    "## What is Pandas/Matplotlib/Pyplot/Seaborn?\n",
    "\n",
    "- **Pandas** is a Python library for **data manipulation and analysis**. It offers data structures and operations for manipulating numerical tables and time series.\n",
    "- **Matplotlib** is a Python **2D plotting library**. Pyplot is a collection of command style functions in matplotlib that make matplotlib work like MATLAB. While we mostly use Seaborn, we sometimes fall back to using Pyplot functions for certain aspects of plotting.\n",
    "- **Seaborn** is a Python **data visualization** library based on matplotlib. It's kind of like a nicer version of Pyplot.\n",
    "- You can **use Pandas code in a regular Python script** of course. I'm just combining Jupyter + Pandas in this tutorial because notebooks are a great way to immediately see output!"
   ]
  },
  {
   "cell_type": "markdown",
   "id": "cc9377c0-8557-4c44-813b-8bc3aabac411",
   "metadata": {},
   "source": [
    "### Notebooks are basically just interactive ipython terminals, often mixed in with markdown text:\n",
    "- Each input field you see is called a **cell**\n",
    "- Cells can be **either code or markdown**\n",
    "- You can execute any kind of Python code\n",
    "- **Variables persist** between cells\n",
    "- The notebook **doesn't care about the order of cells**, just the order of executing it in order to remember variables. However, \"run all\" executes your cells top to bottom.\n",
    "\n",
    "### Notebooks have **two modes**: a) editing the cells and b) navigating the notebook (command mode):\n",
    "- You can **navigate** around the notebook in command mode by clicking cells or using the arrow keys\n",
    "- Depending on the environment you're using (Jupyter notebook, Jupyter lab, Google Colab...) there will be a different **visual cue** (e.g. a colored line) to indicate the mode a cell is in\n",
    "- In order to **edit a cell**, you can press **Enter** or double-click it.\n",
    "- To **execute** the cell content, press Shift+Enter to run the cell\n",
    "- To get **out of edit mode** and back into navigation mode, press the **Escape key**"
   ]
  },
  {
   "cell_type": "markdown",
   "id": "aa555fed-8cb2-46cb-a0e3-489ab3ab9ff0",
   "metadata": {},
   "source": [
    "### Some helpful keyboard shortcuts:\n",
    "- The **default type for a cell is code**. In command mode, press *m* to make a cell markdown and *y* to make it code\n",
    "- Press *a* in command mode to create a new cell *above* the current one\n",
    "- Press *b* in command mode to create a new cell *below* the current one\n",
    "- *Tab* autocompletes methods (like in IPython)\n",
    "- *Shift+Tab* shows you the docstring for the outer function of the line your cursor is in\n",
    "- Press *dd* in command mode to delete a cell. \n",
    "- *Cmd+z* undoes operations in the highlighted cell, *z* undoes cell operations in the notebook (e.g. deleting a cell)"
   ]
  },
  {
   "cell_type": "code",
   "execution_count": 1,
   "id": "a4df982a-146e-4423-b426-52fbe8ea1847",
   "metadata": {},
   "outputs": [
    {
     "name": "stdout",
     "output_type": "stream",
     "text": [
      "Welcome to Google Developer Student Clubs!\n"
     ]
    }
   ],
   "source": [
    "# Example\n",
    "print(\"Welcome to Google Developer Student Clubs!\")"
   ]
  },
  {
   "cell_type": "markdown",
   "id": "77c7e001-abb9-4f5f-947b-d6c691840192",
   "metadata": {},
   "source": [
    "# Part 1: General Overview of python (15 mins)\n",
    "In this part we are going to go through the basics things we need to know before loading data for that we are going to start from looping in python and we will go till classes in python.<br>\n",
    "**Note this will be just very basics things we should know to follow along in this workshop if you want to go in deep then you should get a book for that**"
   ]
  },
  {
   "cell_type": "code",
   "execution_count": 3,
   "id": "85d165c2-f36b-4cc7-b48c-5303ae451fdd",
   "metadata": {},
   "outputs": [
    {
     "name": "stdout",
     "output_type": "stream",
     "text": [
      "Abdoulaye Balde\n"
     ]
    },
    {
     "data": {
      "text/plain": [
       "19"
      ]
     },
     "execution_count": 3,
     "metadata": {},
     "output_type": "execute_result"
    }
   ],
   "source": [
    "# To print your name in python\n",
    "print(\"Abdoulaye Balde\")\n",
    "9+10"
   ]
  },
  {
   "cell_type": "code",
   "execution_count": 4,
   "id": "64f773d8-8b68-4b2b-b676-84acd40157cf",
   "metadata": {},
   "outputs": [
    {
     "name": "stdout",
     "output_type": "stream",
     "text": [
      "The result after adding 4 and 10 is 14\n"
     ]
    }
   ],
   "source": [
    "# Arithmetic operators \n",
    "a = 4\n",
    "b = 10\n",
    "result = a + b\n",
    "print(\"The result after adding {} and {} is {}\".format(a, b, result))"
   ]
  },
  {
   "cell_type": "markdown",
   "id": "4fd10583-f92b-423e-b3c1-01e3d1c86c1b",
   "metadata": {},
   "source": [
    "From the above cell we can use all other arithmetic operators like substruction(-), multiplication(*) and division(/) this is and exercice for you to apply these three using different variables and assigning it to different numbers."
   ]
  },
  {
   "cell_type": "code",
   "execution_count": 5,
   "id": "6427e86a-80ca-4490-b8a0-254444dc266c",
   "metadata": {},
   "outputs": [
    {
     "name": "stdout",
     "output_type": "stream",
     "text": [
      "Age equal to 10\n"
     ]
    }
   ],
   "source": [
    "# Python Conditions if else\n",
    "age = 10\n",
    "\n",
    "if age > 10:\n",
    "    print(\"Greater than 10\")\n",
    "elif age == 10:\n",
    "    print(\"Age equal to 10\")\n",
    "else:\n",
    "    print(\"Less than 10\")"
   ]
  },
  {
   "cell_type": "code",
   "execution_count": 6,
   "id": "40feabb2-2390-4559-8df0-615ebbc702c5",
   "metadata": {},
   "outputs": [
    {
     "name": "stdout",
     "output_type": "stream",
     "text": [
      "The value of i at 1 iteration is 0\n",
      "The value of i at 2 iteration is 1\n",
      "The value of i at 3 iteration is 2\n",
      "The value of i at 4 iteration is 3\n",
      "The value of i at 5 iteration is 4\n",
      "The value of i at 6 iteration is 5\n",
      "The value of i at 7 iteration is 6\n",
      "The value of i at 8 iteration is 7\n",
      "The value of i at 9 iteration is 8\n",
      "The value of i at 10 iteration is 9\n"
     ]
    }
   ],
   "source": [
    "# Looping in python\n",
    "## Using for loop: we want to print digits from 0 to 10 \n",
    "for i in range(10):\n",
    "    print(\"The value of i at {} iteration is {}\".format(i+1, i))\n"
   ]
  },
  {
   "cell_type": "code",
   "execution_count": 7,
   "id": "171e8fd3-46e7-488d-9245-198e9f1da8b0",
   "metadata": {},
   "outputs": [
    {
     "name": "stdout",
     "output_type": "stream",
     "text": [
      "The value of i at 1 iteration is 0\n",
      "The value of i at 2 iteration is 1\n",
      "The value of i at 3 iteration is 2\n",
      "The value of i at 4 iteration is 3\n",
      "The value of i at 5 iteration is 4\n",
      "The value of i at 6 iteration is 5\n",
      "The value of i at 7 iteration is 6\n",
      "The value of i at 8 iteration is 7\n",
      "The value of i at 9 iteration is 8\n",
      "The value of i at 10 iteration is 9\n"
     ]
    }
   ],
   "source": [
    "# we can get the same thing using while loop\n",
    "i = 0\n",
    "while i < 10:\n",
    "    print(\"The value of i at {} iteration is {}\".format(i+1, i))\n",
    "    i+=1\n",
    "    "
   ]
  },
  {
   "cell_type": "markdown",
   "id": "e3500dc1-b2a3-47f3-942f-339507084663",
   "metadata": {},
   "source": [
    "**Note we can use also <spam> Break</spam> or <spam> continue</spam> to control our loops** <br>"
   ]
  },
  {
   "cell_type": "code",
   "execution_count": 10,
   "id": "3dba433c-5fe0-4a4e-8489-ee1f6bdaeed7",
   "metadata": {},
   "outputs": [
    {
     "name": "stdout",
     "output_type": "stream",
     "text": [
      "1\n",
      "2\n",
      "3\n",
      "4\n",
      "5\n"
     ]
    }
   ],
   "source": [
    "# print the the fist 5 numbers from a loop that run 10 times\n",
    "i = 1\n",
    "while i < 10:\n",
    "    print(i)\n",
    "    if i == 5:\n",
    "        break\n",
    "    i += 1"
   ]
  },
  {
   "cell_type": "code",
   "execution_count": 11,
   "id": "8c8e52ba-5832-4c63-89ee-060bddd04900",
   "metadata": {},
   "outputs": [
    {
     "name": "stdout",
     "output_type": "stream",
     "text": [
      "1\n",
      "2\n",
      "3\n",
      "4\n",
      "6\n",
      "7\n",
      "8\n",
      "9\n",
      "10\n"
     ]
    }
   ],
   "source": [
    "# this example is with continue. This will skip 5 while printing the output\n",
    "i = 0\n",
    "while i < 10:\n",
    "    i += 1\n",
    "    if i == 5:\n",
    "        continue\n",
    "    print(i)"
   ]
  },
  {
   "cell_type": "markdown",
   "id": "a723c5b3-87c4-4880-919d-9e6e03dfb981",
   "metadata": {},
   "source": [
    "#### List, tuple and Dictionary"
   ]
  },
  {
   "cell_type": "code",
   "execution_count": null,
   "id": "39a7a73f-c909-4cd7-aba9-d6f40f679b96",
   "metadata": {},
   "outputs": [],
   "source": [
    "# List\n",
    "a = []   # an empty list\n",
    "print(a)\n",
    "\n",
    "print(\"\\n\\n\") # leave two lines blank\n",
    "b = [1,2,3,4]  # list of numbers\n",
    "print(b)\n",
    "print(\"\\n\\n\")\n",
    "fruits = ['Orange', 'Banana', \"Apple\"] # list of fruits\n",
    "print(fruits)\n",
    "\n",
    "print(\"\\n\\n\")\n",
    "# you can mix list using different datatypes\n",
    "mylist = [1, \"Pineapple\", 3.14, [2,3,4]]\n",
    "print(mylist)"
   ]
  },
  {
   "cell_type": "code",
   "execution_count": null,
   "id": "e9daded0-8e20-4b4e-9210-c28d758b4936",
   "metadata": {},
   "outputs": [],
   "source": [
    "#Tuple\n",
    "t = ()  # an empty tuple\n",
    "print(t)\n",
    "\n",
    "\n",
    "mytuple1 = (1,2,3,4,5)\n",
    "print(mytuple1)\n"
   ]
  },
  {
   "cell_type": "code",
   "execution_count": null,
   "id": "2daadbcb-ff0c-425b-ae46-56c95bca91b5",
   "metadata": {},
   "outputs": [],
   "source": [
    "## Dictionary\n",
    "dic = {}  # an empty dictionary\n",
    "\n",
    "mydic = {'username': 'abdoulayegk', 'online': True, 'followers': 987}\n",
    "print(mydic)"
   ]
  },
  {
   "cell_type": "code",
   "execution_count": null,
   "id": "8b576c8a-c9b1-4e6f-8f54-b94f2c154921",
   "metadata": {},
   "outputs": [],
   "source": [
    "mydic['username']"
   ]
  },
  {
   "cell_type": "code",
   "execution_count": null,
   "id": "27fdd2ff-5a66-458c-86f9-dc24941a8650",
   "metadata": {},
   "outputs": [],
   "source": [
    "print(mydic['followers'])\n",
    "# Returns 987\n",
    "\n",
    "print(mydic['online'])\n",
    "# Returns True"
   ]
  },
  {
   "cell_type": "code",
   "execution_count": null,
   "id": "d2a57240-7850-43ad-9be4-80d25da417b3",
   "metadata": {},
   "outputs": [],
   "source": [
    "# to print the key values pair\n",
    "for key, value in mydic.items():\n",
    "    print(key, 'is the key for the value', value)"
   ]
  },
  {
   "cell_type": "code",
   "execution_count": null,
   "id": "a00472fc-f981-4186-9b70-6863c70f1343",
   "metadata": {},
   "outputs": [],
   "source": []
  },
  {
   "cell_type": "code",
   "execution_count": null,
   "id": "ec6a392a-cde1-4495-a9e2-54c8b03e74cd",
   "metadata": {},
   "outputs": [],
   "source": []
  },
  {
   "cell_type": "markdown",
   "id": "0094c62d-ef4a-403a-95f2-a06deebfedbc",
   "metadata": {},
   "source": [
    "Using Methods to Access Elements <br>\n",
    "In addition to using keys to access values, we can also work with some built-in methods:<br>\n",
    "\n",
    "dict.keys() isolates keys <br>\n",
    "dict.values() isolates values<br>\n",
    "dict.items() returns items in a list format of (key, value) tuple pairs<br>"
   ]
  },
  {
   "cell_type": "code",
   "execution_count": null,
   "id": "d627f536-94cc-470b-ab9d-7f9e44c7f1fe",
   "metadata": {},
   "outputs": [],
   "source": [
    "# To return all the keys of our dictionary\n",
    "print(mydic.keys())\n"
   ]
  },
  {
   "cell_type": "code",
   "execution_count": null,
   "id": "5d607c21-306d-449a-9835-833954c62979",
   "metadata": {},
   "outputs": [],
   "source": [
    "# To return the values of a dictionary\n",
    "print(mydic.values())"
   ]
  },
  {
   "cell_type": "code",
   "execution_count": null,
   "id": "10dcad0a-4efe-4943-ba90-1adc5ac83fd6",
   "metadata": {},
   "outputs": [],
   "source": []
  },
  {
   "cell_type": "code",
   "execution_count": null,
   "id": "43558f0c-fc83-4d53-8573-21d153c34dd3",
   "metadata": {},
   "outputs": [],
   "source": [
    "# defining function in python\n",
    "\n",
    "def greetings(name):\n",
    "    return \"Hello \"+ name\n",
    "\n",
    "\n",
    "print(greetings(\"Abdoulaye\"))\n",
    "\n",
    "# another expample to find factorial of number\n",
    "\n",
    "# def factorial(n:int)->int:\n",
    "#     if n == 0:\n",
    "#         return 1\n",
    "#     else:\n",
    "#         return n*factorial(n-1)\n",
    "\n",
    "\n",
    "# if __name__ == '__main__':\n",
    "#     print(factorial(5))"
   ]
  },
  {
   "cell_type": "code",
   "execution_count": null,
   "id": "b843904c-1ed1-40a3-bc79-d3f324e9abe7",
   "metadata": {},
   "outputs": [],
   "source": [
    "# class in python\n",
    "\n",
    "class Greetings:\n",
    "    def __init__(self, name, age):\n",
    "        self.name = name\n",
    "        self.age = age\n",
    "        \n",
    "    def greet_someone(self):\n",
    "        print(\"Your name is {} and you are {}\". format(self.name, self.age))\n",
    "\n",
    "        \n",
    "greet = Greetings(\"Abdoulaye\", 23)\n",
    "greet.greet_someone()"
   ]
  },
  {
   "cell_type": "markdown",
   "id": "ffe64b98-6c01-46c4-94d4-b2841c34a83d",
   "metadata": {},
   "source": [
    "# Part 1: Loading and inspecting the data (15 mins)\n",
    "\n",
    "Before we can start answering questions about the data we need to do a little bit of exploratory analysis.The first thing we need to do when working with a new dataset is to get an idea of what the data looks like. We start by loading the data into memory. Pandas comes with a built-in `read_csv` function that we can use to read CSV files and load them directly to a pandas `DataFrame` object. \n",
    "- **Note the dataset is on my github account** [dataset](https://raw.githubusercontent.com/abdoulayegk/ml-workshop/main/kidney_disease.csv)"
   ]
  },
  {
   "cell_type": "code",
   "execution_count": null,
   "id": "3f4e14d7-ae47-4c78-b6b7-1c20618ecb80",
   "metadata": {},
   "outputs": [],
   "source": [
    "# We need to import the libraries to start with\n",
    "import pandas as pd\n",
    "import matplotlib.pyplot as plt\n",
    "import seaborn as sns\n",
    "import numpy as np\n",
    "\n",
    "# This command makes charts show inline in a notebook\n",
    "%matplotlib inline\n",
    "\n",
    "# Making the figures show up a little larger than default size\n",
    "plt.rcParams['figure.figsize'] = [10,6]"
   ]
  },
  {
   "cell_type": "markdown",
   "id": "10f5a2aa-30d1-4938-82f1-e4f5ccf18e0f",
   "metadata": {},
   "source": [
    "## What is a dataframe?\n",
    "* A **dataframe** is a **2-dimensional labeled data structure** with columns of potentially different types. You can think of it like a spreadsheet or SQL table, or a dict of Series objects. It is generally the most commonly used Pandas object. \n",
    "* Pandas borrows the concept of DataFrame from the statistical programming language R.\n",
    "* There are a lot of **different ways to read data** into a dataframe - from lists, dicts, CSVs, databases... In this example, we're loading data from a CSV file!\n",
    "\n",
    "**Let's take a look at the data to familiarize ourselves with the format and data types. In this example, I'm using some treatment data from the oncology domain, including treatment starts and the drugs patients are getting.**"
   ]
  },
  {
   "cell_type": "code",
   "execution_count": null,
   "id": "fc38bea1-528f-445e-90dc-45527bf5237f",
   "metadata": {},
   "outputs": [],
   "source": [
    "# Read data from a CSV into a dataframe\n",
    "# This is the data we're going to be working with!\n",
    "df = pd.read_csv(\"kidney_disease.csv\")\n"
   ]
  },
  {
   "cell_type": "code",
   "execution_count": null,
   "id": "b16bd6ac-db3a-4c80-abd8-d07c1997b295",
   "metadata": {},
   "outputs": [],
   "source": [
    "# Just typing the name of the dataframe will print the entire output\n",
    "# If there are too many rows, Jupyter will print the top few and \n",
    "# bottom few rows with a \"...\" to indicate that there are more rows\n",
    "df"
   ]
  },
  {
   "cell_type": "markdown",
   "id": "09c5f17d-02e6-403c-b1c9-19a62a834990",
   "metadata": {},
   "source": [
    "# Data Set Information:\n",
    "\n",
    "We use the following representation to collect the dataset \n",
    "1. age - age\n",
    "2. bp - blood pressure\n",
    "3. sg - specific gravity\n",
    "4. al - albumin\n",
    "5. su - sugar\n",
    "6. rbc - red blood cells\n",
    "7. pc - pus cell\n",
    "8. pcc - pus cell clumps\n",
    "9. ba - bacteria\n",
    "10. bgr - blood glucose random\n",
    "11. bu - blood urea\n",
    "12. sc - serum creatinine\n",
    "13. sod - sodium\n",
    "14. pot - potassium\n",
    "15. hemo - hemoglobin\n",
    "16. pcv - packed cell volume\n",
    "17. wc - white blood cell count\n",
    "18. rc - red blood cell count\n",
    "19. htn - hypertension\n",
    "20. dm - diabetes mellitus\n",
    "21. cad - coronary artery disease\n",
    "22. appet - appetite\n",
    "23. pe - pedal edema\n",
    "24. ane - anemia\n",
    "25. class - class\n",
    "26. id"
   ]
  },
  {
   "cell_type": "markdown",
   "id": "de3d000f-d54b-419d-9e62-9df4d8f39d35",
   "metadata": {},
   "source": [
    "## Inspecting a dataframe using built-in functions\n",
    "* Most operations on a dataframe happen by applying a function to it using the \".\" notation, e.g. `my_dataframe.do_something()`\n",
    "* Let's look at some simple functions that we can apply to Pandas dataframes"
   ]
  },
  {
   "cell_type": "code",
   "execution_count": null,
   "id": "a0b4abfc-ad14-41d7-81e1-4f3ffc4ab79b",
   "metadata": {},
   "outputs": [],
   "source": [
    "# let's see the columns name of our dataset\n",
    "df.columns.to_list()"
   ]
  },
  {
   "cell_type": "code",
   "execution_count": null,
   "id": "5e6cc71e-f292-4f09-b0e7-5e1c4f3d88db",
   "metadata": {},
   "outputs": [],
   "source": [
    "# The head(n) function shows the first n rows in a dataframe.\n",
    "# If no n is specified, it defaults to 5 rows.\n",
    "df.head()"
   ]
  },
  {
   "cell_type": "code",
   "execution_count": null,
   "id": "044feb21-85d2-4019-9494-7b7224f44183",
   "metadata": {},
   "outputs": [],
   "source": [
    "# You can also use the sample() function to get n random rows in \n",
    "# the dataframe\n",
    "df.sample(5)"
   ]
  },
  {
   "cell_type": "code",
   "execution_count": null,
   "id": "9f1b069b-4901-4f97-970f-6dbb27f6282d",
   "metadata": {},
   "outputs": [],
   "source": [
    "# The info() function prints some basic information about the dataframe\n",
    "# such as the number of columns and rows\n",
    "# Let's talk about the # column later!\n",
    "df.info()"
   ]
  },
  {
   "cell_type": "code",
   "execution_count": null,
   "id": "26313768-8916-45cf-960a-3dcca1c80ba7",
   "metadata": {},
   "outputs": [],
   "source": [
    "# the variable classification is our target so let's rename it.\n",
    "df = df.rename(columns = {\"classification\":'target'})"
   ]
  },
  {
   "cell_type": "code",
   "execution_count": null,
   "id": "7cd74add-66e3-4fbd-b339-e72820797657",
   "metadata": {},
   "outputs": [],
   "source": [
    "# The describe function shows some basic statistics for numeric columns\n",
    "# We only have one here (Dosage), so this isn't very interesting\n",
    "df.describe().T"
   ]
  },
  {
   "cell_type": "code",
   "execution_count": null,
   "id": "685069ac-2b4c-4ef7-aaf0-de98fae79259",
   "metadata": {},
   "outputs": [],
   "source": [
    "# now let's see the shape of our dataset\n",
    "df.shape"
   ]
  },
  {
   "cell_type": "markdown",
   "id": "0d9e7168-3327-43ea-a423-c4c9369240c9",
   "metadata": {},
   "source": [
    "## Other ways to inspect a dataframe\n",
    "* There are other operations you can do on a dataframe that don't follow the function notation\n",
    "* Let's look at a few examples:\n",
    "1. len(df)\n",
    "2. df.dtypes, etc\n"
   ]
  },
  {
   "cell_type": "markdown",
   "id": "52ec970e-297e-426f-8748-db2095880158",
   "metadata": {},
   "source": [
    "## <span style=\"color:blue\">*** DIY exercise ***</span>\n",
    "Create a new cell below and print the first ten rows of the \"df\" dataframe."
   ]
  },
  {
   "cell_type": "markdown",
   "id": "c24acea9-d4de-4b86-a7bf-ca897c609d5a",
   "metadata": {},
   "source": [
    "## Accessing columns in a dataframe"
   ]
  },
  {
   "cell_type": "code",
   "execution_count": null,
   "id": "817edb6a-a1a3-407d-805c-bbd2f4a94c1c",
   "metadata": {},
   "outputs": [],
   "source": [
    "# Return the PatientID column as a Series\n",
    "df['id'].head()"
   ]
  },
  {
   "cell_type": "code",
   "execution_count": null,
   "id": "2e63e672-7862-4b8c-a307-fec0d8a0cf5e",
   "metadata": {},
   "outputs": [],
   "source": [
    "# Check the type to show that this indeed returns a Series object\n",
    "type(df['wc'])"
   ]
  },
  {
   "cell_type": "code",
   "execution_count": null,
   "id": "31584e78-a0ab-4230-90db-9561e793886c",
   "metadata": {},
   "outputs": [],
   "source": [
    "# And this is how you access two columns of a dataframe.\n",
    "# Note that this will return a dataframe again, not a series \n",
    "# (because a series has only one column...)\n",
    "# Also note the double square brackets \n",
    "# because you're passing a *list* of columns as an argument\n",
    "df[['wc', 'pcc']].head()"
   ]
  },
  {
   "cell_type": "code",
   "execution_count": null,
   "id": "b2df5c0c-1b6e-4b79-8e2a-ebf71ce7c67e",
   "metadata": {},
   "outputs": [],
   "source": [
    "# This way we can now do some more data exploration, \n",
    "# e.g. looking at unique patient IDs using the unique function\n",
    "# which returns an array of values\n",
    "df['target'].unique()"
   ]
  },
  {
   "cell_type": "markdown",
   "id": "a7d8e72e-5116-4199-a670-d74482f15aaa",
   "metadata": {},
   "source": [
    "## <span style=\"color:blue\">*** DIY exercise ***</span>\n",
    "Create a new cell below and print the list of unique pc in the dataframe."
   ]
  },
  {
   "cell_type": "code",
   "execution_count": null,
   "id": "0c864c2e-2ea3-4f1b-8d92-f59efadc32e0",
   "metadata": {},
   "outputs": [],
   "source": [
    "df.pc.unique()"
   ]
  },
  {
   "cell_type": "markdown",
   "id": "2ead8d39-e41f-4452-9174-fcf47f0f2550",
   "metadata": {},
   "source": [
    "## Accessing rows in a dataframe\n",
    "In addition to slicing by column, we often want to get the record where a column has a specific value, e.g. a specific age here. This can be done using the `.loc` function syntax and a boolean statement:"
   ]
  },
  {
   "cell_type": "code",
   "execution_count": null,
   "id": "267e55b5-ddd7-4d08-9b64-ec16b5b70ceb",
   "metadata": {},
   "outputs": [],
   "source": [
    "# Access the record(s) where the value in the PatientID column is PT20\n",
    "df.loc[df['age'] == 20]"
   ]
  },
  {
   "cell_type": "code",
   "execution_count": null,
   "id": "ccadb65e-9682-45b7-9b9a-0e6a212833f3",
   "metadata": {},
   "outputs": [],
   "source": [
    "# This is equivalent to the following shorter notation\n",
    "# I prefer to always use loc to be more explicit\n",
    "df[df['age'] == 20]"
   ]
  },
  {
   "cell_type": "code",
   "execution_count": null,
   "id": "1aeed7d0-da94-4cd1-9ff1-d541a7120a9a",
   "metadata": {},
   "outputs": [],
   "source": [
    "# You can also use boolean conditions in the selector\n",
    "df.loc[(df['age'] == 20) & (df['pc'] == 'normal')]"
   ]
  },
  {
   "cell_type": "markdown",
   "id": "6b20772a-39a4-411a-9015-8870a2ecbe70",
   "metadata": {},
   "source": [
    "## Sorting dataframes\n",
    "Sorting the output of a dataframe can be helpful for visually inspecting or presenting data! Sorting by one or multiple columns is super easy using the `sort_values` function:"
   ]
  },
  {
   "cell_type": "code",
   "execution_count": null,
   "id": "f1491c9f-3e34-422d-8101-a611665cae23",
   "metadata": {},
   "outputs": [],
   "source": [
    "# Sort by earliest treatment start date, i.e. in ascending order (default)\n",
    "df.sort_values('age').head()"
   ]
  },
  {
   "cell_type": "markdown",
   "id": "f8972576-f486-470a-8790-4ba7422f8e5a",
   "metadata": {},
   "source": [
    "-**Note you can use ascending=False to sort in descending order also you can sort a whole DataFrame**\n"
   ]
  },
  {
   "cell_type": "code",
   "execution_count": null,
   "id": "0ee09872-f66d-42a6-ba19-55af08437872",
   "metadata": {},
   "outputs": [],
   "source": [
    "# Use the inplace keyword to modify the dataframe\n",
    "# Note that you can also sort by a list of columns\n",
    "df.sort_values(['id', 'age'], inplace=True)"
   ]
  },
  {
   "cell_type": "code",
   "execution_count": null,
   "id": "2c477339-6c49-483d-b916-5481492769af",
   "metadata": {},
   "outputs": [],
   "source": [
    "df.target.unique()"
   ]
  },
  {
   "cell_type": "markdown",
   "id": "f7d43dcc-31bc-4d8e-976e-13dcfec40d05",
   "metadata": {},
   "source": [
    "# Part 2: Data cleaning (10 mins)"
   ]
  },
  {
   "cell_type": "code",
   "execution_count": null,
   "id": "58e011c8-ff08-487e-aa06-604c38d37142",
   "metadata": {},
   "outputs": [],
   "source": [
    "#we can use replace\n",
    "df['target'].replace({'ckd':1, 'notckd':0})"
   ]
  },
  {
   "cell_type": "markdown",
   "id": "5f494abe-1848-4a23-8c56-2ef195cbd45f",
   "metadata": {},
   "source": [
    "in this case the change that we made is temporary because we didn't change in the official data"
   ]
  },
  {
   "cell_type": "code",
   "execution_count": null,
   "id": "3affccca-cf4b-46b5-9b2f-3dcaad977080",
   "metadata": {},
   "outputs": [],
   "source": [
    "# use inplace=true to make the change in the original dataset"
   ]
  },
  {
   "cell_type": "code",
   "execution_count": null,
   "id": "7f294a3d-4266-49e0-b7be-d58ebcee36b5",
   "metadata": {},
   "outputs": [],
   "source": [
    "# Check if there any missing values in train set\n",
    "ax = df.isna().sum().sort_values().plot(kind = 'barh', figsize = (9, 10))\n",
    "plt.title('Percentage of Missing Values Per Column in Train Set', fontdict={'size':15})\n",
    "for p in ax.patches:\n",
    "    percentage ='{:,.0f}%'.format((p.get_width()/df.shape[0])*100)\n",
    "    width, height =p.get_width(),p.get_height()\n",
    "    x=p.get_x()+width+0.02\n",
    "    y=p.get_y()+height/2\n",
    "    ax.annotate(percentage,(x,y))"
   ]
  },
  {
   "cell_type": "code",
   "execution_count": null,
   "id": "e091da8b-a010-4a8d-aa65-1ccf1ca5f963",
   "metadata": {},
   "outputs": [],
   "source": [
    "sns.catplot(x=\"target\", kind=\"count\", data= df)"
   ]
  },
  {
   "cell_type": "code",
   "execution_count": null,
   "id": "181a1198-85bc-4ad2-8446-9d46f6647189",
   "metadata": {},
   "outputs": [],
   "source": [
    "df.rc.unique()"
   ]
  },
  {
   "cell_type": "code",
   "execution_count": null,
   "id": "11058c4a-a1c7-4bd7-a607-b15ed5832e4c",
   "metadata": {},
   "outputs": [],
   "source": [
    "df.pcv.unique()"
   ]
  },
  {
   "cell_type": "code",
   "execution_count": null,
   "id": "d1a540a1-6350-4728-86cc-92a480a628a7",
   "metadata": {},
   "outputs": [],
   "source": [
    "df.wc.unique()"
   ]
  },
  {
   "cell_type": "code",
   "execution_count": null,
   "id": "0425f4e6-f697-400f-a8fa-77af89b9d6a9",
   "metadata": {},
   "outputs": [],
   "source": [
    "df.sg.unique()"
   ]
  },
  {
   "cell_type": "code",
   "execution_count": null,
   "id": "57ab3585-90f9-4de6-8cee-04cd5a45a1c2",
   "metadata": {},
   "outputs": [],
   "source": [
    "df.wc.unique()"
   ]
  },
  {
   "cell_type": "markdown",
   "id": "0d8dcd35-f720-46c3-8aad-7a93f5058bf1",
   "metadata": {},
   "source": [
    " Our rc column is an object also we have some missing values and some thing that we don't really know like ?. we are going to replace all my the mean in this case and then we will fill missing values."
   ]
  },
  {
   "cell_type": "code",
   "execution_count": null,
   "id": "ebb11d27-9bea-49f3-b062-5432da3462af",
   "metadata": {},
   "outputs": [],
   "source": [
    "# To replace the string caracters with NaN\n",
    "df.rc.replace('?', np.nan, inplace=True)\n",
    "df.wc.replace(('?'), np.nan, inplace=True)\n",
    "df.pcv.replace(('?'), np.nan, inplace=True)"
   ]
  },
  {
   "cell_type": "code",
   "execution_count": null,
   "id": "600e2299-4fad-4f7a-8b17-fd567bfb92bf",
   "metadata": {},
   "outputs": [],
   "source": [
    "df.rbc.unique()"
   ]
  },
  {
   "cell_type": "code",
   "execution_count": null,
   "id": "626e063d-5ee3-4d6b-805f-d16be24ef557",
   "metadata": {},
   "outputs": [],
   "source": [
    "# Encoding categorial variables\n",
    "df['target'] = pd.get_dummies(df['target'])\n",
    "\n",
    "df['rbc'] = pd.get_dummies(df['rbc'])\n",
    "df['pc'] = pd.get_dummies(df['pc'])\n",
    "df['pcc'] = pd.get_dummies(df['pcc'])\n",
    "df['ba'] = pd.get_dummies(df['ba'])\n",
    "df['htn'] = pd.get_dummies(df['htn'])\n",
    "df['dm'] = pd.get_dummies(df['dm'])\n",
    "df['cad'] = pd.get_dummies(df['cad'])\n",
    "df['appet'] = pd.get_dummies(df['appet'])\n",
    "df['pe'] = pd.get_dummies(df['pe'])\n",
    "df['ane'] = pd.get_dummies(df['ane'])\n"
   ]
  },
  {
   "cell_type": "code",
   "execution_count": null,
   "id": "5202616f-81c1-4ea7-ae21-56663d82e4bc",
   "metadata": {},
   "outputs": [],
   "source": []
  },
  {
   "cell_type": "code",
   "execution_count": null,
   "id": "87f4520d-a382-4ec1-a970-730b1a646823",
   "metadata": {},
   "outputs": [],
   "source": [
    "df.dtypes"
   ]
  },
  {
   "cell_type": "markdown",
   "id": "bea73f72-aeea-4003-a847-87d2c60ed195",
   "metadata": {},
   "source": [
    "#### These are still object so we have to convert it to numerical.\n",
    "1. pcv        \n",
    "2. wc         \n",
    "3. rc         "
   ]
  },
  {
   "cell_type": "code",
   "execution_count": null,
   "id": "3007aa21-0bb1-480a-a31f-110d79e33dde",
   "metadata": {},
   "outputs": [],
   "source": [
    "# now we have to change the datatype of pcv, wc and rc\n",
    "df.wc = df.wc.astype('float64')\n",
    "df.rc = df.rc.astype('float64')\n",
    "df.pcv = df.pcv.astype('float64')"
   ]
  },
  {
   "cell_type": "code",
   "execution_count": null,
   "id": "94d15e7e-d9d5-4203-859a-8d8d91897bb8",
   "metadata": {},
   "outputs": [],
   "source": [
    "# Now let's fill missing values\n",
    "df.age.fillna(df.age.mean(), inplace=True)\n",
    "df.bp.fillna(df.bp.mean(), inplace=True)\n",
    "df.sg.fillna(df.sg.mean(), inplace=True)\n",
    "df.al.fillna(df.al.mean(), inplace=True)\n",
    "df.su.fillna(df.su.mode(), inplace=True)\n",
    "df.wc.fillna(df.wc.mean(), inplace=True)\n",
    "df.pcv.fillna(df.pcv.mean(), inplace=True)\n",
    "df.rc.fillna(df.rc.mean(), inplace=True)\n",
    "df.age.fillna(df.age.mean(), inplace=True)\n",
    "df.al.fillna(df.al.mode(), inplace=True)\n",
    "df.su.fillna(df.su.mean(), inplace=True)\n",
    "df.pot.fillna(df.pot.mean(), inplace=True)\n",
    "df.bu.fillna(df.bu.mean(), inplace=True)\n",
    "df.sod.fillna(df.sod.mean(), inplace=True)\n",
    "df.hemo.fillna(df.hemo.mean(), inplace=True)\n",
    "df.sc.fillna(df.sc.mean(), inplace=True)\n",
    "df.bgr.fillna(df.bgr.mean(), inplace=True)\n"
   ]
  },
  {
   "cell_type": "code",
   "execution_count": null,
   "id": "f74c82ff-7fda-4e6b-bc6d-ec5b7074cfe7",
   "metadata": {},
   "outputs": [],
   "source": [
    "df.isna().sum()"
   ]
  },
  {
   "cell_type": "code",
   "execution_count": null,
   "id": "2370f6b5-af6b-4674-a90c-ee88bb0390be",
   "metadata": {},
   "outputs": [],
   "source": []
  },
  {
   "cell_type": "code",
   "execution_count": null,
   "id": "c4cca0de-7a3a-4fe7-8b0a-4101ebfab061",
   "metadata": {},
   "outputs": [],
   "source": []
  },
  {
   "cell_type": "code",
   "execution_count": null,
   "id": "4201cf84-badf-49ea-ad73-717c01a5cd43",
   "metadata": {},
   "outputs": [],
   "source": []
  }
 ],
 "metadata": {
  "kernelspec": {
   "display_name": "Python 3",
   "language": "python",
   "name": "python3"
  },
  "language_info": {
   "codemirror_mode": {
    "name": "ipython",
    "version": 3
   },
   "file_extension": ".py",
   "mimetype": "text/x-python",
   "name": "python",
   "nbconvert_exporter": "python",
   "pygments_lexer": "ipython3",
   "version": "3.8.8"
  }
 },
 "nbformat": 4,
 "nbformat_minor": 5
}
