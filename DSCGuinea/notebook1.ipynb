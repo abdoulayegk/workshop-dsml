{
 "cells": [
  {
   "cell_type": "markdown",
   "id": "e87b1866-2c79-4004-85db-d55413675fd5",
   "metadata": {},
   "source": [
    "# End to end introduction to machine learning using python\n",
    "\n",
    "Workshop lead: Abdoulaye Balde [@abdoulayegk](http://twitter.com/abdoulayegk)<br>\n",
    "Notebook will be  [abdulayegk]()"
   ]
  },
  {
   "cell_type": "markdown",
   "id": "c1f7659d-f40f-43e8-9bc3-10f4aec48b85",
   "metadata": {},
   "source": [
    "# Overview\n",
    "The goal of this workshop is to give learners a general intro to machine learning and data science with Python using Pandas and Jupyter. \n",
    "We will first go through a general overwiew of python such as list, tuple and dictionary.\n",
    "then we go through the process of loading data from CSV files, inspecting and cleaning the data. As a second step, we will analyse the data and draw some insights about Chronic-kidney dataset. \n",
    "\n",
    "The workshop is structured as follows:\n",
    "\n",
    "- Intro and background\n",
    "- Part 0: Quick Jupyter exercise\n",
    "- Part 1: General overview of python\n",
    "- Part 2: creation of dataframe and series using pandas\n",
    "- Part 3: Loading and inspecting data\n",
    "- Part 4: Data analysis\n",
    "- Part 5 Model building\n",
    "- Part 6: summary\n",
    "\n",
    "**Note that this workshop is only intended as an introduction to some basic concepts of python for data science using Pandas. It is in no means intended to be comprehensive, and there are a lot of useful functions a beginner needs to know to do in-depth data analysis. I hope that this workshop sets you up for self-guided learning to master the full range of necessary Pandas tools.**\n",
    "\n",
    "## How to follow along with the workshop\n",
    "- You can run every cell in the notebook as we go along using the shortcut Shift+Enter\n",
    "- You will encounter a few <span style=\"color:blue\">*** DIY exercise ***</span> blocks where you'll get a few minutes to try out what you've just learned\n",
    "- Feel free to save and download your notebook from Binder at the end since Binder deletes notebooks after 12 hours."
   ]
  },
  {
   "cell_type": "markdown",
   "id": "8fc04718-2fbb-4eb6-af67-8b4f3fa6c5c9",
   "metadata": {},
   "source": [
    "# Intro\n",
    "\n",
    "## What is Jupyter (and the Jupyter ecosystem...)?\n",
    "- **IPython** is an **interactive Python shell** (just type \"ipython\" to start it)\n",
    "- **Jupyter** is a Python library that provides a **web-based UI** on top of ipython to create notebooks with code and output\n",
    "- **JupyterLab** provides some additional **features on top of Jupyter**, e.g. a file browser\n",
    "- **Binder** is a **web-based hub** for containers that contain your Python environment and renders notebooks based on a git repo\n",
    "\n",
    "## Quick overview of python list, tupl eand  dictionary\n",
    "- **List**  A list is a data structure in Python that is a mutable, or changeable, ordered sequence of elements. Each element or value that is inside of a list is called an item. Lists are defined by having values between square brackets [ ].\n",
    " - **Tuple** A tuple is a data structure that is an immutable, or unchangeable, ordered sequence of elements. Because tuples are immutable, their values cannot be modified. Tuples have values between parentheses ( ) separated by commas.\n",
    " \n",
    "- **Dictionary** The dictionary is Python’s built-in mapping type. Dictionaries map keys to values and these key-value pairs provide a useful way to store data in Python.\n",
    "\n",
    "    Typically used to hold data that are related, such as the information contained in an ID or a user profile, dictionaries are constructed with curly braces on either side { }.\n",
    "\n",
    "## What is Pandas/Matplotlib/Pyplot/Seaborn?\n",
    "\n",
    "- **Pandas** is a Python library for **data manipulation and analysis**. It offers data structures and operations for manipulating numerical tables and time series.\n",
    "- **Matplotlib** is a Python **2D plotting library**. Pyplot is a collection of command style functions in matplotlib that make matplotlib work like MATLAB. While we mostly use Seaborn, we sometimes fall back to using Pyplot functions for certain aspects of plotting.\n",
    "- **Seaborn** is a Python **data visualization** library based on matplotlib. It's kind of like a nicer version of Pyplot.\n",
    "- You can **use Pandas code in a regular Python script** of course. I'm just combining Jupyter + Pandas in this tutorial because notebooks are a great way to immediately see output!"
   ]
  },
  {
   "cell_type": "markdown",
   "id": "cc9377c0-8557-4c44-813b-8bc3aabac411",
   "metadata": {},
   "source": [
    "### Notebooks are basically just interactive ipython terminals, often mixed in with markdown text:\n",
    "- Each input field you see is called a **cell**\n",
    "- Cells can be **either code or markdown**\n",
    "- You can execute any kind of Python code\n",
    "- **Variables persist** between cells\n",
    "- The notebook **doesn't care about the order of cells**, just the order of executing it in order to remember variables. However, \"run all\" executes your cells top to bottom.\n",
    "\n",
    "### Notebooks have **two modes**: a) editing the cells and b) navigating the notebook (command mode):\n",
    "- You can **navigate** around the notebook in command mode by clicking cells or using the arrow keys\n",
    "- Depending on the environment you're using (Jupyter notebook, Jupyter lab, Google Colab...) there will be a different **visual cue** (e.g. a colored line) to indicate the mode a cell is in\n",
    "- In order to **edit a cell**, you can press **Enter** or double-click it.\n",
    "- To **execute** the cell content, press Shift+Enter to run the cell\n",
    "- To get **out of edit mode** and back into navigation mode, press the **Escape key**"
   ]
  },
  {
   "cell_type": "markdown",
   "id": "aa555fed-8cb2-46cb-a0e3-489ab3ab9ff0",
   "metadata": {},
   "source": [
    "### Some helpful keyboard shortcuts:\n",
    "- The **default type for a cell is code**. In command mode, press *m* to make a cell markdown and *y* to make it code\n",
    "- Press *a* in command mode to create a new cell *above* the current one\n",
    "- Press *b* in command mode to create a new cell *below* the current one\n",
    "- *Tab* autocompletes methods (like in IPython)\n",
    "- *Shift+Tab* shows you the docstring for the outer function of the line your cursor is in\n",
    "- Press *dd* in command mode to delete a cell. \n",
    "- *Cmd+z* undoes operations in the highlighted cell, *z* undoes cell operations in the notebook (e.g. deleting a cell)"
   ]
  },
  {
   "cell_type": "code",
   "execution_count": 1,
   "id": "a4df982a-146e-4423-b426-52fbe8ea1847",
   "metadata": {},
   "outputs": [
    {
     "name": "stdout",
     "output_type": "stream",
     "text": [
      "Welcome to Google Developer Student Clubs!\n"
     ]
    }
   ],
   "source": [
    "# Example\n",
    "print(\"Welcome to Google Developer Student Clubs!\")"
   ]
  },
  {
   "cell_type": "markdown",
   "id": "77c7e001-abb9-4f5f-947b-d6c691840192",
   "metadata": {},
   "source": [
    "# Part 1: General Overview of python \n",
    "In this part we are going to go through the basics things we need to know before loading data for that we are going to start from looping in python and we will go till classes in python.<br>\n",
    "**Note this will be just very basics things we should know to follow along in this workshop if you want to go in deep then you should get a book for that**"
   ]
  },
  {
   "cell_type": "code",
   "execution_count": 2,
   "id": "85d165c2-f36b-4cc7-b48c-5303ae451fdd",
   "metadata": {},
   "outputs": [
    {
     "name": "stdout",
     "output_type": "stream",
     "text": [
      "Abdoulaye Balde\n"
     ]
    },
    {
     "data": {
      "text/plain": [
       "19"
      ]
     },
     "execution_count": 2,
     "metadata": {},
     "output_type": "execute_result"
    }
   ],
   "source": [
    "# To print your name in python\n",
    "print(\"Abdoulaye Balde\")\n",
    "9+10"
   ]
  },
  {
   "cell_type": "code",
   "execution_count": 3,
   "id": "64f773d8-8b68-4b2b-b676-84acd40157cf",
   "metadata": {},
   "outputs": [
    {
     "name": "stdout",
     "output_type": "stream",
     "text": [
      "The result after adding 4 and 10 is 14\n"
     ]
    }
   ],
   "source": [
    "# Arithmetic operators \n",
    "a = 4\n",
    "b = 10\n",
    "result = a + b\n",
    "print(\"The result after adding {} and {} is {}\".format(a, b, result))"
   ]
  },
  {
   "cell_type": "markdown",
   "id": "4fd10583-f92b-423e-b3c1-01e3d1c86c1b",
   "metadata": {},
   "source": [
    "From the above cell we can use all other arithmetic operators like substruction(-), multiplication(*) and division(/) this is and exercice for you to apply these three using different variables and assigning it to different numbers."
   ]
  },
  {
   "cell_type": "code",
   "execution_count": 4,
   "id": "6427e86a-80ca-4490-b8a0-254444dc266c",
   "metadata": {},
   "outputs": [
    {
     "name": "stdout",
     "output_type": "stream",
     "text": [
      "Age equal to 10\n"
     ]
    }
   ],
   "source": [
    "# Python Conditions if else\n",
    "age = 10\n",
    "\n",
    "if age > 10:\n",
    "    print(\"Greater than 10\")\n",
    "elif age == 10:\n",
    "    print(\"Age equal to 10\")\n",
    "else:\n",
    "    print(\"Less than 10\")"
   ]
  },
  {
   "cell_type": "code",
   "execution_count": 5,
   "id": "40feabb2-2390-4559-8df0-615ebbc702c5",
   "metadata": {},
   "outputs": [
    {
     "name": "stdout",
     "output_type": "stream",
     "text": [
      "The value of i at 1 iteration is 0\n",
      "The value of i at 2 iteration is 1\n",
      "The value of i at 3 iteration is 2\n",
      "The value of i at 4 iteration is 3\n",
      "The value of i at 5 iteration is 4\n",
      "The value of i at 6 iteration is 5\n",
      "The value of i at 7 iteration is 6\n",
      "The value of i at 8 iteration is 7\n",
      "The value of i at 9 iteration is 8\n",
      "The value of i at 10 iteration is 9\n"
     ]
    }
   ],
   "source": [
    "# Looping in python\n",
    "## Using for loop: we want to print digits from 0 to 10 \n",
    "for i in range(10):\n",
    "    print(\"The value of i at {} iteration is {}\".format(i+1, i))\n"
   ]
  },
  {
   "cell_type": "code",
   "execution_count": 6,
   "id": "171e8fd3-46e7-488d-9245-198e9f1da8b0",
   "metadata": {},
   "outputs": [
    {
     "name": "stdout",
     "output_type": "stream",
     "text": [
      "The value of i at 1 iteration is 0\n",
      "The value of i at 2 iteration is 1\n",
      "The value of i at 3 iteration is 2\n",
      "The value of i at 4 iteration is 3\n",
      "The value of i at 5 iteration is 4\n",
      "The value of i at 6 iteration is 5\n",
      "The value of i at 7 iteration is 6\n",
      "The value of i at 8 iteration is 7\n",
      "The value of i at 9 iteration is 8\n",
      "The value of i at 10 iteration is 9\n"
     ]
    }
   ],
   "source": [
    "# we can get the same thing using while loop\n",
    "i = 0\n",
    "while i < 10:\n",
    "    print(\"The value of i at {} iteration is {}\".format(i+1, i))\n",
    "    i+=1\n",
    "    "
   ]
  },
  {
   "cell_type": "markdown",
   "id": "e3500dc1-b2a3-47f3-942f-339507084663",
   "metadata": {},
   "source": [
    "**Note we can use also <spam> Break</spam> or <spam> continue</spam> to control our loops** <br>"
   ]
  },
  {
   "cell_type": "code",
   "execution_count": 7,
   "id": "3dba433c-5fe0-4a4e-8489-ee1f6bdaeed7",
   "metadata": {},
   "outputs": [
    {
     "name": "stdout",
     "output_type": "stream",
     "text": [
      "1\n",
      "2\n",
      "3\n",
      "4\n",
      "5\n"
     ]
    }
   ],
   "source": [
    "# print the the fist 5 numbers from a loop that run 10 times\n",
    "i = 1\n",
    "while i < 10:\n",
    "    print(i)\n",
    "    if i == 5:\n",
    "        break\n",
    "    i += 1"
   ]
  },
  {
   "cell_type": "code",
   "execution_count": 8,
   "id": "8c8e52ba-5832-4c63-89ee-060bddd04900",
   "metadata": {},
   "outputs": [
    {
     "name": "stdout",
     "output_type": "stream",
     "text": [
      "1\n",
      "2\n",
      "3\n",
      "4\n",
      "6\n",
      "7\n",
      "8\n",
      "9\n",
      "10\n"
     ]
    }
   ],
   "source": [
    "# this example is with continue. This will skip 5 while printing the output\n",
    "i = 0\n",
    "while i < 10:\n",
    "    i += 1\n",
    "    if i == 5:\n",
    "        continue\n",
    "    print(i)"
   ]
  },
  {
   "cell_type": "markdown",
   "id": "a723c5b3-87c4-4880-919d-9e6e03dfb981",
   "metadata": {},
   "source": [
    "#### List, tuple and Dictionary"
   ]
  },
  {
   "cell_type": "code",
   "execution_count": 9,
   "id": "39a7a73f-c909-4cd7-aba9-d6f40f679b96",
   "metadata": {},
   "outputs": [
    {
     "name": "stdout",
     "output_type": "stream",
     "text": [
      "[]\n",
      "\n",
      "\n",
      "\n",
      "[1, 2, 3, 4]\n",
      "\n",
      "\n",
      "\n",
      "['Orange', 'Banana', 'Apple']\n",
      "\n",
      "\n",
      "\n",
      "[1, 'Pineapple', 3.14, [2, 3, 4]]\n"
     ]
    }
   ],
   "source": [
    "# List\n",
    "a = []   # an empty list\n",
    "print(a)\n",
    "\n",
    "print(\"\\n\\n\") # leave two lines blank\n",
    "b = [1,2,3,4]  # list of numbers\n",
    "print(b)\n",
    "print(\"\\n\\n\")\n",
    "fruits = ['Orange', 'Banana', \"Apple\"] # list of fruits\n",
    "print(fruits)\n",
    "\n",
    "print(\"\\n\\n\")\n",
    "# you can mix list using different datatypes\n",
    "mylist = [1, \"Pineapple\", 3.14, [2,3,4]]\n",
    "print(mylist)"
   ]
  },
  {
   "cell_type": "code",
   "execution_count": 10,
   "id": "e9daded0-8e20-4b4e-9210-c28d758b4936",
   "metadata": {},
   "outputs": [
    {
     "name": "stdout",
     "output_type": "stream",
     "text": [
      "()\n",
      "(1, 2, 3, 4, 5)\n"
     ]
    }
   ],
   "source": [
    "#Tuple\n",
    "t = ()  # an empty tuple\n",
    "print(t)\n",
    "\n",
    "\n",
    "mytuple1 = (1,2,3,4,5)\n",
    "print(mytuple1)\n"
   ]
  },
  {
   "cell_type": "code",
   "execution_count": 11,
   "id": "2daadbcb-ff0c-425b-ae46-56c95bca91b5",
   "metadata": {},
   "outputs": [
    {
     "name": "stdout",
     "output_type": "stream",
     "text": [
      "{'username': 'abdoulayegk', 'online': True, 'followers': 987}\n"
     ]
    }
   ],
   "source": [
    "## Dictionary\n",
    "dic = {}  # an empty dictionary\n",
    "\n",
    "mydic = {'username': 'abdoulayegk', 'online': True, 'followers': 987}\n",
    "print(mydic)"
   ]
  },
  {
   "cell_type": "code",
   "execution_count": 12,
   "id": "8b576c8a-c9b1-4e6f-8f54-b94f2c154921",
   "metadata": {},
   "outputs": [
    {
     "data": {
      "text/plain": [
       "'abdoulayegk'"
      ]
     },
     "execution_count": 12,
     "metadata": {},
     "output_type": "execute_result"
    }
   ],
   "source": [
    "mydic['username']"
   ]
  },
  {
   "cell_type": "code",
   "execution_count": 13,
   "id": "27fdd2ff-5a66-458c-86f9-dc24941a8650",
   "metadata": {},
   "outputs": [
    {
     "name": "stdout",
     "output_type": "stream",
     "text": [
      "987\n",
      "True\n"
     ]
    }
   ],
   "source": [
    "print(mydic['followers'])\n",
    "# Returns 987\n",
    "\n",
    "print(mydic['online'])\n",
    "# Returns True"
   ]
  },
  {
   "cell_type": "code",
   "execution_count": 14,
   "id": "d2a57240-7850-43ad-9be4-80d25da417b3",
   "metadata": {},
   "outputs": [
    {
     "name": "stdout",
     "output_type": "stream",
     "text": [
      "username is the key for the value abdoulayegk\n",
      "online is the key for the value True\n",
      "followers is the key for the value 987\n"
     ]
    }
   ],
   "source": [
    "# to print the key values pair\n",
    "for key, value in mydic.items():\n",
    "    print(key, 'is the key for the value', value)"
   ]
  },
  {
   "cell_type": "markdown",
   "id": "0094c62d-ef4a-403a-95f2-a06deebfedbc",
   "metadata": {},
   "source": [
    "Using Methods to Access Elements <br>\n",
    "In addition to using keys to access values, we can also work with some built-in methods:<br>\n",
    "\n",
    "dict.keys() isolates keys <br>\n",
    "dict.values() isolates values<br>\n",
    "dict.items() returns items in a list format of (key, value) tuple pairs<br>"
   ]
  },
  {
   "cell_type": "code",
   "execution_count": 15,
   "id": "d627f536-94cc-470b-ab9d-7f9e44c7f1fe",
   "metadata": {},
   "outputs": [
    {
     "name": "stdout",
     "output_type": "stream",
     "text": [
      "dict_keys(['username', 'online', 'followers'])\n"
     ]
    }
   ],
   "source": [
    "# To return all the keys of our dictionary\n",
    "print(mydic.keys())\n"
   ]
  },
  {
   "cell_type": "code",
   "execution_count": 16,
   "id": "5d607c21-306d-449a-9835-833954c62979",
   "metadata": {},
   "outputs": [
    {
     "name": "stdout",
     "output_type": "stream",
     "text": [
      "dict_values(['abdoulayegk', True, 987])\n"
     ]
    }
   ],
   "source": [
    "# To return the values of a dictionary\n",
    "print(mydic.values())"
   ]
  },
  {
   "cell_type": "code",
   "execution_count": 17,
   "id": "43558f0c-fc83-4d53-8573-21d153c34dd3",
   "metadata": {},
   "outputs": [
    {
     "name": "stdout",
     "output_type": "stream",
     "text": [
      "Hello Abdoulaye\n"
     ]
    }
   ],
   "source": [
    "# defining function in python\n",
    "\n",
    "def greetings(name):\n",
    "    return \"Hello \"+ name\n",
    "\n",
    "\n",
    "print(greetings(\"Abdoulaye\"))\n",
    "\n",
    "# another expample to find factorial of number\n",
    "\n",
    "# def factorial(n:int)->int:\n",
    "#     if n == 0:\n",
    "#         return 1\n",
    "#     else:\n",
    "#         return n*factorial(n-1)\n",
    "\n",
    "\n",
    "# if __name__ == '__main__':\n",
    "#     print(factorial(5))"
   ]
  },
  {
   "cell_type": "code",
   "execution_count": 18,
   "id": "b843904c-1ed1-40a3-bc79-d3f324e9abe7",
   "metadata": {},
   "outputs": [
    {
     "name": "stdout",
     "output_type": "stream",
     "text": [
      "Your name is Abdoulaye and you are 23\n"
     ]
    }
   ],
   "source": [
    "# class in python\n",
    "\n",
    "class Greetings:\n",
    "    def __init__(self, name, age):\n",
    "        self.name = name\n",
    "        self.age = age\n",
    "        \n",
    "    def greet_someone(self):\n",
    "        print(\"Your name is {} and you are {}\". format(self.name, self.age))\n",
    "\n",
    "        \n",
    "greet = Greetings(\"Abdoulaye\", 23)\n",
    "greet.greet_someone()"
   ]
  },
  {
   "cell_type": "markdown",
   "id": "52b0a900-01d7-41e2-bc93-3d5330f2630c",
   "metadata": {},
   "source": [
    "# Part 2: creation of dataframe and series in Pandas"
   ]
  },
  {
   "cell_type": "markdown",
   "id": "27581ac2-ead3-48bf-819b-f7aa311417c5",
   "metadata": {},
   "source": [
    "## What is a dataframe?\n",
    "* A **dataframe** is a **2-dimensional labeled data structure** with columns of potentially different types. You can think of it like a spreadsheet or SQL table, or a dict of Series objects. It is generally the most commonly used Pandas object. \n",
    "* Pandas borrows the concept of DataFrame from the statistical programming language R.\n",
    "* There are a lot of **different ways to read data** into a dataframe - from lists, dicts, CSVs, databases... In this example, we're loading data from a CSV file!\n",
    "\n",
    "**Let's take a look at the data to familiarize ourselves with the format and data types. In this example, I'm using some treatment data from the oncology domain, including treatment starts and the drugs patients are getting.**"
   ]
  },
  {
   "cell_type": "code",
   "execution_count": 19,
   "id": "7311d787-63bb-4ea1-ad5c-4adca8a6e402",
   "metadata": {},
   "outputs": [],
   "source": [
    "# we first import series from pandas\n",
    "from pandas import Series"
   ]
  },
  {
   "cell_type": "markdown",
   "id": "fbb54870-2cc0-41de-a801-edd5d1fd6dd2",
   "metadata": {},
   "source": [
    "- **Note we can create a series from a list**"
   ]
  },
  {
   "cell_type": "code",
   "execution_count": 20,
   "id": "8c8fd631-f85a-4e10-9d7a-a01937f1a281",
   "metadata": {},
   "outputs": [
    {
     "data": {
      "text/plain": [
       "0    20\n",
       "1    20\n",
       "2    30\n",
       "3    40\n",
       "dtype: int64"
      ]
     },
     "execution_count": 20,
     "metadata": {},
     "output_type": "execute_result"
    }
   ],
   "source": [
    "# let's first creat a serie\n",
    "s = Series([20,20,30,40])\n",
    "s"
   ]
  },
  {
   "cell_type": "code",
   "execution_count": 21,
   "id": "582a88cb-c239-4e14-a858-9b1f8861dd4e",
   "metadata": {},
   "outputs": [
    {
     "data": {
      "text/plain": [
       "a    12\n",
       "b    13\n",
       "c     7\n",
       "d    80\n",
       "e    95\n",
       "dtype: int64"
      ]
     },
     "execution_count": 21,
     "metadata": {},
     "output_type": "execute_result"
    }
   ],
   "source": [
    "# you can also et your own index because the default index start from 0 till n\n",
    "ss = Series([12,13,7,80,95], index=list('abcde'))# not we can use index=['a','b',..]\n",
    "ss"
   ]
  },
  {
   "cell_type": "markdown",
   "id": "1bb2c24f-bf65-4e11-b709-432589739874",
   "metadata": {},
   "source": [
    "- **Note that the datatype int64 can take up to 2^64**"
   ]
  },
  {
   "cell_type": "code",
   "execution_count": 22,
   "id": "ae0888d4-c802-48e3-b1c3-809156e1e3a9",
   "metadata": {},
   "outputs": [
    {
     "data": {
      "text/plain": [
       "a     20.5\n",
       "b     12.0\n",
       "c     34.0\n",
       "d     56.0\n",
       "e    100.0\n",
       "dtype: float64"
      ]
     },
     "execution_count": 22,
     "metadata": {},
     "output_type": "execute_result"
    }
   ],
   "source": [
    "# you can also change the datatype to float or unsigned int\n",
    "Series([20.5,12,34,56,100], index=['a','b','c','d','e'],)"
   ]
  },
  {
   "cell_type": "code",
   "execution_count": 23,
   "id": "f63dc327-e6ba-43bc-82a3-e27f05258ee6",
   "metadata": {},
   "outputs": [
    {
     "data": {
      "text/plain": [
       "10     5\n",
       "11     3\n",
       "12     7\n",
       "13     8\n",
       "14    19\n",
       "dtype: int64"
      ]
     },
     "execution_count": 23,
     "metadata": {},
     "output_type": "execute_result"
    }
   ],
   "source": [
    "# we can use index of integer of our choice for that we use the range function\n",
    "ex1 = Series([5,3,7,8,19], index=range(10,15))\n",
    "ex1"
   ]
  },
  {
   "cell_type": "markdown",
   "id": "37797f1e-0ba9-40b4-b6c9-dc69df494b8e",
   "metadata": {},
   "source": [
    "## Sclicing series"
   ]
  },
  {
   "cell_type": "code",
   "execution_count": 24,
   "id": "922d9736-b687-4871-8ffb-196beac877a8",
   "metadata": {},
   "outputs": [
    {
     "data": {
      "text/plain": [
       "5"
      ]
     },
     "execution_count": 24,
     "metadata": {},
     "output_type": "execute_result"
    }
   ],
   "source": [
    "# using the above example we want to get the value at index 10 we can do following\n",
    "ex1[10] # output should be 5"
   ]
  },
  {
   "cell_type": "code",
   "execution_count": 25,
   "id": "3ac62698-fc93-42e8-ab92-e22f3f7d1213",
   "metadata": {},
   "outputs": [
    {
     "name": "stdout",
     "output_type": "stream",
     "text": [
      "a    12\n",
      "b    13\n",
      "c     7\n",
      "d    80\n",
      "e    95\n",
      "dtype: int64\n",
      "Value at index e is 95\n"
     ]
    }
   ],
   "source": [
    "# using the string base index we can ge the same by using \"\" inside the bracket\n",
    "# if we want to get the value at index e we can do\n",
    "print(ss)\n",
    "print(\"Value at index e is {}\".format(ss['e']))"
   ]
  },
  {
   "cell_type": "code",
   "execution_count": 26,
   "id": "2662e17f-5489-41d1-8142-6a3a5ee58fba",
   "metadata": {},
   "outputs": [
    {
     "data": {
      "text/plain": [
       "a     12\n",
       "b     13\n",
       "c      7\n",
       "d     80\n",
       "e     95\n",
       "f    200\n",
       "dtype: int64"
      ]
     },
     "execution_count": 26,
     "metadata": {},
     "output_type": "execute_result"
    }
   ],
   "source": [
    "# you can also add element to your series. Let's say I want to add 200 in ss\n",
    "ss['f'] = 200\n",
    "ss"
   ]
  },
  {
   "cell_type": "code",
   "execution_count": 27,
   "id": "856dcf6b-8332-4795-a658-6621bf98f0b3",
   "metadata": {},
   "outputs": [
    {
     "data": {
      "text/plain": [
       "a    False\n",
       "b     True\n",
       "c    False\n",
       "d     True\n",
       "e     True\n",
       "f     True\n",
       "dtype: bool"
      ]
     },
     "execution_count": 27,
     "metadata": {},
     "output_type": "execute_result"
    }
   ],
   "source": [
    "# use can use comparaison operatiors on series\n",
    "ss>12"
   ]
  },
  {
   "cell_type": "code",
   "execution_count": 28,
   "id": "46fce87a-d38f-4cd4-bbcd-065887cdcba7",
   "metadata": {},
   "outputs": [
    {
     "data": {
      "text/plain": [
       "b     13\n",
       "d     80\n",
       "e     95\n",
       "f    200\n",
       "dtype: int64"
      ]
     },
     "execution_count": 28,
     "metadata": {},
     "output_type": "execute_result"
    }
   ],
   "source": [
    "# To make look nice and more readable this will return a series of integer\n",
    "ss[ss>12]"
   ]
  },
  {
   "cell_type": "code",
   "execution_count": 29,
   "id": "13cca2b4-5c2b-43eb-b1dd-b1c3fe92d207",
   "metadata": {},
   "outputs": [
    {
     "name": "stdout",
     "output_type": "stream",
     "text": [
      "[12, 13, 7, 80, 95, 12, 13, 7, 80, 95]\n",
      "\n",
      "\n",
      "\n",
      "a     24\n",
      "b     26\n",
      "c     14\n",
      "d    160\n",
      "e    190\n",
      "f    400\n",
      "dtype: int64\n"
     ]
    }
   ],
   "source": [
    "# What will be difference between the following two lines\n",
    "\n",
    "l = [12,13,7,80,95]*2\n",
    "print(l)\n",
    "print(\"\\n\\n\")\n",
    "\n",
    "print(ss*2) "
   ]
  },
  {
   "cell_type": "markdown",
   "id": "f7ee917f-2b82-4864-9078-de9b6a79987b",
   "metadata": {},
   "source": [
    "### Dataframe"
   ]
  },
  {
   "cell_type": "code",
   "execution_count": 30,
   "id": "264b3e03-f4a5-4fc9-8716-5ea7564bea07",
   "metadata": {},
   "outputs": [],
   "source": [
    "from pandas import DataFrame"
   ]
  },
  {
   "cell_type": "code",
   "execution_count": 31,
   "id": "7e6353ee-08a4-464e-a5ec-6c925653e93d",
   "metadata": {},
   "outputs": [
    {
     "data": {
      "text/html": [
       "<div>\n",
       "<style scoped>\n",
       "    .dataframe tbody tr th:only-of-type {\n",
       "        vertical-align: middle;\n",
       "    }\n",
       "\n",
       "    .dataframe tbody tr th {\n",
       "        vertical-align: top;\n",
       "    }\n",
       "\n",
       "    .dataframe thead th {\n",
       "        text-align: right;\n",
       "    }\n",
       "</style>\n",
       "<table border=\"1\" class=\"dataframe\">\n",
       "  <thead>\n",
       "    <tr style=\"text-align: right;\">\n",
       "      <th></th>\n",
       "      <th>capital</th>\n",
       "      <th>year</th>\n",
       "      <th>pop</th>\n",
       "    </tr>\n",
       "  </thead>\n",
       "  <tbody>\n",
       "    <tr>\n",
       "      <th>0</th>\n",
       "      <td>Delhi</td>\n",
       "      <td>2001</td>\n",
       "      <td>2.45</td>\n",
       "    </tr>\n",
       "    <tr>\n",
       "      <th>1</th>\n",
       "      <td>Delhi</td>\n",
       "      <td>2004</td>\n",
       "      <td>2.99</td>\n",
       "    </tr>\n",
       "    <tr>\n",
       "      <th>2</th>\n",
       "      <td>Delhi</td>\n",
       "      <td>2007</td>\n",
       "      <td>3.01</td>\n",
       "    </tr>\n",
       "    <tr>\n",
       "      <th>3</th>\n",
       "      <td>Delhi</td>\n",
       "      <td>20010</td>\n",
       "      <td>3.50</td>\n",
       "    </tr>\n",
       "    <tr>\n",
       "      <th>4</th>\n",
       "      <td>Delhi</td>\n",
       "      <td>2015</td>\n",
       "      <td>4.24</td>\n",
       "    </tr>\n",
       "    <tr>\n",
       "      <th>5</th>\n",
       "      <td>Guinea</td>\n",
       "      <td>2001</td>\n",
       "      <td>2.47</td>\n",
       "    </tr>\n",
       "    <tr>\n",
       "      <th>6</th>\n",
       "      <td>Guinea</td>\n",
       "      <td>2005</td>\n",
       "      <td>2.73</td>\n",
       "    </tr>\n",
       "    <tr>\n",
       "      <th>7</th>\n",
       "      <td>Guinea</td>\n",
       "      <td>2008</td>\n",
       "      <td>2.85</td>\n",
       "    </tr>\n",
       "    <tr>\n",
       "      <th>8</th>\n",
       "      <td>Guinea</td>\n",
       "      <td>2011</td>\n",
       "      <td>2.99</td>\n",
       "    </tr>\n",
       "    <tr>\n",
       "      <th>9</th>\n",
       "      <td>Guinea</td>\n",
       "      <td>2019</td>\n",
       "      <td>3.11</td>\n",
       "    </tr>\n",
       "    <tr>\n",
       "      <th>10</th>\n",
       "      <td>washington</td>\n",
       "      <td>2001</td>\n",
       "      <td>2.11</td>\n",
       "    </tr>\n",
       "    <tr>\n",
       "      <th>11</th>\n",
       "      <td>washington</td>\n",
       "      <td>2003</td>\n",
       "      <td>3.00</td>\n",
       "    </tr>\n",
       "    <tr>\n",
       "      <th>12</th>\n",
       "      <td>washington</td>\n",
       "      <td>2007</td>\n",
       "      <td>3.67</td>\n",
       "    </tr>\n",
       "    <tr>\n",
       "      <th>13</th>\n",
       "      <td>washington</td>\n",
       "      <td>2009</td>\n",
       "      <td>3.73</td>\n",
       "    </tr>\n",
       "    <tr>\n",
       "      <th>14</th>\n",
       "      <td>washington</td>\n",
       "      <td>2017</td>\n",
       "      <td>3.97</td>\n",
       "    </tr>\n",
       "  </tbody>\n",
       "</table>\n",
       "</div>"
      ],
      "text/plain": [
       "       capital   year   pop\n",
       "0        Delhi   2001  2.45\n",
       "1        Delhi   2004  2.99\n",
       "2        Delhi   2007  3.01\n",
       "3        Delhi  20010  3.50\n",
       "4        Delhi   2015  4.24\n",
       "5       Guinea   2001  2.47\n",
       "6       Guinea   2005  2.73\n",
       "7       Guinea   2008  2.85\n",
       "8       Guinea   2011  2.99\n",
       "9       Guinea   2019  3.11\n",
       "10  washington   2001  2.11\n",
       "11  washington   2003  3.00\n",
       "12  washington   2007  3.67\n",
       "13  washington   2009  3.73\n",
       "14  washington   2017  3.97"
      ]
     },
     "execution_count": 31,
     "metadata": {},
     "output_type": "execute_result"
    }
   ],
   "source": [
    "data = {\n",
    "    'capital':['Delhi', 'Delhi', 'Delhi', 'Delhi','Delhi',\n",
    "                'Guinea', 'Guinea', 'Guinea', 'Guinea','Guinea',\n",
    "                'washington', 'washington', 'washington', 'washington','washington'],\n",
    "    'year':[2001, 2004, 2007, 20010, 2015,\n",
    "            2001, 2005, 2008, 2011,2019,\n",
    "            2001, 2003, 2007, 2009, 2017  \n",
    "           ],\n",
    "    'pop':[2.45, 2.99, 3.01, 3.50, 4.24,\n",
    "          2.47, 2.73, 2.85,2.99, 3.11,\n",
    "          2.11, 3.00, 3.67, 3.73, 3.97]\n",
    "    \n",
    "    \n",
    "}\n",
    "\n",
    "df = DataFrame(data)\n",
    "df"
   ]
  },
  {
   "cell_type": "code",
   "execution_count": 32,
   "id": "eb712bf6-9dac-4832-b31e-091f63ea4616",
   "metadata": {},
   "outputs": [
    {
     "data": {
      "text/html": [
       "<div>\n",
       "<style scoped>\n",
       "    .dataframe tbody tr th:only-of-type {\n",
       "        vertical-align: middle;\n",
       "    }\n",
       "\n",
       "    .dataframe tbody tr th {\n",
       "        vertical-align: top;\n",
       "    }\n",
       "\n",
       "    .dataframe thead th {\n",
       "        text-align: right;\n",
       "    }\n",
       "</style>\n",
       "<table border=\"1\" class=\"dataframe\">\n",
       "  <thead>\n",
       "    <tr style=\"text-align: right;\">\n",
       "      <th></th>\n",
       "      <th>capital</th>\n",
       "      <th>year</th>\n",
       "      <th>pop</th>\n",
       "    </tr>\n",
       "  </thead>\n",
       "  <tbody>\n",
       "    <tr>\n",
       "      <th>0</th>\n",
       "      <td>Delhi</td>\n",
       "      <td>2001</td>\n",
       "      <td>2.45</td>\n",
       "    </tr>\n",
       "    <tr>\n",
       "      <th>1</th>\n",
       "      <td>Delhi</td>\n",
       "      <td>2004</td>\n",
       "      <td>2.99</td>\n",
       "    </tr>\n",
       "    <tr>\n",
       "      <th>2</th>\n",
       "      <td>Delhi</td>\n",
       "      <td>2007</td>\n",
       "      <td>3.01</td>\n",
       "    </tr>\n",
       "    <tr>\n",
       "      <th>3</th>\n",
       "      <td>Delhi</td>\n",
       "      <td>20010</td>\n",
       "      <td>3.50</td>\n",
       "    </tr>\n",
       "    <tr>\n",
       "      <th>4</th>\n",
       "      <td>Delhi</td>\n",
       "      <td>2015</td>\n",
       "      <td>4.24</td>\n",
       "    </tr>\n",
       "    <tr>\n",
       "      <th>10</th>\n",
       "      <td>washington</td>\n",
       "      <td>2001</td>\n",
       "      <td>2.11</td>\n",
       "    </tr>\n",
       "    <tr>\n",
       "      <th>11</th>\n",
       "      <td>washington</td>\n",
       "      <td>2003</td>\n",
       "      <td>3.00</td>\n",
       "    </tr>\n",
       "    <tr>\n",
       "      <th>12</th>\n",
       "      <td>washington</td>\n",
       "      <td>2007</td>\n",
       "      <td>3.67</td>\n",
       "    </tr>\n",
       "    <tr>\n",
       "      <th>13</th>\n",
       "      <td>washington</td>\n",
       "      <td>2009</td>\n",
       "      <td>3.73</td>\n",
       "    </tr>\n",
       "    <tr>\n",
       "      <th>14</th>\n",
       "      <td>washington</td>\n",
       "      <td>2017</td>\n",
       "      <td>3.97</td>\n",
       "    </tr>\n",
       "  </tbody>\n",
       "</table>\n",
       "</div>"
      ],
      "text/plain": [
       "       capital   year   pop\n",
       "0        Delhi   2001  2.45\n",
       "1        Delhi   2004  2.99\n",
       "2        Delhi   2007  3.01\n",
       "3        Delhi  20010  3.50\n",
       "4        Delhi   2015  4.24\n",
       "10  washington   2001  2.11\n",
       "11  washington   2003  3.00\n",
       "12  washington   2007  3.67\n",
       "13  washington   2009  3.73\n",
       "14  washington   2017  3.97"
      ]
     },
     "execution_count": 32,
     "metadata": {},
     "output_type": "execute_result"
    }
   ],
   "source": [
    "# we can see the capital whcich are not guinea\n",
    "df[df['capital'] !='Guinea']"
   ]
  },
  {
   "cell_type": "code",
   "execution_count": 33,
   "id": "4dadab51-5d2b-49ad-8802-34459ff9fc45",
   "metadata": {},
   "outputs": [
    {
     "data": {
      "text/html": [
       "<div>\n",
       "<style scoped>\n",
       "    .dataframe tbody tr th:only-of-type {\n",
       "        vertical-align: middle;\n",
       "    }\n",
       "\n",
       "    .dataframe tbody tr th {\n",
       "        vertical-align: top;\n",
       "    }\n",
       "\n",
       "    .dataframe thead th {\n",
       "        text-align: right;\n",
       "    }\n",
       "</style>\n",
       "<table border=\"1\" class=\"dataframe\">\n",
       "  <thead>\n",
       "    <tr style=\"text-align: right;\">\n",
       "      <th></th>\n",
       "      <th>capital</th>\n",
       "      <th>year</th>\n",
       "      <th>pop</th>\n",
       "    </tr>\n",
       "  </thead>\n",
       "  <tbody>\n",
       "    <tr>\n",
       "      <th>3</th>\n",
       "      <td>Delhi</td>\n",
       "      <td>20010</td>\n",
       "      <td>3.50</td>\n",
       "    </tr>\n",
       "    <tr>\n",
       "      <th>4</th>\n",
       "      <td>Delhi</td>\n",
       "      <td>2015</td>\n",
       "      <td>4.24</td>\n",
       "    </tr>\n",
       "    <tr>\n",
       "      <th>8</th>\n",
       "      <td>Guinea</td>\n",
       "      <td>2011</td>\n",
       "      <td>2.99</td>\n",
       "    </tr>\n",
       "    <tr>\n",
       "      <th>9</th>\n",
       "      <td>Guinea</td>\n",
       "      <td>2019</td>\n",
       "      <td>3.11</td>\n",
       "    </tr>\n",
       "    <tr>\n",
       "      <th>14</th>\n",
       "      <td>washington</td>\n",
       "      <td>2017</td>\n",
       "      <td>3.97</td>\n",
       "    </tr>\n",
       "  </tbody>\n",
       "</table>\n",
       "</div>"
      ],
      "text/plain": [
       "       capital   year   pop\n",
       "3        Delhi  20010  3.50\n",
       "4        Delhi   2015  4.24\n",
       "8       Guinea   2011  2.99\n",
       "9       Guinea   2019  3.11\n",
       "14  washington   2017  3.97"
      ]
     },
     "execution_count": 33,
     "metadata": {},
     "output_type": "execute_result"
    }
   ],
   "source": [
    "# create a new dataframe where year is greater than 2010\n",
    "\n",
    "df[df['year']>2010]"
   ]
  },
  {
   "cell_type": "code",
   "execution_count": 34,
   "id": "1b48bef8-d0e0-404f-96f9-e9fca07bdec9",
   "metadata": {},
   "outputs": [
    {
     "data": {
      "text/plain": [
       "4"
      ]
     },
     "execution_count": 34,
     "metadata": {},
     "output_type": "execute_result"
    }
   ],
   "source": [
    "# Return the index of the maximum population on your dataset\n",
    "df['pop'].idxmax()\n",
    "\n",
    "# we can do the same for the minimum value"
   ]
  },
  {
   "cell_type": "code",
   "execution_count": 35,
   "id": "34d62e1c-bd44-46fa-bad4-44414cd2f603",
   "metadata": {},
   "outputs": [
    {
     "data": {
      "text/html": [
       "<div>\n",
       "<style scoped>\n",
       "    .dataframe tbody tr th:only-of-type {\n",
       "        vertical-align: middle;\n",
       "    }\n",
       "\n",
       "    .dataframe tbody tr th {\n",
       "        vertical-align: top;\n",
       "    }\n",
       "\n",
       "    .dataframe thead th {\n",
       "        text-align: right;\n",
       "    }\n",
       "</style>\n",
       "<table border=\"1\" class=\"dataframe\">\n",
       "  <thead>\n",
       "    <tr style=\"text-align: right;\">\n",
       "      <th></th>\n",
       "      <th>capital</th>\n",
       "      <th>year</th>\n",
       "    </tr>\n",
       "  </thead>\n",
       "  <tbody>\n",
       "    <tr>\n",
       "      <th>0</th>\n",
       "      <td>Delhi</td>\n",
       "      <td>2001</td>\n",
       "    </tr>\n",
       "    <tr>\n",
       "      <th>1</th>\n",
       "      <td>Delhi</td>\n",
       "      <td>2004</td>\n",
       "    </tr>\n",
       "    <tr>\n",
       "      <th>2</th>\n",
       "      <td>Delhi</td>\n",
       "      <td>2007</td>\n",
       "    </tr>\n",
       "    <tr>\n",
       "      <th>3</th>\n",
       "      <td>Delhi</td>\n",
       "      <td>20010</td>\n",
       "    </tr>\n",
       "    <tr>\n",
       "      <th>4</th>\n",
       "      <td>Delhi</td>\n",
       "      <td>2015</td>\n",
       "    </tr>\n",
       "  </tbody>\n",
       "</table>\n",
       "</div>"
      ],
      "text/plain": [
       "  capital   year\n",
       "0   Delhi   2001\n",
       "1   Delhi   2004\n",
       "2   Delhi   2007\n",
       "3   Delhi  20010\n",
       "4   Delhi   2015"
      ]
     },
     "execution_count": 35,
     "metadata": {},
     "output_type": "execute_result"
    }
   ],
   "source": [
    "# we can also slice a dataframe for example if we want to capital and year only we can do following\n",
    "\n",
    "df[['capital','year']].head() # the head function will return the first 5 rows of your dataframe"
   ]
  },
  {
   "cell_type": "code",
   "execution_count": 36,
   "id": "2f7760a7-69e3-4133-b8af-12f723c5ad8c",
   "metadata": {},
   "outputs": [
    {
     "data": {
      "text/html": [
       "<div>\n",
       "<style scoped>\n",
       "    .dataframe tbody tr th:only-of-type {\n",
       "        vertical-align: middle;\n",
       "    }\n",
       "\n",
       "    .dataframe tbody tr th {\n",
       "        vertical-align: top;\n",
       "    }\n",
       "\n",
       "    .dataframe thead th {\n",
       "        text-align: right;\n",
       "    }\n",
       "</style>\n",
       "<table border=\"1\" class=\"dataframe\">\n",
       "  <thead>\n",
       "    <tr style=\"text-align: right;\">\n",
       "      <th></th>\n",
       "      <th>capital</th>\n",
       "      <th>year</th>\n",
       "      <th>pop</th>\n",
       "    </tr>\n",
       "  </thead>\n",
       "  <tbody>\n",
       "    <tr>\n",
       "      <th>6</th>\n",
       "      <td>Guinea</td>\n",
       "      <td>2005</td>\n",
       "      <td>2.73</td>\n",
       "    </tr>\n",
       "    <tr>\n",
       "      <th>8</th>\n",
       "      <td>Guinea</td>\n",
       "      <td>2011</td>\n",
       "      <td>2.99</td>\n",
       "    </tr>\n",
       "    <tr>\n",
       "      <th>4</th>\n",
       "      <td>Delhi</td>\n",
       "      <td>2015</td>\n",
       "      <td>4.24</td>\n",
       "    </tr>\n",
       "    <tr>\n",
       "      <th>1</th>\n",
       "      <td>Delhi</td>\n",
       "      <td>2004</td>\n",
       "      <td>2.99</td>\n",
       "    </tr>\n",
       "    <tr>\n",
       "      <th>12</th>\n",
       "      <td>washington</td>\n",
       "      <td>2007</td>\n",
       "      <td>3.67</td>\n",
       "    </tr>\n",
       "  </tbody>\n",
       "</table>\n",
       "</div>"
      ],
      "text/plain": [
       "       capital  year   pop\n",
       "6       Guinea  2005  2.73\n",
       "8       Guinea  2011  2.99\n",
       "4        Delhi  2015  4.24\n",
       "1        Delhi  2004  2.99\n",
       "12  washington  2007  3.67"
      ]
     },
     "execution_count": 36,
     "metadata": {},
     "output_type": "execute_result"
    }
   ],
   "source": [
    "# we can also use sample to get ramdom sample from our dataframe\n",
    "# when you use sample you just need to specify the number of sample you want from the dataset\n",
    "\n",
    "df.sample(5)"
   ]
  },
  {
   "cell_type": "markdown",
   "id": "ffe64b98-6c01-46c4-94d4-b2841c34a83d",
   "metadata": {},
   "source": [
    "# Part 3: Loading and inspecting the data (csv)\n",
    "\n",
    "Before we can start answering questions about the data we need to do a little bit of exploratory analysis.The first thing we need to do when working with a new dataset is to get an idea of what the data looks like. We start by loading the data into memory. Pandas comes with a built-in `read_csv` function that we can use to read CSV files and load them directly to a pandas `DataFrame` object. \n",
    "- **Note the dataset is on my github account** [dataset](https://raw.githubusercontent.com/abdoulayegk/ml-workshop/main/kidney_disease.csv)"
   ]
  },
  {
   "cell_type": "code",
   "execution_count": 122,
   "id": "3f4e14d7-ae47-4c78-b6b7-1c20618ecb80",
   "metadata": {},
   "outputs": [],
   "source": [
    "# We need to import the libraries to start with\n",
    "import pandas as pd\n",
    "import matplotlib.pyplot as plt\n",
    "import seaborn as sns\n",
    "import numpy as np\n",
    "import missingno as ms\n",
    "import warnings\n",
    "warnings.filterwarnings('ignore')\n",
    "# This command makes charts show inline in a notebook\n",
    "%matplotlib inline\n",
    "plt.style.use('ggplot')\n",
    "\n",
    "# Making the figures show up a little larger than default size\n",
    "plt.rcParams['figure.figsize'] = [10,6]"
   ]
  },
  {
   "cell_type": "markdown",
   "id": "d0a2df99-48b1-40b1-8bd6-e02874ea70f9",
   "metadata": {},
   "source": [
    "### Loading real world dataset"
   ]
  },
  {
   "cell_type": "code",
   "execution_count": 123,
   "id": "fc38bea1-528f-445e-90dc-45527bf5237f",
   "metadata": {},
   "outputs": [],
   "source": [
    "# Read data from a CSV into a dataframe\n",
    "# This is the data we're going to be working with!\n",
    "df = pd.read_csv(\"kidney_disease.csv\")\n"
   ]
  },
  {
   "cell_type": "code",
   "execution_count": 124,
   "id": "b16bd6ac-db3a-4c80-abd8-d07c1997b295",
   "metadata": {},
   "outputs": [
    {
     "data": {
      "text/html": [
       "<div>\n",
       "<style scoped>\n",
       "    .dataframe tbody tr th:only-of-type {\n",
       "        vertical-align: middle;\n",
       "    }\n",
       "\n",
       "    .dataframe tbody tr th {\n",
       "        vertical-align: top;\n",
       "    }\n",
       "\n",
       "    .dataframe thead th {\n",
       "        text-align: right;\n",
       "    }\n",
       "</style>\n",
       "<table border=\"1\" class=\"dataframe\">\n",
       "  <thead>\n",
       "    <tr style=\"text-align: right;\">\n",
       "      <th></th>\n",
       "      <th>id</th>\n",
       "      <th>age</th>\n",
       "      <th>bp</th>\n",
       "      <th>sg</th>\n",
       "      <th>al</th>\n",
       "      <th>su</th>\n",
       "      <th>rbc</th>\n",
       "      <th>pc</th>\n",
       "      <th>pcc</th>\n",
       "      <th>ba</th>\n",
       "      <th>...</th>\n",
       "      <th>pcv</th>\n",
       "      <th>wc</th>\n",
       "      <th>rc</th>\n",
       "      <th>htn</th>\n",
       "      <th>dm</th>\n",
       "      <th>cad</th>\n",
       "      <th>appet</th>\n",
       "      <th>pe</th>\n",
       "      <th>ane</th>\n",
       "      <th>classification</th>\n",
       "    </tr>\n",
       "  </thead>\n",
       "  <tbody>\n",
       "    <tr>\n",
       "      <th>0</th>\n",
       "      <td>0</td>\n",
       "      <td>48.0</td>\n",
       "      <td>80.0</td>\n",
       "      <td>1.020</td>\n",
       "      <td>1.0</td>\n",
       "      <td>0.0</td>\n",
       "      <td>NaN</td>\n",
       "      <td>normal</td>\n",
       "      <td>notpresent</td>\n",
       "      <td>notpresent</td>\n",
       "      <td>...</td>\n",
       "      <td>44</td>\n",
       "      <td>7800</td>\n",
       "      <td>5.2</td>\n",
       "      <td>yes</td>\n",
       "      <td>yes</td>\n",
       "      <td>no</td>\n",
       "      <td>good</td>\n",
       "      <td>no</td>\n",
       "      <td>no</td>\n",
       "      <td>ckd</td>\n",
       "    </tr>\n",
       "    <tr>\n",
       "      <th>1</th>\n",
       "      <td>1</td>\n",
       "      <td>7.0</td>\n",
       "      <td>50.0</td>\n",
       "      <td>1.020</td>\n",
       "      <td>4.0</td>\n",
       "      <td>0.0</td>\n",
       "      <td>NaN</td>\n",
       "      <td>normal</td>\n",
       "      <td>notpresent</td>\n",
       "      <td>notpresent</td>\n",
       "      <td>...</td>\n",
       "      <td>38</td>\n",
       "      <td>6000</td>\n",
       "      <td>NaN</td>\n",
       "      <td>no</td>\n",
       "      <td>no</td>\n",
       "      <td>no</td>\n",
       "      <td>good</td>\n",
       "      <td>no</td>\n",
       "      <td>no</td>\n",
       "      <td>ckd</td>\n",
       "    </tr>\n",
       "    <tr>\n",
       "      <th>2</th>\n",
       "      <td>2</td>\n",
       "      <td>62.0</td>\n",
       "      <td>80.0</td>\n",
       "      <td>1.010</td>\n",
       "      <td>2.0</td>\n",
       "      <td>3.0</td>\n",
       "      <td>normal</td>\n",
       "      <td>normal</td>\n",
       "      <td>notpresent</td>\n",
       "      <td>notpresent</td>\n",
       "      <td>...</td>\n",
       "      <td>31</td>\n",
       "      <td>7500</td>\n",
       "      <td>NaN</td>\n",
       "      <td>no</td>\n",
       "      <td>yes</td>\n",
       "      <td>no</td>\n",
       "      <td>poor</td>\n",
       "      <td>no</td>\n",
       "      <td>yes</td>\n",
       "      <td>ckd</td>\n",
       "    </tr>\n",
       "    <tr>\n",
       "      <th>3</th>\n",
       "      <td>3</td>\n",
       "      <td>48.0</td>\n",
       "      <td>70.0</td>\n",
       "      <td>1.005</td>\n",
       "      <td>4.0</td>\n",
       "      <td>0.0</td>\n",
       "      <td>normal</td>\n",
       "      <td>abnormal</td>\n",
       "      <td>present</td>\n",
       "      <td>notpresent</td>\n",
       "      <td>...</td>\n",
       "      <td>32</td>\n",
       "      <td>6700</td>\n",
       "      <td>3.9</td>\n",
       "      <td>yes</td>\n",
       "      <td>no</td>\n",
       "      <td>no</td>\n",
       "      <td>poor</td>\n",
       "      <td>yes</td>\n",
       "      <td>yes</td>\n",
       "      <td>ckd</td>\n",
       "    </tr>\n",
       "    <tr>\n",
       "      <th>4</th>\n",
       "      <td>4</td>\n",
       "      <td>51.0</td>\n",
       "      <td>80.0</td>\n",
       "      <td>1.010</td>\n",
       "      <td>2.0</td>\n",
       "      <td>0.0</td>\n",
       "      <td>normal</td>\n",
       "      <td>normal</td>\n",
       "      <td>notpresent</td>\n",
       "      <td>notpresent</td>\n",
       "      <td>...</td>\n",
       "      <td>35</td>\n",
       "      <td>7300</td>\n",
       "      <td>4.6</td>\n",
       "      <td>no</td>\n",
       "      <td>no</td>\n",
       "      <td>no</td>\n",
       "      <td>good</td>\n",
       "      <td>no</td>\n",
       "      <td>no</td>\n",
       "      <td>ckd</td>\n",
       "    </tr>\n",
       "    <tr>\n",
       "      <th>...</th>\n",
       "      <td>...</td>\n",
       "      <td>...</td>\n",
       "      <td>...</td>\n",
       "      <td>...</td>\n",
       "      <td>...</td>\n",
       "      <td>...</td>\n",
       "      <td>...</td>\n",
       "      <td>...</td>\n",
       "      <td>...</td>\n",
       "      <td>...</td>\n",
       "      <td>...</td>\n",
       "      <td>...</td>\n",
       "      <td>...</td>\n",
       "      <td>...</td>\n",
       "      <td>...</td>\n",
       "      <td>...</td>\n",
       "      <td>...</td>\n",
       "      <td>...</td>\n",
       "      <td>...</td>\n",
       "      <td>...</td>\n",
       "      <td>...</td>\n",
       "    </tr>\n",
       "    <tr>\n",
       "      <th>395</th>\n",
       "      <td>395</td>\n",
       "      <td>55.0</td>\n",
       "      <td>80.0</td>\n",
       "      <td>1.020</td>\n",
       "      <td>0.0</td>\n",
       "      <td>0.0</td>\n",
       "      <td>normal</td>\n",
       "      <td>normal</td>\n",
       "      <td>notpresent</td>\n",
       "      <td>notpresent</td>\n",
       "      <td>...</td>\n",
       "      <td>47</td>\n",
       "      <td>6700</td>\n",
       "      <td>4.9</td>\n",
       "      <td>no</td>\n",
       "      <td>no</td>\n",
       "      <td>no</td>\n",
       "      <td>good</td>\n",
       "      <td>no</td>\n",
       "      <td>no</td>\n",
       "      <td>notckd</td>\n",
       "    </tr>\n",
       "    <tr>\n",
       "      <th>396</th>\n",
       "      <td>396</td>\n",
       "      <td>42.0</td>\n",
       "      <td>70.0</td>\n",
       "      <td>1.025</td>\n",
       "      <td>0.0</td>\n",
       "      <td>0.0</td>\n",
       "      <td>normal</td>\n",
       "      <td>normal</td>\n",
       "      <td>notpresent</td>\n",
       "      <td>notpresent</td>\n",
       "      <td>...</td>\n",
       "      <td>54</td>\n",
       "      <td>7800</td>\n",
       "      <td>6.2</td>\n",
       "      <td>no</td>\n",
       "      <td>no</td>\n",
       "      <td>no</td>\n",
       "      <td>good</td>\n",
       "      <td>no</td>\n",
       "      <td>no</td>\n",
       "      <td>notckd</td>\n",
       "    </tr>\n",
       "    <tr>\n",
       "      <th>397</th>\n",
       "      <td>397</td>\n",
       "      <td>12.0</td>\n",
       "      <td>80.0</td>\n",
       "      <td>1.020</td>\n",
       "      <td>0.0</td>\n",
       "      <td>0.0</td>\n",
       "      <td>normal</td>\n",
       "      <td>normal</td>\n",
       "      <td>notpresent</td>\n",
       "      <td>notpresent</td>\n",
       "      <td>...</td>\n",
       "      <td>49</td>\n",
       "      <td>6600</td>\n",
       "      <td>5.4</td>\n",
       "      <td>no</td>\n",
       "      <td>no</td>\n",
       "      <td>no</td>\n",
       "      <td>good</td>\n",
       "      <td>no</td>\n",
       "      <td>no</td>\n",
       "      <td>notckd</td>\n",
       "    </tr>\n",
       "    <tr>\n",
       "      <th>398</th>\n",
       "      <td>398</td>\n",
       "      <td>17.0</td>\n",
       "      <td>60.0</td>\n",
       "      <td>1.025</td>\n",
       "      <td>0.0</td>\n",
       "      <td>0.0</td>\n",
       "      <td>normal</td>\n",
       "      <td>normal</td>\n",
       "      <td>notpresent</td>\n",
       "      <td>notpresent</td>\n",
       "      <td>...</td>\n",
       "      <td>51</td>\n",
       "      <td>7200</td>\n",
       "      <td>5.9</td>\n",
       "      <td>no</td>\n",
       "      <td>no</td>\n",
       "      <td>no</td>\n",
       "      <td>good</td>\n",
       "      <td>no</td>\n",
       "      <td>no</td>\n",
       "      <td>notckd</td>\n",
       "    </tr>\n",
       "    <tr>\n",
       "      <th>399</th>\n",
       "      <td>399</td>\n",
       "      <td>58.0</td>\n",
       "      <td>80.0</td>\n",
       "      <td>1.025</td>\n",
       "      <td>0.0</td>\n",
       "      <td>0.0</td>\n",
       "      <td>normal</td>\n",
       "      <td>normal</td>\n",
       "      <td>notpresent</td>\n",
       "      <td>notpresent</td>\n",
       "      <td>...</td>\n",
       "      <td>53</td>\n",
       "      <td>6800</td>\n",
       "      <td>6.1</td>\n",
       "      <td>no</td>\n",
       "      <td>no</td>\n",
       "      <td>no</td>\n",
       "      <td>good</td>\n",
       "      <td>no</td>\n",
       "      <td>no</td>\n",
       "      <td>notckd</td>\n",
       "    </tr>\n",
       "  </tbody>\n",
       "</table>\n",
       "<p>400 rows × 26 columns</p>\n",
       "</div>"
      ],
      "text/plain": [
       "      id   age    bp     sg   al   su     rbc        pc         pcc  \\\n",
       "0      0  48.0  80.0  1.020  1.0  0.0     NaN    normal  notpresent   \n",
       "1      1   7.0  50.0  1.020  4.0  0.0     NaN    normal  notpresent   \n",
       "2      2  62.0  80.0  1.010  2.0  3.0  normal    normal  notpresent   \n",
       "3      3  48.0  70.0  1.005  4.0  0.0  normal  abnormal     present   \n",
       "4      4  51.0  80.0  1.010  2.0  0.0  normal    normal  notpresent   \n",
       "..   ...   ...   ...    ...  ...  ...     ...       ...         ...   \n",
       "395  395  55.0  80.0  1.020  0.0  0.0  normal    normal  notpresent   \n",
       "396  396  42.0  70.0  1.025  0.0  0.0  normal    normal  notpresent   \n",
       "397  397  12.0  80.0  1.020  0.0  0.0  normal    normal  notpresent   \n",
       "398  398  17.0  60.0  1.025  0.0  0.0  normal    normal  notpresent   \n",
       "399  399  58.0  80.0  1.025  0.0  0.0  normal    normal  notpresent   \n",
       "\n",
       "             ba  ...  pcv    wc   rc  htn   dm  cad appet   pe  ane  \\\n",
       "0    notpresent  ...   44  7800  5.2  yes  yes   no  good   no   no   \n",
       "1    notpresent  ...   38  6000  NaN   no   no   no  good   no   no   \n",
       "2    notpresent  ...   31  7500  NaN   no  yes   no  poor   no  yes   \n",
       "3    notpresent  ...   32  6700  3.9  yes   no   no  poor  yes  yes   \n",
       "4    notpresent  ...   35  7300  4.6   no   no   no  good   no   no   \n",
       "..          ...  ...  ...   ...  ...  ...  ...  ...   ...  ...  ...   \n",
       "395  notpresent  ...   47  6700  4.9   no   no   no  good   no   no   \n",
       "396  notpresent  ...   54  7800  6.2   no   no   no  good   no   no   \n",
       "397  notpresent  ...   49  6600  5.4   no   no   no  good   no   no   \n",
       "398  notpresent  ...   51  7200  5.9   no   no   no  good   no   no   \n",
       "399  notpresent  ...   53  6800  6.1   no   no   no  good   no   no   \n",
       "\n",
       "    classification  \n",
       "0              ckd  \n",
       "1              ckd  \n",
       "2              ckd  \n",
       "3              ckd  \n",
       "4              ckd  \n",
       "..             ...  \n",
       "395         notckd  \n",
       "396         notckd  \n",
       "397         notckd  \n",
       "398         notckd  \n",
       "399         notckd  \n",
       "\n",
       "[400 rows x 26 columns]"
      ]
     },
     "execution_count": 124,
     "metadata": {},
     "output_type": "execute_result"
    }
   ],
   "source": [
    "# Just typing the name of the dataframe will print the entire output\n",
    "# If there are too many rows, Jupyter will print the top few and \n",
    "# bottom few rows with a \"...\" to indicate that there are more rows\n",
    "df"
   ]
  },
  {
   "cell_type": "markdown",
   "id": "09c5f17d-02e6-403c-b1c9-19a62a834990",
   "metadata": {},
   "source": [
    "# Data Set Information:\n",
    "\n",
    "We use the following representation to collect the dataset \n",
    "1. age - age\n",
    "2. bp - blood pressure\n",
    "3. sg - specific gravity\n",
    "4. al - albumin\n",
    "5. su - sugar\n",
    "6. rbc - red blood cells\n",
    "7. pc - pus cell\n",
    "8. pcc - pus cell clumps\n",
    "9. ba - bacteria\n",
    "10. bgr - blood glucose random\n",
    "11. bu - blood urea\n",
    "12. sc - serum creatinine\n",
    "13. sod - sodium\n",
    "14. pot - potassium\n",
    "15. hemo - hemoglobin\n",
    "16. pcv - packed cell volume\n",
    "17. wc - white blood cell count\n",
    "18. rc - red blood cell count\n",
    "19. htn - hypertension\n",
    "20. dm - diabetes mellitus\n",
    "21. cad - coronary artery disease\n",
    "22. appet - appetite\n",
    "23. pe - pedal edema\n",
    "24. ane - anemia\n",
    "25. class - class\n",
    "26. id"
   ]
  },
  {
   "cell_type": "markdown",
   "id": "de3d000f-d54b-419d-9e62-9df4d8f39d35",
   "metadata": {},
   "source": [
    "## Inspecting a dataframe using built-in functions\n",
    "* Most operations on a dataframe happen by applying a function to it using the \".\" notation, e.g. `my_dataframe.do_something()`\n",
    "* Let's look at some simple functions that we can apply to Pandas dataframes"
   ]
  },
  {
   "cell_type": "markdown",
   "id": "ea558ba5-6f93-458a-9a37-9bc9e8b19632",
   "metadata": {},
   "source": [
    "**Note**: It is very important to give your columns name a meaningful names."
   ]
  },
  {
   "cell_type": "code",
   "execution_count": 125,
   "id": "a0b4abfc-ad14-41d7-81e1-4f3ffc4ab79b",
   "metadata": {},
   "outputs": [
    {
     "data": {
      "text/plain": [
       "['id',\n",
       " 'age',\n",
       " 'bp',\n",
       " 'sg',\n",
       " 'al',\n",
       " 'su',\n",
       " 'rbc',\n",
       " 'pc',\n",
       " 'pcc',\n",
       " 'ba',\n",
       " 'bgr',\n",
       " 'bu',\n",
       " 'sc',\n",
       " 'sod',\n",
       " 'pot',\n",
       " 'hemo',\n",
       " 'pcv',\n",
       " 'wc',\n",
       " 'rc',\n",
       " 'htn',\n",
       " 'dm',\n",
       " 'cad',\n",
       " 'appet',\n",
       " 'pe',\n",
       " 'ane',\n",
       " 'classification']"
      ]
     },
     "execution_count": 125,
     "metadata": {},
     "output_type": "execute_result"
    }
   ],
   "source": [
    "# let's see the columns name of our dataset\n",
    "df.columns.to_list()"
   ]
  },
  {
   "cell_type": "code",
   "execution_count": 126,
   "id": "5e6cc71e-f292-4f09-b0e7-5e1c4f3d88db",
   "metadata": {},
   "outputs": [
    {
     "data": {
      "text/html": [
       "<div>\n",
       "<style scoped>\n",
       "    .dataframe tbody tr th:only-of-type {\n",
       "        vertical-align: middle;\n",
       "    }\n",
       "\n",
       "    .dataframe tbody tr th {\n",
       "        vertical-align: top;\n",
       "    }\n",
       "\n",
       "    .dataframe thead th {\n",
       "        text-align: right;\n",
       "    }\n",
       "</style>\n",
       "<table border=\"1\" class=\"dataframe\">\n",
       "  <thead>\n",
       "    <tr style=\"text-align: right;\">\n",
       "      <th></th>\n",
       "      <th>id</th>\n",
       "      <th>age</th>\n",
       "      <th>bp</th>\n",
       "      <th>sg</th>\n",
       "      <th>al</th>\n",
       "      <th>su</th>\n",
       "      <th>rbc</th>\n",
       "      <th>pc</th>\n",
       "      <th>pcc</th>\n",
       "      <th>ba</th>\n",
       "      <th>...</th>\n",
       "      <th>pcv</th>\n",
       "      <th>wc</th>\n",
       "      <th>rc</th>\n",
       "      <th>htn</th>\n",
       "      <th>dm</th>\n",
       "      <th>cad</th>\n",
       "      <th>appet</th>\n",
       "      <th>pe</th>\n",
       "      <th>ane</th>\n",
       "      <th>classification</th>\n",
       "    </tr>\n",
       "  </thead>\n",
       "  <tbody>\n",
       "    <tr>\n",
       "      <th>0</th>\n",
       "      <td>0</td>\n",
       "      <td>48.0</td>\n",
       "      <td>80.0</td>\n",
       "      <td>1.020</td>\n",
       "      <td>1.0</td>\n",
       "      <td>0.0</td>\n",
       "      <td>NaN</td>\n",
       "      <td>normal</td>\n",
       "      <td>notpresent</td>\n",
       "      <td>notpresent</td>\n",
       "      <td>...</td>\n",
       "      <td>44</td>\n",
       "      <td>7800</td>\n",
       "      <td>5.2</td>\n",
       "      <td>yes</td>\n",
       "      <td>yes</td>\n",
       "      <td>no</td>\n",
       "      <td>good</td>\n",
       "      <td>no</td>\n",
       "      <td>no</td>\n",
       "      <td>ckd</td>\n",
       "    </tr>\n",
       "    <tr>\n",
       "      <th>1</th>\n",
       "      <td>1</td>\n",
       "      <td>7.0</td>\n",
       "      <td>50.0</td>\n",
       "      <td>1.020</td>\n",
       "      <td>4.0</td>\n",
       "      <td>0.0</td>\n",
       "      <td>NaN</td>\n",
       "      <td>normal</td>\n",
       "      <td>notpresent</td>\n",
       "      <td>notpresent</td>\n",
       "      <td>...</td>\n",
       "      <td>38</td>\n",
       "      <td>6000</td>\n",
       "      <td>NaN</td>\n",
       "      <td>no</td>\n",
       "      <td>no</td>\n",
       "      <td>no</td>\n",
       "      <td>good</td>\n",
       "      <td>no</td>\n",
       "      <td>no</td>\n",
       "      <td>ckd</td>\n",
       "    </tr>\n",
       "    <tr>\n",
       "      <th>2</th>\n",
       "      <td>2</td>\n",
       "      <td>62.0</td>\n",
       "      <td>80.0</td>\n",
       "      <td>1.010</td>\n",
       "      <td>2.0</td>\n",
       "      <td>3.0</td>\n",
       "      <td>normal</td>\n",
       "      <td>normal</td>\n",
       "      <td>notpresent</td>\n",
       "      <td>notpresent</td>\n",
       "      <td>...</td>\n",
       "      <td>31</td>\n",
       "      <td>7500</td>\n",
       "      <td>NaN</td>\n",
       "      <td>no</td>\n",
       "      <td>yes</td>\n",
       "      <td>no</td>\n",
       "      <td>poor</td>\n",
       "      <td>no</td>\n",
       "      <td>yes</td>\n",
       "      <td>ckd</td>\n",
       "    </tr>\n",
       "    <tr>\n",
       "      <th>3</th>\n",
       "      <td>3</td>\n",
       "      <td>48.0</td>\n",
       "      <td>70.0</td>\n",
       "      <td>1.005</td>\n",
       "      <td>4.0</td>\n",
       "      <td>0.0</td>\n",
       "      <td>normal</td>\n",
       "      <td>abnormal</td>\n",
       "      <td>present</td>\n",
       "      <td>notpresent</td>\n",
       "      <td>...</td>\n",
       "      <td>32</td>\n",
       "      <td>6700</td>\n",
       "      <td>3.9</td>\n",
       "      <td>yes</td>\n",
       "      <td>no</td>\n",
       "      <td>no</td>\n",
       "      <td>poor</td>\n",
       "      <td>yes</td>\n",
       "      <td>yes</td>\n",
       "      <td>ckd</td>\n",
       "    </tr>\n",
       "    <tr>\n",
       "      <th>4</th>\n",
       "      <td>4</td>\n",
       "      <td>51.0</td>\n",
       "      <td>80.0</td>\n",
       "      <td>1.010</td>\n",
       "      <td>2.0</td>\n",
       "      <td>0.0</td>\n",
       "      <td>normal</td>\n",
       "      <td>normal</td>\n",
       "      <td>notpresent</td>\n",
       "      <td>notpresent</td>\n",
       "      <td>...</td>\n",
       "      <td>35</td>\n",
       "      <td>7300</td>\n",
       "      <td>4.6</td>\n",
       "      <td>no</td>\n",
       "      <td>no</td>\n",
       "      <td>no</td>\n",
       "      <td>good</td>\n",
       "      <td>no</td>\n",
       "      <td>no</td>\n",
       "      <td>ckd</td>\n",
       "    </tr>\n",
       "  </tbody>\n",
       "</table>\n",
       "<p>5 rows × 26 columns</p>\n",
       "</div>"
      ],
      "text/plain": [
       "   id   age    bp     sg   al   su     rbc        pc         pcc          ba  \\\n",
       "0   0  48.0  80.0  1.020  1.0  0.0     NaN    normal  notpresent  notpresent   \n",
       "1   1   7.0  50.0  1.020  4.0  0.0     NaN    normal  notpresent  notpresent   \n",
       "2   2  62.0  80.0  1.010  2.0  3.0  normal    normal  notpresent  notpresent   \n",
       "3   3  48.0  70.0  1.005  4.0  0.0  normal  abnormal     present  notpresent   \n",
       "4   4  51.0  80.0  1.010  2.0  0.0  normal    normal  notpresent  notpresent   \n",
       "\n",
       "   ...  pcv    wc   rc  htn   dm  cad appet   pe  ane classification  \n",
       "0  ...   44  7800  5.2  yes  yes   no  good   no   no            ckd  \n",
       "1  ...   38  6000  NaN   no   no   no  good   no   no            ckd  \n",
       "2  ...   31  7500  NaN   no  yes   no  poor   no  yes            ckd  \n",
       "3  ...   32  6700  3.9  yes   no   no  poor  yes  yes            ckd  \n",
       "4  ...   35  7300  4.6   no   no   no  good   no   no            ckd  \n",
       "\n",
       "[5 rows x 26 columns]"
      ]
     },
     "execution_count": 126,
     "metadata": {},
     "output_type": "execute_result"
    }
   ],
   "source": [
    "# The head(n) function shows the first n rows in a dataframe.\n",
    "# If no n is specified, it defaults to 5 rows.\n",
    "df.head()"
   ]
  },
  {
   "cell_type": "code",
   "execution_count": 127,
   "id": "044feb21-85d2-4019-9494-7b7224f44183",
   "metadata": {},
   "outputs": [
    {
     "data": {
      "text/html": [
       "<div>\n",
       "<style scoped>\n",
       "    .dataframe tbody tr th:only-of-type {\n",
       "        vertical-align: middle;\n",
       "    }\n",
       "\n",
       "    .dataframe tbody tr th {\n",
       "        vertical-align: top;\n",
       "    }\n",
       "\n",
       "    .dataframe thead th {\n",
       "        text-align: right;\n",
       "    }\n",
       "</style>\n",
       "<table border=\"1\" class=\"dataframe\">\n",
       "  <thead>\n",
       "    <tr style=\"text-align: right;\">\n",
       "      <th></th>\n",
       "      <th>id</th>\n",
       "      <th>age</th>\n",
       "      <th>bp</th>\n",
       "      <th>sg</th>\n",
       "      <th>al</th>\n",
       "      <th>su</th>\n",
       "      <th>rbc</th>\n",
       "      <th>pc</th>\n",
       "      <th>pcc</th>\n",
       "      <th>ba</th>\n",
       "      <th>...</th>\n",
       "      <th>pcv</th>\n",
       "      <th>wc</th>\n",
       "      <th>rc</th>\n",
       "      <th>htn</th>\n",
       "      <th>dm</th>\n",
       "      <th>cad</th>\n",
       "      <th>appet</th>\n",
       "      <th>pe</th>\n",
       "      <th>ane</th>\n",
       "      <th>classification</th>\n",
       "    </tr>\n",
       "  </thead>\n",
       "  <tbody>\n",
       "    <tr>\n",
       "      <th>136</th>\n",
       "      <td>136</td>\n",
       "      <td>46.0</td>\n",
       "      <td>90.0</td>\n",
       "      <td>1.020</td>\n",
       "      <td>NaN</td>\n",
       "      <td>NaN</td>\n",
       "      <td>NaN</td>\n",
       "      <td>normal</td>\n",
       "      <td>notpresent</td>\n",
       "      <td>notpresent</td>\n",
       "      <td>...</td>\n",
       "      <td>NaN</td>\n",
       "      <td>NaN</td>\n",
       "      <td>NaN</td>\n",
       "      <td>yes</td>\n",
       "      <td>yes</td>\n",
       "      <td>no</td>\n",
       "      <td>good</td>\n",
       "      <td>no</td>\n",
       "      <td>no</td>\n",
       "      <td>ckd</td>\n",
       "    </tr>\n",
       "    <tr>\n",
       "      <th>353</th>\n",
       "      <td>353</td>\n",
       "      <td>39.0</td>\n",
       "      <td>60.0</td>\n",
       "      <td>1.020</td>\n",
       "      <td>0.0</td>\n",
       "      <td>0.0</td>\n",
       "      <td>normal</td>\n",
       "      <td>normal</td>\n",
       "      <td>notpresent</td>\n",
       "      <td>notpresent</td>\n",
       "      <td>...</td>\n",
       "      <td>51</td>\n",
       "      <td>5800</td>\n",
       "      <td>4.5</td>\n",
       "      <td>no</td>\n",
       "      <td>no</td>\n",
       "      <td>no</td>\n",
       "      <td>good</td>\n",
       "      <td>no</td>\n",
       "      <td>no</td>\n",
       "      <td>notckd</td>\n",
       "    </tr>\n",
       "    <tr>\n",
       "      <th>199</th>\n",
       "      <td>199</td>\n",
       "      <td>65.0</td>\n",
       "      <td>80.0</td>\n",
       "      <td>1.015</td>\n",
       "      <td>0.0</td>\n",
       "      <td>0.0</td>\n",
       "      <td>NaN</td>\n",
       "      <td>normal</td>\n",
       "      <td>notpresent</td>\n",
       "      <td>notpresent</td>\n",
       "      <td>...</td>\n",
       "      <td>25</td>\n",
       "      <td>10700</td>\n",
       "      <td>3.2</td>\n",
       "      <td>yes</td>\n",
       "      <td>no</td>\n",
       "      <td>yes</td>\n",
       "      <td>good</td>\n",
       "      <td>yes</td>\n",
       "      <td>no</td>\n",
       "      <td>ckd</td>\n",
       "    </tr>\n",
       "    <tr>\n",
       "      <th>233</th>\n",
       "      <td>233</td>\n",
       "      <td>51.0</td>\n",
       "      <td>100.0</td>\n",
       "      <td>1.015</td>\n",
       "      <td>2.0</td>\n",
       "      <td>0.0</td>\n",
       "      <td>normal</td>\n",
       "      <td>normal</td>\n",
       "      <td>notpresent</td>\n",
       "      <td>present</td>\n",
       "      <td>...</td>\n",
       "      <td>NaN</td>\n",
       "      <td>NaN</td>\n",
       "      <td>NaN</td>\n",
       "      <td>no</td>\n",
       "      <td>no</td>\n",
       "      <td>no</td>\n",
       "      <td>poor</td>\n",
       "      <td>no</td>\n",
       "      <td>no</td>\n",
       "      <td>ckd</td>\n",
       "    </tr>\n",
       "    <tr>\n",
       "      <th>58</th>\n",
       "      <td>58</td>\n",
       "      <td>73.0</td>\n",
       "      <td>80.0</td>\n",
       "      <td>1.020</td>\n",
       "      <td>2.0</td>\n",
       "      <td>0.0</td>\n",
       "      <td>abnormal</td>\n",
       "      <td>abnormal</td>\n",
       "      <td>notpresent</td>\n",
       "      <td>notpresent</td>\n",
       "      <td>...</td>\n",
       "      <td>33</td>\n",
       "      <td>7200</td>\n",
       "      <td>4.3</td>\n",
       "      <td>yes</td>\n",
       "      <td>yes</td>\n",
       "      <td>yes</td>\n",
       "      <td>good</td>\n",
       "      <td>no</td>\n",
       "      <td>no</td>\n",
       "      <td>ckd</td>\n",
       "    </tr>\n",
       "  </tbody>\n",
       "</table>\n",
       "<p>5 rows × 26 columns</p>\n",
       "</div>"
      ],
      "text/plain": [
       "      id   age     bp     sg   al   su       rbc        pc         pcc  \\\n",
       "136  136  46.0   90.0  1.020  NaN  NaN       NaN    normal  notpresent   \n",
       "353  353  39.0   60.0  1.020  0.0  0.0    normal    normal  notpresent   \n",
       "199  199  65.0   80.0  1.015  0.0  0.0       NaN    normal  notpresent   \n",
       "233  233  51.0  100.0  1.015  2.0  0.0    normal    normal  notpresent   \n",
       "58    58  73.0   80.0  1.020  2.0  0.0  abnormal  abnormal  notpresent   \n",
       "\n",
       "             ba  ...  pcv     wc   rc  htn   dm  cad appet   pe ane  \\\n",
       "136  notpresent  ...  NaN    NaN  NaN  yes  yes   no  good   no  no   \n",
       "353  notpresent  ...   51   5800  4.5   no   no   no  good   no  no   \n",
       "199  notpresent  ...   25  10700  3.2  yes   no  yes  good  yes  no   \n",
       "233     present  ...  NaN    NaN  NaN   no   no   no  poor   no  no   \n",
       "58   notpresent  ...   33   7200  4.3  yes  yes  yes  good   no  no   \n",
       "\n",
       "    classification  \n",
       "136            ckd  \n",
       "353         notckd  \n",
       "199            ckd  \n",
       "233            ckd  \n",
       "58             ckd  \n",
       "\n",
       "[5 rows x 26 columns]"
      ]
     },
     "execution_count": 127,
     "metadata": {},
     "output_type": "execute_result"
    }
   ],
   "source": [
    "# You can also use the sample() function to get n random rows in \n",
    "# the dataframe\n",
    "df.sample(5)"
   ]
  },
  {
   "cell_type": "code",
   "execution_count": 128,
   "id": "9f1b069b-4901-4f97-970f-6dbb27f6282d",
   "metadata": {},
   "outputs": [
    {
     "name": "stdout",
     "output_type": "stream",
     "text": [
      "<class 'pandas.core.frame.DataFrame'>\n",
      "RangeIndex: 400 entries, 0 to 399\n",
      "Data columns (total 26 columns):\n",
      " #   Column          Non-Null Count  Dtype  \n",
      "---  ------          --------------  -----  \n",
      " 0   id              400 non-null    int64  \n",
      " 1   age             391 non-null    float64\n",
      " 2   bp              388 non-null    float64\n",
      " 3   sg              353 non-null    float64\n",
      " 4   al              354 non-null    float64\n",
      " 5   su              351 non-null    float64\n",
      " 6   rbc             248 non-null    object \n",
      " 7   pc              335 non-null    object \n",
      " 8   pcc             396 non-null    object \n",
      " 9   ba              396 non-null    object \n",
      " 10  bgr             356 non-null    float64\n",
      " 11  bu              381 non-null    float64\n",
      " 12  sc              383 non-null    float64\n",
      " 13  sod             313 non-null    float64\n",
      " 14  pot             312 non-null    float64\n",
      " 15  hemo            348 non-null    float64\n",
      " 16  pcv             330 non-null    object \n",
      " 17  wc              295 non-null    object \n",
      " 18  rc              270 non-null    object \n",
      " 19  htn             398 non-null    object \n",
      " 20  dm              398 non-null    object \n",
      " 21  cad             398 non-null    object \n",
      " 22  appet           399 non-null    object \n",
      " 23  pe              399 non-null    object \n",
      " 24  ane             399 non-null    object \n",
      " 25  classification  400 non-null    object \n",
      "dtypes: float64(11), int64(1), object(14)\n",
      "memory usage: 81.4+ KB\n"
     ]
    }
   ],
   "source": [
    "# The info() function prints some basic information about the dataframe\n",
    "# such as the number of columns and rows\n",
    "# Let's talk about the # column later!\n",
    "df.info()"
   ]
  },
  {
   "cell_type": "code",
   "execution_count": 129,
   "id": "26313768-8916-45cf-960a-3dcca1c80ba7",
   "metadata": {},
   "outputs": [],
   "source": [
    "# the variable classification is our target so let's rename it.\n",
    "df = df.rename(columns = {\"classification\":'target'})"
   ]
  },
  {
   "cell_type": "code",
   "execution_count": 130,
   "id": "7cd74add-66e3-4fbd-b339-e72820797657",
   "metadata": {},
   "outputs": [
    {
     "data": {
      "text/html": [
       "<div>\n",
       "<style scoped>\n",
       "    .dataframe tbody tr th:only-of-type {\n",
       "        vertical-align: middle;\n",
       "    }\n",
       "\n",
       "    .dataframe tbody tr th {\n",
       "        vertical-align: top;\n",
       "    }\n",
       "\n",
       "    .dataframe thead th {\n",
       "        text-align: right;\n",
       "    }\n",
       "</style>\n",
       "<table border=\"1\" class=\"dataframe\">\n",
       "  <thead>\n",
       "    <tr style=\"text-align: right;\">\n",
       "      <th></th>\n",
       "      <th>count</th>\n",
       "      <th>mean</th>\n",
       "      <th>std</th>\n",
       "      <th>min</th>\n",
       "      <th>25%</th>\n",
       "      <th>50%</th>\n",
       "      <th>75%</th>\n",
       "      <th>max</th>\n",
       "    </tr>\n",
       "  </thead>\n",
       "  <tbody>\n",
       "    <tr>\n",
       "      <th>id</th>\n",
       "      <td>400.0</td>\n",
       "      <td>199.500000</td>\n",
       "      <td>115.614301</td>\n",
       "      <td>0.000</td>\n",
       "      <td>99.75</td>\n",
       "      <td>199.50</td>\n",
       "      <td>299.25</td>\n",
       "      <td>399.000</td>\n",
       "    </tr>\n",
       "    <tr>\n",
       "      <th>age</th>\n",
       "      <td>391.0</td>\n",
       "      <td>51.483376</td>\n",
       "      <td>17.169714</td>\n",
       "      <td>2.000</td>\n",
       "      <td>42.00</td>\n",
       "      <td>55.00</td>\n",
       "      <td>64.50</td>\n",
       "      <td>90.000</td>\n",
       "    </tr>\n",
       "    <tr>\n",
       "      <th>bp</th>\n",
       "      <td>388.0</td>\n",
       "      <td>76.469072</td>\n",
       "      <td>13.683637</td>\n",
       "      <td>50.000</td>\n",
       "      <td>70.00</td>\n",
       "      <td>80.00</td>\n",
       "      <td>80.00</td>\n",
       "      <td>180.000</td>\n",
       "    </tr>\n",
       "    <tr>\n",
       "      <th>sg</th>\n",
       "      <td>353.0</td>\n",
       "      <td>1.017408</td>\n",
       "      <td>0.005717</td>\n",
       "      <td>1.005</td>\n",
       "      <td>1.01</td>\n",
       "      <td>1.02</td>\n",
       "      <td>1.02</td>\n",
       "      <td>1.025</td>\n",
       "    </tr>\n",
       "    <tr>\n",
       "      <th>al</th>\n",
       "      <td>354.0</td>\n",
       "      <td>1.016949</td>\n",
       "      <td>1.352679</td>\n",
       "      <td>0.000</td>\n",
       "      <td>0.00</td>\n",
       "      <td>0.00</td>\n",
       "      <td>2.00</td>\n",
       "      <td>5.000</td>\n",
       "    </tr>\n",
       "    <tr>\n",
       "      <th>su</th>\n",
       "      <td>351.0</td>\n",
       "      <td>0.450142</td>\n",
       "      <td>1.099191</td>\n",
       "      <td>0.000</td>\n",
       "      <td>0.00</td>\n",
       "      <td>0.00</td>\n",
       "      <td>0.00</td>\n",
       "      <td>5.000</td>\n",
       "    </tr>\n",
       "    <tr>\n",
       "      <th>bgr</th>\n",
       "      <td>356.0</td>\n",
       "      <td>148.036517</td>\n",
       "      <td>79.281714</td>\n",
       "      <td>22.000</td>\n",
       "      <td>99.00</td>\n",
       "      <td>121.00</td>\n",
       "      <td>163.00</td>\n",
       "      <td>490.000</td>\n",
       "    </tr>\n",
       "    <tr>\n",
       "      <th>bu</th>\n",
       "      <td>381.0</td>\n",
       "      <td>57.425722</td>\n",
       "      <td>50.503006</td>\n",
       "      <td>1.500</td>\n",
       "      <td>27.00</td>\n",
       "      <td>42.00</td>\n",
       "      <td>66.00</td>\n",
       "      <td>391.000</td>\n",
       "    </tr>\n",
       "    <tr>\n",
       "      <th>sc</th>\n",
       "      <td>383.0</td>\n",
       "      <td>3.072454</td>\n",
       "      <td>5.741126</td>\n",
       "      <td>0.400</td>\n",
       "      <td>0.90</td>\n",
       "      <td>1.30</td>\n",
       "      <td>2.80</td>\n",
       "      <td>76.000</td>\n",
       "    </tr>\n",
       "    <tr>\n",
       "      <th>sod</th>\n",
       "      <td>313.0</td>\n",
       "      <td>137.528754</td>\n",
       "      <td>10.408752</td>\n",
       "      <td>4.500</td>\n",
       "      <td>135.00</td>\n",
       "      <td>138.00</td>\n",
       "      <td>142.00</td>\n",
       "      <td>163.000</td>\n",
       "    </tr>\n",
       "    <tr>\n",
       "      <th>pot</th>\n",
       "      <td>312.0</td>\n",
       "      <td>4.627244</td>\n",
       "      <td>3.193904</td>\n",
       "      <td>2.500</td>\n",
       "      <td>3.80</td>\n",
       "      <td>4.40</td>\n",
       "      <td>4.90</td>\n",
       "      <td>47.000</td>\n",
       "    </tr>\n",
       "    <tr>\n",
       "      <th>hemo</th>\n",
       "      <td>348.0</td>\n",
       "      <td>12.526437</td>\n",
       "      <td>2.912587</td>\n",
       "      <td>3.100</td>\n",
       "      <td>10.30</td>\n",
       "      <td>12.65</td>\n",
       "      <td>15.00</td>\n",
       "      <td>17.800</td>\n",
       "    </tr>\n",
       "  </tbody>\n",
       "</table>\n",
       "</div>"
      ],
      "text/plain": [
       "      count        mean         std     min     25%     50%     75%      max\n",
       "id    400.0  199.500000  115.614301   0.000   99.75  199.50  299.25  399.000\n",
       "age   391.0   51.483376   17.169714   2.000   42.00   55.00   64.50   90.000\n",
       "bp    388.0   76.469072   13.683637  50.000   70.00   80.00   80.00  180.000\n",
       "sg    353.0    1.017408    0.005717   1.005    1.01    1.02    1.02    1.025\n",
       "al    354.0    1.016949    1.352679   0.000    0.00    0.00    2.00    5.000\n",
       "su    351.0    0.450142    1.099191   0.000    0.00    0.00    0.00    5.000\n",
       "bgr   356.0  148.036517   79.281714  22.000   99.00  121.00  163.00  490.000\n",
       "bu    381.0   57.425722   50.503006   1.500   27.00   42.00   66.00  391.000\n",
       "sc    383.0    3.072454    5.741126   0.400    0.90    1.30    2.80   76.000\n",
       "sod   313.0  137.528754   10.408752   4.500  135.00  138.00  142.00  163.000\n",
       "pot   312.0    4.627244    3.193904   2.500    3.80    4.40    4.90   47.000\n",
       "hemo  348.0   12.526437    2.912587   3.100   10.30   12.65   15.00   17.800"
      ]
     },
     "execution_count": 130,
     "metadata": {},
     "output_type": "execute_result"
    }
   ],
   "source": [
    "# The describe function shows some basic statistics for numeric columns\n",
    "# We only have one here (Dosage), so this isn't very interesting\n",
    "df.describe().T"
   ]
  },
  {
   "cell_type": "code",
   "execution_count": 131,
   "id": "685069ac-2b4c-4ef7-aaf0-de98fae79259",
   "metadata": {},
   "outputs": [
    {
     "data": {
      "text/plain": [
       "(400, 26)"
      ]
     },
     "execution_count": 131,
     "metadata": {},
     "output_type": "execute_result"
    }
   ],
   "source": [
    "# now let's see the shape of our dataset\n",
    "df.shape"
   ]
  },
  {
   "cell_type": "markdown",
   "id": "0d9e7168-3327-43ea-a423-c4c9369240c9",
   "metadata": {},
   "source": [
    "## Other ways to inspect a dataframe\n",
    "* There are other operations you can do on a dataframe that don't follow the function notation\n",
    "* Let's look at a few examples:\n",
    "1. len(df)\n",
    "2. df.dtypes, etc\n"
   ]
  },
  {
   "cell_type": "markdown",
   "id": "52ec970e-297e-426f-8748-db2095880158",
   "metadata": {},
   "source": [
    "## <span style=\"color:blue\">*** DIY exercise ***</span>\n",
    "Create a new cell below and print the first ten rows of the \"df\" dataframe."
   ]
  },
  {
   "cell_type": "markdown",
   "id": "9043fc0e-7658-443f-ba45-bfdc091f61de",
   "metadata": {},
   "source": [
    "# Part 4: Data Exploration\n",
    "Let's assume we've loaded the treatment related data from our dataset in order to provide them with some analytical insights around the types of disease a patient has."
   ]
  },
  {
   "cell_type": "markdown",
   "id": "c24acea9-d4de-4b86-a7bf-ca897c609d5a",
   "metadata": {},
   "source": [
    "## Accessing columns in a dataframe"
   ]
  },
  {
   "cell_type": "code",
   "execution_count": 132,
   "id": "e5ab8980-bdbc-4b50-ab4a-98b110110df3",
   "metadata": {},
   "outputs": [
    {
     "data": {
      "text/plain": [
       "<AxesSubplot:>"
      ]
     },
     "execution_count": 132,
     "metadata": {},
     "output_type": "execute_result"
    },
    {
     "data": {
      "image/png": "[encoded data removed]",
      "text/plain": [
       "<Figure size 1800x720 with 2 Axes>"
      ]
     },
     "metadata": {},
     "output_type": "display_data"
    }
   ],
   "source": [
    "# let's plot a graph to see missing values in our dataset\n",
    "ms.matrix(df)"
   ]
  },
  {
   "cell_type": "code",
   "execution_count": 133,
   "id": "817edb6a-a1a3-407d-805c-bbd2f4a94c1c",
   "metadata": {},
   "outputs": [
    {
     "data": {
      "text/plain": [
       "0    0\n",
       "1    1\n",
       "2    2\n",
       "3    3\n",
       "4    4\n",
       "Name: id, dtype: int64"
      ]
     },
     "execution_count": 133,
     "metadata": {},
     "output_type": "execute_result"
    }
   ],
   "source": [
    "# Return the PatientID column as a Series\n",
    "df['id'].head()"
   ]
  },
  {
   "cell_type": "code",
   "execution_count": 134,
   "id": "2e63e672-7862-4b8c-a307-fec0d8a0cf5e",
   "metadata": {},
   "outputs": [
    {
     "data": {
      "text/plain": [
       "pandas.core.series.Series"
      ]
     },
     "execution_count": 134,
     "metadata": {},
     "output_type": "execute_result"
    }
   ],
   "source": [
    "# Check the type to show that this indeed returns a Series object\n",
    "type(df['wc'])"
   ]
  },
  {
   "cell_type": "code",
   "execution_count": 135,
   "id": "31584e78-a0ab-4230-90db-9561e793886c",
   "metadata": {},
   "outputs": [
    {
     "data": {
      "text/html": [
       "<div>\n",
       "<style scoped>\n",
       "    .dataframe tbody tr th:only-of-type {\n",
       "        vertical-align: middle;\n",
       "    }\n",
       "\n",
       "    .dataframe tbody tr th {\n",
       "        vertical-align: top;\n",
       "    }\n",
       "\n",
       "    .dataframe thead th {\n",
       "        text-align: right;\n",
       "    }\n",
       "</style>\n",
       "<table border=\"1\" class=\"dataframe\">\n",
       "  <thead>\n",
       "    <tr style=\"text-align: right;\">\n",
       "      <th></th>\n",
       "      <th>wc</th>\n",
       "      <th>pcc</th>\n",
       "    </tr>\n",
       "  </thead>\n",
       "  <tbody>\n",
       "    <tr>\n",
       "      <th>0</th>\n",
       "      <td>7800</td>\n",
       "      <td>notpresent</td>\n",
       "    </tr>\n",
       "    <tr>\n",
       "      <th>1</th>\n",
       "      <td>6000</td>\n",
       "      <td>notpresent</td>\n",
       "    </tr>\n",
       "    <tr>\n",
       "      <th>2</th>\n",
       "      <td>7500</td>\n",
       "      <td>notpresent</td>\n",
       "    </tr>\n",
       "    <tr>\n",
       "      <th>3</th>\n",
       "      <td>6700</td>\n",
       "      <td>present</td>\n",
       "    </tr>\n",
       "    <tr>\n",
       "      <th>4</th>\n",
       "      <td>7300</td>\n",
       "      <td>notpresent</td>\n",
       "    </tr>\n",
       "  </tbody>\n",
       "</table>\n",
       "</div>"
      ],
      "text/plain": [
       "     wc         pcc\n",
       "0  7800  notpresent\n",
       "1  6000  notpresent\n",
       "2  7500  notpresent\n",
       "3  6700     present\n",
       "4  7300  notpresent"
      ]
     },
     "execution_count": 135,
     "metadata": {},
     "output_type": "execute_result"
    }
   ],
   "source": [
    "# And this is how you access two columns of a dataframe.\n",
    "# Note that this will return a dataframe again, not a series \n",
    "# (because a series has only one column...)\n",
    "# Also note the double square brackets \n",
    "# because you're passing a *list* of columns as an argument\n",
    "df[['wc', 'pcc']].head()"
   ]
  },
  {
   "cell_type": "code",
   "execution_count": 136,
   "id": "b2df5c0c-1b6e-4b79-8e2a-ebf71ce7c67e",
   "metadata": {},
   "outputs": [
    {
     "data": {
      "text/plain": [
       "array(['ckd', 'notckd'], dtype=object)"
      ]
     },
     "execution_count": 136,
     "metadata": {},
     "output_type": "execute_result"
    }
   ],
   "source": [
    "# This way we can now do some more data exploration, \n",
    "# e.g. looking at unique patient IDs using the unique function\n",
    "# which returns an array of values\n",
    "df['target'].unique()"
   ]
  },
  {
   "cell_type": "markdown",
   "id": "a7d8e72e-5116-4199-a670-d74482f15aaa",
   "metadata": {},
   "source": [
    "## <span style=\"color:blue\">*** DIY exercise ***</span>\n",
    "Create a new cell below and print the list of unique pc in the dataframe."
   ]
  },
  {
   "cell_type": "code",
   "execution_count": 137,
   "id": "0c864c2e-2ea3-4f1b-8d92-f59efadc32e0",
   "metadata": {},
   "outputs": [
    {
     "data": {
      "text/plain": [
       "array(['normal', 'abnormal', nan], dtype=object)"
      ]
     },
     "execution_count": 137,
     "metadata": {},
     "output_type": "execute_result"
    }
   ],
   "source": [
    "df.pc.unique()"
   ]
  },
  {
   "cell_type": "markdown",
   "id": "2ead8d39-e41f-4452-9174-fcf47f0f2550",
   "metadata": {},
   "source": [
    "## Accessing rows in a dataframe\n",
    "In addition to slicing by column, we often want to get the record where a column has a specific value, e.g. a specific age here. This can be done using the `.loc` function syntax and a boolean statement:"
   ]
  },
  {
   "cell_type": "code",
   "execution_count": 138,
   "id": "267e55b5-ddd7-4d08-9b64-ec16b5b70ceb",
   "metadata": {},
   "outputs": [
    {
     "data": {
      "text/html": [
       "<div>\n",
       "<style scoped>\n",
       "    .dataframe tbody tr th:only-of-type {\n",
       "        vertical-align: middle;\n",
       "    }\n",
       "\n",
       "    .dataframe tbody tr th {\n",
       "        vertical-align: top;\n",
       "    }\n",
       "\n",
       "    .dataframe thead th {\n",
       "        text-align: right;\n",
       "    }\n",
       "</style>\n",
       "<table border=\"1\" class=\"dataframe\">\n",
       "  <thead>\n",
       "    <tr style=\"text-align: right;\">\n",
       "      <th></th>\n",
       "      <th>id</th>\n",
       "      <th>age</th>\n",
       "      <th>bp</th>\n",
       "      <th>sg</th>\n",
       "      <th>al</th>\n",
       "      <th>su</th>\n",
       "      <th>rbc</th>\n",
       "      <th>pc</th>\n",
       "      <th>pcc</th>\n",
       "      <th>ba</th>\n",
       "      <th>...</th>\n",
       "      <th>pcv</th>\n",
       "      <th>wc</th>\n",
       "      <th>rc</th>\n",
       "      <th>htn</th>\n",
       "      <th>dm</th>\n",
       "      <th>cad</th>\n",
       "      <th>appet</th>\n",
       "      <th>pe</th>\n",
       "      <th>ane</th>\n",
       "      <th>target</th>\n",
       "    </tr>\n",
       "  </thead>\n",
       "  <tbody>\n",
       "    <tr>\n",
       "      <th>276</th>\n",
       "      <td>276</td>\n",
       "      <td>20.0</td>\n",
       "      <td>60.0</td>\n",
       "      <td>1.025</td>\n",
       "      <td>0.0</td>\n",
       "      <td>0.0</td>\n",
       "      <td>normal</td>\n",
       "      <td>normal</td>\n",
       "      <td>notpresent</td>\n",
       "      <td>notpresent</td>\n",
       "      <td>...</td>\n",
       "      <td>41</td>\n",
       "      <td>4500</td>\n",
       "      <td>5.5</td>\n",
       "      <td>no</td>\n",
       "      <td>no</td>\n",
       "      <td>no</td>\n",
       "      <td>good</td>\n",
       "      <td>no</td>\n",
       "      <td>no</td>\n",
       "      <td>notckd</td>\n",
       "    </tr>\n",
       "    <tr>\n",
       "      <th>282</th>\n",
       "      <td>282</td>\n",
       "      <td>20.0</td>\n",
       "      <td>70.0</td>\n",
       "      <td>1.020</td>\n",
       "      <td>0.0</td>\n",
       "      <td>0.0</td>\n",
       "      <td>normal</td>\n",
       "      <td>normal</td>\n",
       "      <td>notpresent</td>\n",
       "      <td>notpresent</td>\n",
       "      <td>...</td>\n",
       "      <td>44</td>\n",
       "      <td>5500</td>\n",
       "      <td>4.8</td>\n",
       "      <td>no</td>\n",
       "      <td>no</td>\n",
       "      <td>no</td>\n",
       "      <td>good</td>\n",
       "      <td>no</td>\n",
       "      <td>no</td>\n",
       "      <td>notckd</td>\n",
       "    </tr>\n",
       "  </tbody>\n",
       "</table>\n",
       "<p>2 rows × 26 columns</p>\n",
       "</div>"
      ],
      "text/plain": [
       "      id   age    bp     sg   al   su     rbc      pc         pcc          ba  \\\n",
       "276  276  20.0  60.0  1.025  0.0  0.0  normal  normal  notpresent  notpresent   \n",
       "282  282  20.0  70.0  1.020  0.0  0.0  normal  normal  notpresent  notpresent   \n",
       "\n",
       "     ...  pcv    wc   rc  htn  dm  cad appet  pe ane  target  \n",
       "276  ...   41  4500  5.5   no  no   no  good  no  no  notckd  \n",
       "282  ...   44  5500  4.8   no  no   no  good  no  no  notckd  \n",
       "\n",
       "[2 rows x 26 columns]"
      ]
     },
     "execution_count": 138,
     "metadata": {},
     "output_type": "execute_result"
    }
   ],
   "source": [
    "# Access the record(s) where the value in the PatientID column is PT20\n",
    "df.loc[df['age'] == 20]"
   ]
  },
  {
   "cell_type": "code",
   "execution_count": 139,
   "id": "ccadb65e-9682-45b7-9b9a-0e6a212833f3",
   "metadata": {},
   "outputs": [
    {
     "data": {
      "text/html": [
       "<div>\n",
       "<style scoped>\n",
       "    .dataframe tbody tr th:only-of-type {\n",
       "        vertical-align: middle;\n",
       "    }\n",
       "\n",
       "    .dataframe tbody tr th {\n",
       "        vertical-align: top;\n",
       "    }\n",
       "\n",
       "    .dataframe thead th {\n",
       "        text-align: right;\n",
       "    }\n",
       "</style>\n",
       "<table border=\"1\" class=\"dataframe\">\n",
       "  <thead>\n",
       "    <tr style=\"text-align: right;\">\n",
       "      <th></th>\n",
       "      <th>id</th>\n",
       "      <th>age</th>\n",
       "      <th>bp</th>\n",
       "      <th>sg</th>\n",
       "      <th>al</th>\n",
       "      <th>su</th>\n",
       "      <th>rbc</th>\n",
       "      <th>pc</th>\n",
       "      <th>pcc</th>\n",
       "      <th>ba</th>\n",
       "      <th>...</th>\n",
       "      <th>pcv</th>\n",
       "      <th>wc</th>\n",
       "      <th>rc</th>\n",
       "      <th>htn</th>\n",
       "      <th>dm</th>\n",
       "      <th>cad</th>\n",
       "      <th>appet</th>\n",
       "      <th>pe</th>\n",
       "      <th>ane</th>\n",
       "      <th>target</th>\n",
       "    </tr>\n",
       "  </thead>\n",
       "  <tbody>\n",
       "    <tr>\n",
       "      <th>276</th>\n",
       "      <td>276</td>\n",
       "      <td>20.0</td>\n",
       "      <td>60.0</td>\n",
       "      <td>1.025</td>\n",
       "      <td>0.0</td>\n",
       "      <td>0.0</td>\n",
       "      <td>normal</td>\n",
       "      <td>normal</td>\n",
       "      <td>notpresent</td>\n",
       "      <td>notpresent</td>\n",
       "      <td>...</td>\n",
       "      <td>41</td>\n",
       "      <td>4500</td>\n",
       "      <td>5.5</td>\n",
       "      <td>no</td>\n",
       "      <td>no</td>\n",
       "      <td>no</td>\n",
       "      <td>good</td>\n",
       "      <td>no</td>\n",
       "      <td>no</td>\n",
       "      <td>notckd</td>\n",
       "    </tr>\n",
       "    <tr>\n",
       "      <th>282</th>\n",
       "      <td>282</td>\n",
       "      <td>20.0</td>\n",
       "      <td>70.0</td>\n",
       "      <td>1.020</td>\n",
       "      <td>0.0</td>\n",
       "      <td>0.0</td>\n",
       "      <td>normal</td>\n",
       "      <td>normal</td>\n",
       "      <td>notpresent</td>\n",
       "      <td>notpresent</td>\n",
       "      <td>...</td>\n",
       "      <td>44</td>\n",
       "      <td>5500</td>\n",
       "      <td>4.8</td>\n",
       "      <td>no</td>\n",
       "      <td>no</td>\n",
       "      <td>no</td>\n",
       "      <td>good</td>\n",
       "      <td>no</td>\n",
       "      <td>no</td>\n",
       "      <td>notckd</td>\n",
       "    </tr>\n",
       "  </tbody>\n",
       "</table>\n",
       "<p>2 rows × 26 columns</p>\n",
       "</div>"
      ],
      "text/plain": [
       "      id   age    bp     sg   al   su     rbc      pc         pcc          ba  \\\n",
       "276  276  20.0  60.0  1.025  0.0  0.0  normal  normal  notpresent  notpresent   \n",
       "282  282  20.0  70.0  1.020  0.0  0.0  normal  normal  notpresent  notpresent   \n",
       "\n",
       "     ...  pcv    wc   rc  htn  dm  cad appet  pe ane  target  \n",
       "276  ...   41  4500  5.5   no  no   no  good  no  no  notckd  \n",
       "282  ...   44  5500  4.8   no  no   no  good  no  no  notckd  \n",
       "\n",
       "[2 rows x 26 columns]"
      ]
     },
     "execution_count": 139,
     "metadata": {},
     "output_type": "execute_result"
    }
   ],
   "source": [
    "# This is equivalent to the following shorter notation\n",
    "# I prefer to always use loc to be more explicit\n",
    "df[df['age'] == 20]"
   ]
  },
  {
   "cell_type": "code",
   "execution_count": 140,
   "id": "1aeed7d0-da94-4cd1-9ff1-d541a7120a9a",
   "metadata": {},
   "outputs": [
    {
     "data": {
      "text/html": [
       "<div>\n",
       "<style scoped>\n",
       "    .dataframe tbody tr th:only-of-type {\n",
       "        vertical-align: middle;\n",
       "    }\n",
       "\n",
       "    .dataframe tbody tr th {\n",
       "        vertical-align: top;\n",
       "    }\n",
       "\n",
       "    .dataframe thead th {\n",
       "        text-align: right;\n",
       "    }\n",
       "</style>\n",
       "<table border=\"1\" class=\"dataframe\">\n",
       "  <thead>\n",
       "    <tr style=\"text-align: right;\">\n",
       "      <th></th>\n",
       "      <th>id</th>\n",
       "      <th>age</th>\n",
       "      <th>bp</th>\n",
       "      <th>sg</th>\n",
       "      <th>al</th>\n",
       "      <th>su</th>\n",
       "      <th>rbc</th>\n",
       "      <th>pc</th>\n",
       "      <th>pcc</th>\n",
       "      <th>ba</th>\n",
       "      <th>...</th>\n",
       "      <th>pcv</th>\n",
       "      <th>wc</th>\n",
       "      <th>rc</th>\n",
       "      <th>htn</th>\n",
       "      <th>dm</th>\n",
       "      <th>cad</th>\n",
       "      <th>appet</th>\n",
       "      <th>pe</th>\n",
       "      <th>ane</th>\n",
       "      <th>target</th>\n",
       "    </tr>\n",
       "  </thead>\n",
       "  <tbody>\n",
       "    <tr>\n",
       "      <th>276</th>\n",
       "      <td>276</td>\n",
       "      <td>20.0</td>\n",
       "      <td>60.0</td>\n",
       "      <td>1.025</td>\n",
       "      <td>0.0</td>\n",
       "      <td>0.0</td>\n",
       "      <td>normal</td>\n",
       "      <td>normal</td>\n",
       "      <td>notpresent</td>\n",
       "      <td>notpresent</td>\n",
       "      <td>...</td>\n",
       "      <td>41</td>\n",
       "      <td>4500</td>\n",
       "      <td>5.5</td>\n",
       "      <td>no</td>\n",
       "      <td>no</td>\n",
       "      <td>no</td>\n",
       "      <td>good</td>\n",
       "      <td>no</td>\n",
       "      <td>no</td>\n",
       "      <td>notckd</td>\n",
       "    </tr>\n",
       "    <tr>\n",
       "      <th>282</th>\n",
       "      <td>282</td>\n",
       "      <td>20.0</td>\n",
       "      <td>70.0</td>\n",
       "      <td>1.020</td>\n",
       "      <td>0.0</td>\n",
       "      <td>0.0</td>\n",
       "      <td>normal</td>\n",
       "      <td>normal</td>\n",
       "      <td>notpresent</td>\n",
       "      <td>notpresent</td>\n",
       "      <td>...</td>\n",
       "      <td>44</td>\n",
       "      <td>5500</td>\n",
       "      <td>4.8</td>\n",
       "      <td>no</td>\n",
       "      <td>no</td>\n",
       "      <td>no</td>\n",
       "      <td>good</td>\n",
       "      <td>no</td>\n",
       "      <td>no</td>\n",
       "      <td>notckd</td>\n",
       "    </tr>\n",
       "  </tbody>\n",
       "</table>\n",
       "<p>2 rows × 26 columns</p>\n",
       "</div>"
      ],
      "text/plain": [
       "      id   age    bp     sg   al   su     rbc      pc         pcc          ba  \\\n",
       "276  276  20.0  60.0  1.025  0.0  0.0  normal  normal  notpresent  notpresent   \n",
       "282  282  20.0  70.0  1.020  0.0  0.0  normal  normal  notpresent  notpresent   \n",
       "\n",
       "     ...  pcv    wc   rc  htn  dm  cad appet  pe ane  target  \n",
       "276  ...   41  4500  5.5   no  no   no  good  no  no  notckd  \n",
       "282  ...   44  5500  4.8   no  no   no  good  no  no  notckd  \n",
       "\n",
       "[2 rows x 26 columns]"
      ]
     },
     "execution_count": 140,
     "metadata": {},
     "output_type": "execute_result"
    }
   ],
   "source": [
    "# You can also use boolean conditions in the selector\n",
    "df.loc[(df['age'] == 20) & (df['pc'] == 'normal')]"
   ]
  },
  {
   "cell_type": "markdown",
   "id": "6b20772a-39a4-411a-9015-8870a2ecbe70",
   "metadata": {},
   "source": [
    "## Sorting dataframes\n",
    "Sorting the output of a dataframe can be helpful for visually inspecting or presenting data! Sorting by one or multiple columns is super easy using the `sort_values` function:"
   ]
  },
  {
   "cell_type": "code",
   "execution_count": 141,
   "id": "f1491c9f-3e34-422d-8101-a611665cae23",
   "metadata": {},
   "outputs": [
    {
     "data": {
      "text/html": [
       "<div>\n",
       "<style scoped>\n",
       "    .dataframe tbody tr th:only-of-type {\n",
       "        vertical-align: middle;\n",
       "    }\n",
       "\n",
       "    .dataframe tbody tr th {\n",
       "        vertical-align: top;\n",
       "    }\n",
       "\n",
       "    .dataframe thead th {\n",
       "        text-align: right;\n",
       "    }\n",
       "</style>\n",
       "<table border=\"1\" class=\"dataframe\">\n",
       "  <thead>\n",
       "    <tr style=\"text-align: right;\">\n",
       "      <th></th>\n",
       "      <th>id</th>\n",
       "      <th>age</th>\n",
       "      <th>bp</th>\n",
       "      <th>sg</th>\n",
       "      <th>al</th>\n",
       "      <th>su</th>\n",
       "      <th>rbc</th>\n",
       "      <th>pc</th>\n",
       "      <th>pcc</th>\n",
       "      <th>ba</th>\n",
       "      <th>...</th>\n",
       "      <th>pcv</th>\n",
       "      <th>wc</th>\n",
       "      <th>rc</th>\n",
       "      <th>htn</th>\n",
       "      <th>dm</th>\n",
       "      <th>cad</th>\n",
       "      <th>appet</th>\n",
       "      <th>pe</th>\n",
       "      <th>ane</th>\n",
       "      <th>target</th>\n",
       "    </tr>\n",
       "  </thead>\n",
       "  <tbody>\n",
       "    <tr>\n",
       "      <th>215</th>\n",
       "      <td>215</td>\n",
       "      <td>2.0</td>\n",
       "      <td>NaN</td>\n",
       "      <td>1.010</td>\n",
       "      <td>3.0</td>\n",
       "      <td>0.0</td>\n",
       "      <td>normal</td>\n",
       "      <td>abnormal</td>\n",
       "      <td>notpresent</td>\n",
       "      <td>notpresent</td>\n",
       "      <td>...</td>\n",
       "      <td>NaN</td>\n",
       "      <td>NaN</td>\n",
       "      <td>NaN</td>\n",
       "      <td>no</td>\n",
       "      <td>no</td>\n",
       "      <td>no</td>\n",
       "      <td>good</td>\n",
       "      <td>yes</td>\n",
       "      <td>no</td>\n",
       "      <td>ckd</td>\n",
       "    </tr>\n",
       "    <tr>\n",
       "      <th>187</th>\n",
       "      <td>187</td>\n",
       "      <td>3.0</td>\n",
       "      <td>NaN</td>\n",
       "      <td>1.010</td>\n",
       "      <td>2.0</td>\n",
       "      <td>0.0</td>\n",
       "      <td>normal</td>\n",
       "      <td>normal</td>\n",
       "      <td>notpresent</td>\n",
       "      <td>notpresent</td>\n",
       "      <td>...</td>\n",
       "      <td>34</td>\n",
       "      <td>12300</td>\n",
       "      <td>NaN</td>\n",
       "      <td>no</td>\n",
       "      <td>no</td>\n",
       "      <td>no</td>\n",
       "      <td>good</td>\n",
       "      <td>no</td>\n",
       "      <td>no</td>\n",
       "      <td>ckd</td>\n",
       "    </tr>\n",
       "    <tr>\n",
       "      <th>185</th>\n",
       "      <td>185</td>\n",
       "      <td>4.0</td>\n",
       "      <td>NaN</td>\n",
       "      <td>1.020</td>\n",
       "      <td>1.0</td>\n",
       "      <td>0.0</td>\n",
       "      <td>NaN</td>\n",
       "      <td>normal</td>\n",
       "      <td>notpresent</td>\n",
       "      <td>notpresent</td>\n",
       "      <td>...</td>\n",
       "      <td>34</td>\n",
       "      <td>?</td>\n",
       "      <td>NaN</td>\n",
       "      <td>no</td>\n",
       "      <td>no</td>\n",
       "      <td>no</td>\n",
       "      <td>good</td>\n",
       "      <td>no</td>\n",
       "      <td>no</td>\n",
       "      <td>ckd</td>\n",
       "    </tr>\n",
       "    <tr>\n",
       "      <th>75</th>\n",
       "      <td>75</td>\n",
       "      <td>5.0</td>\n",
       "      <td>NaN</td>\n",
       "      <td>1.015</td>\n",
       "      <td>1.0</td>\n",
       "      <td>0.0</td>\n",
       "      <td>NaN</td>\n",
       "      <td>normal</td>\n",
       "      <td>notpresent</td>\n",
       "      <td>notpresent</td>\n",
       "      <td>...</td>\n",
       "      <td>NaN</td>\n",
       "      <td>NaN</td>\n",
       "      <td>NaN</td>\n",
       "      <td>no</td>\n",
       "      <td>no</td>\n",
       "      <td>no</td>\n",
       "      <td>good</td>\n",
       "      <td>no</td>\n",
       "      <td>yes</td>\n",
       "      <td>ckd</td>\n",
       "    </tr>\n",
       "    <tr>\n",
       "      <th>131</th>\n",
       "      <td>131</td>\n",
       "      <td>5.0</td>\n",
       "      <td>50.0</td>\n",
       "      <td>1.010</td>\n",
       "      <td>0.0</td>\n",
       "      <td>0.0</td>\n",
       "      <td>NaN</td>\n",
       "      <td>normal</td>\n",
       "      <td>notpresent</td>\n",
       "      <td>notpresent</td>\n",
       "      <td>...</td>\n",
       "      <td>36</td>\n",
       "      <td>12400</td>\n",
       "      <td>NaN</td>\n",
       "      <td>no</td>\n",
       "      <td>no</td>\n",
       "      <td>no</td>\n",
       "      <td>good</td>\n",
       "      <td>no</td>\n",
       "      <td>no</td>\n",
       "      <td>ckd</td>\n",
       "    </tr>\n",
       "  </tbody>\n",
       "</table>\n",
       "<p>5 rows × 26 columns</p>\n",
       "</div>"
      ],
      "text/plain": [
       "      id  age    bp     sg   al   su     rbc        pc         pcc  \\\n",
       "215  215  2.0   NaN  1.010  3.0  0.0  normal  abnormal  notpresent   \n",
       "187  187  3.0   NaN  1.010  2.0  0.0  normal    normal  notpresent   \n",
       "185  185  4.0   NaN  1.020  1.0  0.0     NaN    normal  notpresent   \n",
       "75    75  5.0   NaN  1.015  1.0  0.0     NaN    normal  notpresent   \n",
       "131  131  5.0  50.0  1.010  0.0  0.0     NaN    normal  notpresent   \n",
       "\n",
       "             ba  ...  pcv     wc   rc  htn  dm  cad appet   pe  ane target  \n",
       "215  notpresent  ...  NaN    NaN  NaN   no  no   no  good  yes   no    ckd  \n",
       "187  notpresent  ...   34  12300  NaN   no  no   no  good   no   no    ckd  \n",
       "185  notpresent  ...   34      ?  NaN   no  no   no  good   no   no    ckd  \n",
       "75   notpresent  ...  NaN    NaN  NaN   no  no   no  good   no  yes    ckd  \n",
       "131  notpresent  ...   36  12400  NaN   no  no   no  good   no   no    ckd  \n",
       "\n",
       "[5 rows x 26 columns]"
      ]
     },
     "execution_count": 141,
     "metadata": {},
     "output_type": "execute_result"
    }
   ],
   "source": [
    "# Sort by earliest treatment start date, i.e. in ascending order (default)\n",
    "df.sort_values('age').head()"
   ]
  },
  {
   "cell_type": "markdown",
   "id": "f8972576-f486-470a-8790-4ba7422f8e5a",
   "metadata": {},
   "source": [
    "-**Note you can use ascending=False to sort in descending order also you can sort a whole DataFrame**\n"
   ]
  },
  {
   "cell_type": "code",
   "execution_count": 142,
   "id": "0ee09872-f66d-42a6-ba19-55af08437872",
   "metadata": {},
   "outputs": [],
   "source": [
    "# Use the inplace keyword to modify the dataframe\n",
    "# Note that you can also sort by a list of columns\n",
    "df.sort_values(['id', 'age'], inplace=True)"
   ]
  },
  {
   "cell_type": "code",
   "execution_count": 143,
   "id": "2c477339-6c49-483d-b916-5481492769af",
   "metadata": {},
   "outputs": [
    {
     "data": {
      "text/plain": [
       "array(['ckd', 'notckd'], dtype=object)"
      ]
     },
     "execution_count": 143,
     "metadata": {},
     "output_type": "execute_result"
    }
   ],
   "source": [
    "df.target.unique()"
   ]
  },
  {
   "cell_type": "code",
   "execution_count": 144,
   "id": "58e011c8-ff08-487e-aa06-604c38d37142",
   "metadata": {},
   "outputs": [
    {
     "data": {
      "text/plain": [
       "0      1\n",
       "1      1\n",
       "2      1\n",
       "3      1\n",
       "4      1\n",
       "      ..\n",
       "395    0\n",
       "396    0\n",
       "397    0\n",
       "398    0\n",
       "399    0\n",
       "Name: target, Length: 400, dtype: int64"
      ]
     },
     "execution_count": 144,
     "metadata": {},
     "output_type": "execute_result"
    }
   ],
   "source": [
    "#we can use replace\n",
    "df['target'].replace({'ckd':1, 'notckd':0})"
   ]
  },
  {
   "cell_type": "markdown",
   "id": "5f494abe-1848-4a23-8c56-2ef195cbd45f",
   "metadata": {},
   "source": [
    "in this case the change that we made is temporary because we didn't change in the official data"
   ]
  },
  {
   "cell_type": "code",
   "execution_count": 145,
   "id": "3affccca-cf4b-46b5-9b2f-3dcaad977080",
   "metadata": {},
   "outputs": [],
   "source": [
    "# use inplace=true to make the change in the original dataset"
   ]
  },
  {
   "cell_type": "code",
   "execution_count": 146,
   "id": "e091da8b-a010-4a8d-aa65-1ccf1ca5f963",
   "metadata": {},
   "outputs": [
    {
     "data": {
      "text/plain": [
       "<seaborn.axisgrid.FacetGrid at 0x7f2b39892400>"
      ]
     },
     "execution_count": 146,
     "metadata": {},
     "output_type": "execute_result"
    },
    {
     "data": {
      "image/png": "[encoded data removed]",
      "text/plain": [
       "<Figure size 360x360 with 1 Axes>"
      ]
     },
     "metadata": {},
     "output_type": "display_data"
    }
   ],
   "source": [
    "sns.catplot(x=\"target\", kind=\"count\", data= df)"
   ]
  },
  {
   "cell_type": "code",
   "execution_count": 147,
   "id": "181a1198-85bc-4ad2-8446-9d46f6647189",
   "metadata": {},
   "outputs": [
    {
     "data": {
      "text/plain": [
       "array(['5.2', nan, '3.9', '4.6', '4.4', '5', '4', '3.7', '3.8', '3.4',\n",
       "       '2.6', '2.8', '4.3', '3.2', '3.6', '4.1', '4.9', '2.5', '4.2',\n",
       "       '4.5', '3.1', '4.7', '3.5', '6', '2.1', '5.6', '2.3', '2.9', '2.7',\n",
       "       '8', '3.3', '3', '2.4', '4.8', '?', '5.4', '6.1', '6.2', '6.3',\n",
       "       '5.1', '5.8', '5.5', '5.3', '6.4', '5.7', '5.9', '6.5'],\n",
       "      dtype=object)"
      ]
     },
     "execution_count": 147,
     "metadata": {},
     "output_type": "execute_result"
    }
   ],
   "source": [
    "df.rc.unique()"
   ]
  },
  {
   "cell_type": "code",
   "execution_count": 148,
   "id": "11058c4a-a1c7-4bd7-a607-b15ed5832e4c",
   "metadata": {},
   "outputs": [
    {
     "data": {
      "text/plain": [
       "array(['44', '38', '31', '32', '35', '39', '36', '33', '29', '28', nan,\n",
       "       '16', '24', '37', '30', '34', '40', '45', '27', '48', '?', '52',\n",
       "       '14', '22', '18', '42', '17', '46', '23', '19', '25', '41', '26',\n",
       "       '15', '21', '43', '20', '47', '9', '49', '50', '53', '51', '54'],\n",
       "      dtype=object)"
      ]
     },
     "execution_count": 148,
     "metadata": {},
     "output_type": "execute_result"
    }
   ],
   "source": [
    "df.pcv.unique()"
   ]
  },
  {
   "cell_type": "code",
   "execution_count": 149,
   "id": "d1a540a1-6350-4728-86cc-92a480a628a7",
   "metadata": {},
   "outputs": [
    {
     "data": {
      "text/plain": [
       "array(['7800', '6000', '7500', '6700', '7300', nan, '6900', '9600',\n",
       "       '12100', '4500', '12200', '11000', '3800', '11400', '5300', '9200',\n",
       "       '6200', '8300', '8400', '10300', '9800', '9100', '7900', '6400',\n",
       "       '8600', '18900', '21600', '4300', '8500', '11300', '7200', '7700',\n",
       "       '14600', '6300', '7100', '11800', '9400', '5500', '5800', '13200',\n",
       "       '12500', '5600', '7000', '11900', '10400', '10700', '12700',\n",
       "       '6800', '6500', '13600', '10200', '9000', '14900', '8200', '15200',\n",
       "       '5000', '16300', '12400', '10500', '4200', '4700', '10900', '8100',\n",
       "       '9500', '2200', '12800', '11200', '19100', '?', '12300', '16700',\n",
       "       '2600', '26400', '8800', '7400', '4900', '8000', '12000', '15700',\n",
       "       '4100', '5700', '11500', '5400', '10800', '9900', '5200', '5900',\n",
       "       '9300', '9700', '5100', '6600'], dtype=object)"
      ]
     },
     "execution_count": 149,
     "metadata": {},
     "output_type": "execute_result"
    }
   ],
   "source": [
    "df.wc.unique()"
   ]
  },
  {
   "cell_type": "code",
   "execution_count": 150,
   "id": "0425f4e6-f697-400f-a8fa-77af89b9d6a9",
   "metadata": {},
   "outputs": [
    {
     "data": {
      "text/plain": [
       "array([1.02 , 1.01 , 1.005, 1.015,   nan, 1.025])"
      ]
     },
     "execution_count": 150,
     "metadata": {},
     "output_type": "execute_result"
    }
   ],
   "source": [
    "df.sg.unique()"
   ]
  },
  {
   "cell_type": "code",
   "execution_count": 151,
   "id": "57ab3585-90f9-4de6-8cee-04cd5a45a1c2",
   "metadata": {},
   "outputs": [
    {
     "data": {
      "text/plain": [
       "array(['7800', '6000', '7500', '6700', '7300', nan, '6900', '9600',\n",
       "       '12100', '4500', '12200', '11000', '3800', '11400', '5300', '9200',\n",
       "       '6200', '8300', '8400', '10300', '9800', '9100', '7900', '6400',\n",
       "       '8600', '18900', '21600', '4300', '8500', '11300', '7200', '7700',\n",
       "       '14600', '6300', '7100', '11800', '9400', '5500', '5800', '13200',\n",
       "       '12500', '5600', '7000', '11900', '10400', '10700', '12700',\n",
       "       '6800', '6500', '13600', '10200', '9000', '14900', '8200', '15200',\n",
       "       '5000', '16300', '12400', '10500', '4200', '4700', '10900', '8100',\n",
       "       '9500', '2200', '12800', '11200', '19100', '?', '12300', '16700',\n",
       "       '2600', '26400', '8800', '7400', '4900', '8000', '12000', '15700',\n",
       "       '4100', '5700', '11500', '5400', '10800', '9900', '5200', '5900',\n",
       "       '9300', '9700', '5100', '6600'], dtype=object)"
      ]
     },
     "execution_count": 151,
     "metadata": {},
     "output_type": "execute_result"
    }
   ],
   "source": [
    "df.wc.unique()"
   ]
  },
  {
   "cell_type": "markdown",
   "id": "0d8dcd35-f720-46c3-8aad-7a93f5058bf1",
   "metadata": {},
   "source": [
    " Our rc column is an object also we have some missing values and some thing that we don't really know like ?. we are going to replace all my the mean in this case and then we will fill missing values."
   ]
  },
  {
   "cell_type": "code",
   "execution_count": 152,
   "id": "ebb11d27-9bea-49f3-b062-5432da3462af",
   "metadata": {},
   "outputs": [],
   "source": [
    "# To replace the string caracters with NaN\n",
    "df.rc.replace('?', np.nan, inplace=True)\n",
    "df.wc.replace(('?'), np.nan, inplace=True)\n",
    "df.pcv.replace(('?'), np.nan, inplace=True)"
   ]
  },
  {
   "cell_type": "code",
   "execution_count": 153,
   "id": "600e2299-4fad-4f7a-8b17-fd567bfb92bf",
   "metadata": {},
   "outputs": [
    {
     "data": {
      "text/plain": [
       "array([nan, 'normal', 'abnormal'], dtype=object)"
      ]
     },
     "execution_count": 153,
     "metadata": {},
     "output_type": "execute_result"
    }
   ],
   "source": [
    "df.rbc.unique()"
   ]
  },
  {
   "cell_type": "code",
   "execution_count": null,
   "id": "5202616f-81c1-4ea7-ae21-56663d82e4bc",
   "metadata": {},
   "outputs": [],
   "source": []
  },
  {
   "cell_type": "code",
   "execution_count": 154,
   "id": "87f4520d-a382-4ec1-a970-730b1a646823",
   "metadata": {},
   "outputs": [
    {
     "data": {
      "text/plain": [
       "id          int64\n",
       "age       float64\n",
       "bp        float64\n",
       "sg        float64\n",
       "al        float64\n",
       "su        float64\n",
       "rbc        object\n",
       "pc         object\n",
       "pcc        object\n",
       "ba         object\n",
       "bgr       float64\n",
       "bu        float64\n",
       "sc        float64\n",
       "sod       float64\n",
       "pot       float64\n",
       "hemo      float64\n",
       "pcv        object\n",
       "wc         object\n",
       "rc         object\n",
       "htn        object\n",
       "dm         object\n",
       "cad        object\n",
       "appet      object\n",
       "pe         object\n",
       "ane        object\n",
       "target     object\n",
       "dtype: object"
      ]
     },
     "execution_count": 154,
     "metadata": {},
     "output_type": "execute_result"
    }
   ],
   "source": [
    "df.dtypes"
   ]
  },
  {
   "cell_type": "markdown",
   "id": "bea73f72-aeea-4003-a847-87d2c60ed195",
   "metadata": {},
   "source": [
    "#### These are still object so we have to convert it to numerical.\n",
    "1. pcv        \n",
    "2. wc         \n",
    "3. rc         "
   ]
  },
  {
   "cell_type": "code",
   "execution_count": 155,
   "id": "3007aa21-0bb1-480a-a31f-110d79e33dde",
   "metadata": {},
   "outputs": [],
   "source": [
    "# now we have to change the datatype of pcv, wc and rc\n",
    "df.wc = df.wc.astype('float64')\n",
    "df.rc = df.rc.astype('float64')\n",
    "df.pcv = df.pcv.astype('float64')"
   ]
  },
  {
   "cell_type": "code",
   "execution_count": 156,
   "id": "94d15e7e-d9d5-4203-859a-8d8d91897bb8",
   "metadata": {},
   "outputs": [],
   "source": [
    "# Now let's fill missing values\n",
    "df.age.fillna(df.age.mean(), inplace=True)\n",
    "df.bp.fillna(df.bp.mean(), inplace=True)\n",
    "df.sg.fillna(df.sg.mean(), inplace=True)\n",
    "df.al.fillna(df.al.mean(), inplace=True)\n",
    "df.su.fillna(df.su.mode(), inplace=True)\n",
    "df.wc.fillna(df.wc.mean(), inplace=True)\n",
    "df.pcv.fillna(df.pcv.mean(), inplace=True)\n",
    "df.rc.fillna(df.rc.mean(), inplace=True)\n",
    "df.age.fillna(df.age.mean(), inplace=True)\n",
    "df.al.fillna(df.al.mode(), inplace=True)\n",
    "df.su.fillna(df.su.mean(), inplace=True)\n",
    "df.pot.fillna(df.pot.mean(), inplace=True)\n",
    "df.bu.fillna(df.bu.mean(), inplace=True)\n",
    "df.sod.fillna(df.sod.mean(), inplace=True)\n",
    "df.hemo.fillna(df.hemo.mean(), inplace=True)\n",
    "df.sc.fillna(df.sc.mean(), inplace=True)\n",
    "df.bgr.fillna(df.bgr.mean(), inplace=True)\n",
    "\n"
   ]
  },
  {
   "cell_type": "code",
   "execution_count": 157,
   "id": "864c1fd1-234d-483c-9045-1521ea81faad",
   "metadata": {},
   "outputs": [
    {
     "data": {
      "text/plain": [
       "id          0\n",
       "age         0\n",
       "bp          0\n",
       "sg          0\n",
       "al          0\n",
       "su          0\n",
       "rbc       152\n",
       "pc         65\n",
       "pcc         4\n",
       "ba          4\n",
       "bgr         0\n",
       "bu          0\n",
       "sc          0\n",
       "sod         0\n",
       "pot         0\n",
       "hemo        0\n",
       "pcv         0\n",
       "wc          0\n",
       "rc          0\n",
       "htn         2\n",
       "dm          2\n",
       "cad         2\n",
       "appet       1\n",
       "pe          1\n",
       "ane         1\n",
       "target      0\n",
       "dtype: int64"
      ]
     },
     "execution_count": 157,
     "metadata": {},
     "output_type": "execute_result"
    }
   ],
   "source": [
    "df.isna().sum()"
   ]
  },
  {
   "cell_type": "code",
   "execution_count": 158,
   "id": "f58c3e29-d8cb-4247-8a5f-f10ea47cc3c7",
   "metadata": {},
   "outputs": [],
   "source": [
    "df.rbc.unique()\n",
    "df.rbc = df.rbc.map({'normal':1,'abnormal':0})\n",
    "df.pc = df.pc.map({'normal':1,'abnormal':0})\n",
    "df.pcc= df.pcc.map({'present':1,'notpresent':0})\n",
    "df.ba= df.ba.map({'present':1,'notpresent':0})"
   ]
  },
  {
   "cell_type": "code",
   "execution_count": 159,
   "id": "2e51407a-af0c-4af0-aab5-a278a54bc070",
   "metadata": {},
   "outputs": [
    {
     "data": {
      "text/plain": [
       "array(['yes', 'no', nan], dtype=object)"
      ]
     },
     "execution_count": 159,
     "metadata": {},
     "output_type": "execute_result"
    }
   ],
   "source": [
    "df.htn.unique()"
   ]
  },
  {
   "cell_type": "code",
   "execution_count": 160,
   "id": "e4fbc680-4a1d-4435-b8a3-a7a36f0dce3c",
   "metadata": {},
   "outputs": [
    {
     "data": {
      "text/html": [
       "<div>\n",
       "<style scoped>\n",
       "    .dataframe tbody tr th:only-of-type {\n",
       "        vertical-align: middle;\n",
       "    }\n",
       "\n",
       "    .dataframe tbody tr th {\n",
       "        vertical-align: top;\n",
       "    }\n",
       "\n",
       "    .dataframe thead th {\n",
       "        text-align: right;\n",
       "    }\n",
       "</style>\n",
       "<table border=\"1\" class=\"dataframe\">\n",
       "  <thead>\n",
       "    <tr style=\"text-align: right;\">\n",
       "      <th></th>\n",
       "      <th>id</th>\n",
       "      <th>age</th>\n",
       "      <th>bp</th>\n",
       "      <th>sg</th>\n",
       "      <th>al</th>\n",
       "      <th>su</th>\n",
       "      <th>rbc</th>\n",
       "      <th>pc</th>\n",
       "      <th>pcc</th>\n",
       "      <th>ba</th>\n",
       "      <th>...</th>\n",
       "      <th>pcv</th>\n",
       "      <th>wc</th>\n",
       "      <th>rc</th>\n",
       "      <th>htn</th>\n",
       "      <th>dm</th>\n",
       "      <th>cad</th>\n",
       "      <th>appet</th>\n",
       "      <th>pe</th>\n",
       "      <th>ane</th>\n",
       "      <th>target</th>\n",
       "    </tr>\n",
       "  </thead>\n",
       "  <tbody>\n",
       "    <tr>\n",
       "      <th>0</th>\n",
       "      <td>0</td>\n",
       "      <td>48.0</td>\n",
       "      <td>80.0</td>\n",
       "      <td>1.020</td>\n",
       "      <td>1.0</td>\n",
       "      <td>0.0</td>\n",
       "      <td>NaN</td>\n",
       "      <td>1.0</td>\n",
       "      <td>0.0</td>\n",
       "      <td>0.0</td>\n",
       "      <td>...</td>\n",
       "      <td>44.0</td>\n",
       "      <td>7800.0</td>\n",
       "      <td>5.200000</td>\n",
       "      <td>yes</td>\n",
       "      <td>yes</td>\n",
       "      <td>no</td>\n",
       "      <td>good</td>\n",
       "      <td>no</td>\n",
       "      <td>no</td>\n",
       "      <td>ckd</td>\n",
       "    </tr>\n",
       "    <tr>\n",
       "      <th>1</th>\n",
       "      <td>1</td>\n",
       "      <td>7.0</td>\n",
       "      <td>50.0</td>\n",
       "      <td>1.020</td>\n",
       "      <td>4.0</td>\n",
       "      <td>0.0</td>\n",
       "      <td>NaN</td>\n",
       "      <td>1.0</td>\n",
       "      <td>0.0</td>\n",
       "      <td>0.0</td>\n",
       "      <td>...</td>\n",
       "      <td>38.0</td>\n",
       "      <td>6000.0</td>\n",
       "      <td>4.707435</td>\n",
       "      <td>no</td>\n",
       "      <td>no</td>\n",
       "      <td>no</td>\n",
       "      <td>good</td>\n",
       "      <td>no</td>\n",
       "      <td>no</td>\n",
       "      <td>ckd</td>\n",
       "    </tr>\n",
       "    <tr>\n",
       "      <th>2</th>\n",
       "      <td>2</td>\n",
       "      <td>62.0</td>\n",
       "      <td>80.0</td>\n",
       "      <td>1.010</td>\n",
       "      <td>2.0</td>\n",
       "      <td>3.0</td>\n",
       "      <td>1.0</td>\n",
       "      <td>1.0</td>\n",
       "      <td>0.0</td>\n",
       "      <td>0.0</td>\n",
       "      <td>...</td>\n",
       "      <td>31.0</td>\n",
       "      <td>7500.0</td>\n",
       "      <td>4.707435</td>\n",
       "      <td>no</td>\n",
       "      <td>yes</td>\n",
       "      <td>no</td>\n",
       "      <td>poor</td>\n",
       "      <td>no</td>\n",
       "      <td>yes</td>\n",
       "      <td>ckd</td>\n",
       "    </tr>\n",
       "    <tr>\n",
       "      <th>3</th>\n",
       "      <td>3</td>\n",
       "      <td>48.0</td>\n",
       "      <td>70.0</td>\n",
       "      <td>1.005</td>\n",
       "      <td>4.0</td>\n",
       "      <td>0.0</td>\n",
       "      <td>1.0</td>\n",
       "      <td>0.0</td>\n",
       "      <td>1.0</td>\n",
       "      <td>0.0</td>\n",
       "      <td>...</td>\n",
       "      <td>32.0</td>\n",
       "      <td>6700.0</td>\n",
       "      <td>3.900000</td>\n",
       "      <td>yes</td>\n",
       "      <td>no</td>\n",
       "      <td>no</td>\n",
       "      <td>poor</td>\n",
       "      <td>yes</td>\n",
       "      <td>yes</td>\n",
       "      <td>ckd</td>\n",
       "    </tr>\n",
       "    <tr>\n",
       "      <th>4</th>\n",
       "      <td>4</td>\n",
       "      <td>51.0</td>\n",
       "      <td>80.0</td>\n",
       "      <td>1.010</td>\n",
       "      <td>2.0</td>\n",
       "      <td>0.0</td>\n",
       "      <td>1.0</td>\n",
       "      <td>1.0</td>\n",
       "      <td>0.0</td>\n",
       "      <td>0.0</td>\n",
       "      <td>...</td>\n",
       "      <td>35.0</td>\n",
       "      <td>7300.0</td>\n",
       "      <td>4.600000</td>\n",
       "      <td>no</td>\n",
       "      <td>no</td>\n",
       "      <td>no</td>\n",
       "      <td>good</td>\n",
       "      <td>no</td>\n",
       "      <td>no</td>\n",
       "      <td>ckd</td>\n",
       "    </tr>\n",
       "  </tbody>\n",
       "</table>\n",
       "<p>5 rows × 26 columns</p>\n",
       "</div>"
      ],
      "text/plain": [
       "   id   age    bp     sg   al   su  rbc   pc  pcc   ba  ...   pcv      wc  \\\n",
       "0   0  48.0  80.0  1.020  1.0  0.0  NaN  1.0  0.0  0.0  ...  44.0  7800.0   \n",
       "1   1   7.0  50.0  1.020  4.0  0.0  NaN  1.0  0.0  0.0  ...  38.0  6000.0   \n",
       "2   2  62.0  80.0  1.010  2.0  3.0  1.0  1.0  0.0  0.0  ...  31.0  7500.0   \n",
       "3   3  48.0  70.0  1.005  4.0  0.0  1.0  0.0  1.0  0.0  ...  32.0  6700.0   \n",
       "4   4  51.0  80.0  1.010  2.0  0.0  1.0  1.0  0.0  0.0  ...  35.0  7300.0   \n",
       "\n",
       "         rc  htn   dm  cad  appet   pe  ane target  \n",
       "0  5.200000  yes  yes   no   good   no   no    ckd  \n",
       "1  4.707435   no   no   no   good   no   no    ckd  \n",
       "2  4.707435   no  yes   no   poor   no  yes    ckd  \n",
       "3  3.900000  yes   no   no   poor  yes  yes    ckd  \n",
       "4  4.600000   no   no   no   good   no   no    ckd  \n",
       "\n",
       "[5 rows x 26 columns]"
      ]
     },
     "execution_count": 160,
     "metadata": {},
     "output_type": "execute_result"
    }
   ],
   "source": [
    "df.head()"
   ]
  },
  {
   "cell_type": "code",
   "execution_count": 161,
   "id": "8b25dfbf-54a2-40c1-a7c9-a20fcf0b7811",
   "metadata": {},
   "outputs": [
    {
     "data": {
      "text/plain": [
       "array([nan,  1.,  0.])"
      ]
     },
     "execution_count": 161,
     "metadata": {},
     "output_type": "execute_result"
    }
   ],
   "source": [
    "df.isna().sum()\n",
    "df.rbc.unique()"
   ]
  },
  {
   "cell_type": "code",
   "execution_count": 162,
   "id": "2370f6b5-af6b-4674-a90c-ee88bb0390be",
   "metadata": {},
   "outputs": [
    {
     "data": {
      "text/plain": [
       "<AxesSubplot:ylabel='Frequency'>"
      ]
     },
     "execution_count": 162,
     "metadata": {},
     "output_type": "execute_result"
    },
    {
     "data": {
      "image/png": "[encoded data removed]",
      "text/plain": [
       "<Figure size 720x432 with 1 Axes>"
      ]
     },
     "metadata": {},
     "output_type": "display_data"
    }
   ],
   "source": [
    "df.age.plot(kind='hist')"
   ]
  },
  {
   "cell_type": "code",
   "execution_count": 163,
   "id": "4201cf84-badf-49ea-ad73-717c01a5cd43",
   "metadata": {},
   "outputs": [
    {
     "name": "stdout",
     "output_type": "stream",
     "text": [
      "ckd       62.5\n",
      "notckd    37.5\n",
      "Name: target, dtype: float64\n"
     ]
    }
   ],
   "source": [
    "print(df.target.value_counts(normalize=True)*100)"
   ]
  },
  {
   "cell_type": "code",
   "execution_count": 164,
   "id": "f9a3df2d-1cd8-48a5-8dc0-5d746c2a5004",
   "metadata": {},
   "outputs": [
    {
     "data": {
      "image/png": "[encoded data removed]",
      "text/plain": [
       "<Figure size 720x432 with 1 Axes>"
      ]
     },
     "metadata": {},
     "output_type": "display_data"
    }
   ],
   "source": [
    "# To make it more insightful we can plot a graph\n",
    "sns.countplot(x=df.target);\n",
    "plt.show()"
   ]
  },
  {
   "cell_type": "code",
   "execution_count": 165,
   "id": "173cf117-f6d8-40b2-884f-4829b6f20a1e",
   "metadata": {},
   "outputs": [
    {
     "data": {
      "image/png": "[encoded data removed]",
      "text/plain": [
       "<Figure size 1152x432 with 1 Axes>"
      ]
     },
     "metadata": {},
     "output_type": "display_data"
    }
   ],
   "source": [
    "#Explore appetite  vs target \n",
    "\n",
    "plt.figure(figsize=(16, 6))\n",
    "sns.countplot(x='appet', hue= 'target', data=df)\n",
    "plt.xticks(\n",
    "    fontweight='light',\n",
    "    fontsize='x-large'  \n",
    ");"
   ]
  },
  {
   "cell_type": "code",
   "execution_count": 166,
   "id": "206fbc36-5ead-4260-94c2-60c98183490d",
   "metadata": {},
   "outputs": [
    {
     "data": {
      "image/png": "[encoded data removed]",
      "text/plain": [
       "<Figure size 1152x432 with 1 Axes>"
      ]
     },
     "metadata": {},
     "output_type": "display_data"
    }
   ],
   "source": [
    "#Explore pc(pus cell)  vs target \n",
    "\n",
    "plt.figure(figsize=(16, 6))\n",
    "sns.countplot(x='pc', hue= 'target', data=df)\n",
    "plt.xticks(\n",
    "    fontweight='light',\n",
    "    fontsize='x-large'  \n",
    ")\n",
    "plt.show()"
   ]
  },
  {
   "cell_type": "markdown",
   "id": "e5630e25-b0e3-4169-97ac-b49fdaff90c3",
   "metadata": {},
   "source": [
    "### Boxplot: boxplot is a method for graphically depicting groups of numerical data through their quartiles."
   ]
  },
  {
   "cell_type": "code",
   "execution_count": 167,
   "id": "a8a82031-7ba8-4e78-aa83-ba1d56c9867d",
   "metadata": {},
   "outputs": [
    {
     "data": {
      "text/plain": [
       "<AxesSubplot:xlabel='age'>"
      ]
     },
     "execution_count": 167,
     "metadata": {},
     "output_type": "execute_result"
    },
    {
     "data": {
      "image/png": "[encoded data removed]",
      "text/plain": [
       "<Figure size 720x432 with 1 Axes>"
      ]
     },
     "metadata": {},
     "output_type": "display_data"
    }
   ],
   "source": [
    "sns.boxplot(x=df.age)"
   ]
  },
  {
   "cell_type": "code",
   "execution_count": 168,
   "id": "83dc94c2-73a0-488b-8523-6836d77700fd",
   "metadata": {},
   "outputs": [],
   "source": [
    "#from the above cess we can see that we have outliers(extrime values). we can visialize a boxplot as a way to see outliers on our data"
   ]
  },
  {
   "cell_type": "code",
   "execution_count": 169,
   "id": "2800dc2c-cbb1-49fc-ad21-00c8ddd51f19",
   "metadata": {},
   "outputs": [
    {
     "data": {
      "text/plain": [
       "<AxesSubplot:>"
      ]
     },
     "execution_count": 169,
     "metadata": {},
     "output_type": "execute_result"
    },
    {
     "data": {
      "image/png": "[encoded data removed]",
      "text/plain": [
       "<Figure size 720x432 with 2 Axes>"
      ]
     },
     "metadata": {},
     "output_type": "display_data"
    }
   ],
   "source": [
    "sns.heatmap(df.corr(), annot=True, linewidths=2)"
   ]
  },
  {
   "cell_type": "markdown",
   "id": "a53325a3-1ce8-416f-8d75-786e2229278e",
   "metadata": {},
   "source": [
    "### what is the total number of people who's age is greater than 20 and are suffering from the disease?"
   ]
  },
  {
   "cell_type": "code",
   "execution_count": 170,
   "id": "bf311c5d-03db-4a91-8551-7a703a606d84",
   "metadata": {},
   "outputs": [
    {
     "data": {
      "text/plain": [
       "0"
      ]
     },
     "execution_count": 170,
     "metadata": {},
     "output_type": "execute_result"
    }
   ],
   "source": [
    "len(df[(df['age']>20) & (df['target']==1)])"
   ]
  },
  {
   "cell_type": "markdown",
   "id": "10092736-f721-493a-ae21-fc58dc1d95e4",
   "metadata": {},
   "source": [
    "We can see that 233 people have their age greater than 20 and are also suffering from the disease"
   ]
  },
  {
   "cell_type": "markdown",
   "id": "e9e8932b-b0b8-4b92-a3a0-6c9c9162de7c",
   "metadata": {},
   "source": [
    "### what is the number of people who's appetite is good but suffering from the disease?"
   ]
  },
  {
   "cell_type": "code",
   "execution_count": 171,
   "id": "e9a96039-013e-4fd2-8395-3095891da427",
   "metadata": {},
   "outputs": [
    {
     "data": {
      "text/plain": [
       "0"
      ]
     },
     "execution_count": 171,
     "metadata": {},
     "output_type": "execute_result"
    }
   ],
   "source": [
    "len(df[(df['appet']==1)&(df['target']==1)])"
   ]
  },
  {
   "cell_type": "markdown",
   "id": "7ab4fabe-4575-4596-8027-b6b3a27af5dd",
   "metadata": {},
   "source": [
    "It appear to be 168 people with good appetite but suffering from the disease"
   ]
  },
  {
   "cell_type": "markdown",
   "id": "2c32d5f3-d231-463c-827c-31c7320ab05b",
   "metadata": {},
   "source": [
    "# Model building"
   ]
  },
  {
   "cell_type": "code",
   "execution_count": 172,
   "id": "962596b1-7445-490d-b922-c14543587196",
   "metadata": {},
   "outputs": [],
   "source": [
    "from sklearn.model_selection import train_test_split\n",
    "from sklearn.linear_model import LogisticRegression\n",
    "from sklearn.preprocessing import StandardScaler, LabelEncoder"
   ]
  },
  {
   "cell_type": "code",
   "execution_count": 173,
   "id": "5bbeeccc-7e45-4574-b17c-835e912bfe21",
   "metadata": {},
   "outputs": [
    {
     "data": {
      "text/html": [
       "<div>\n",
       "<style scoped>\n",
       "    .dataframe tbody tr th:only-of-type {\n",
       "        vertical-align: middle;\n",
       "    }\n",
       "\n",
       "    .dataframe tbody tr th {\n",
       "        vertical-align: top;\n",
       "    }\n",
       "\n",
       "    .dataframe thead th {\n",
       "        text-align: right;\n",
       "    }\n",
       "</style>\n",
       "<table border=\"1\" class=\"dataframe\">\n",
       "  <thead>\n",
       "    <tr style=\"text-align: right;\">\n",
       "      <th></th>\n",
       "      <th>id</th>\n",
       "      <th>age</th>\n",
       "      <th>bp</th>\n",
       "      <th>sg</th>\n",
       "      <th>al</th>\n",
       "      <th>su</th>\n",
       "      <th>rbc</th>\n",
       "      <th>pc</th>\n",
       "      <th>pcc</th>\n",
       "      <th>ba</th>\n",
       "      <th>...</th>\n",
       "      <th>pcv</th>\n",
       "      <th>wc</th>\n",
       "      <th>rc</th>\n",
       "      <th>htn</th>\n",
       "      <th>dm</th>\n",
       "      <th>cad</th>\n",
       "      <th>appet</th>\n",
       "      <th>pe</th>\n",
       "      <th>ane</th>\n",
       "      <th>target</th>\n",
       "    </tr>\n",
       "  </thead>\n",
       "  <tbody>\n",
       "    <tr>\n",
       "      <th>0</th>\n",
       "      <td>0</td>\n",
       "      <td>48.0</td>\n",
       "      <td>80.0</td>\n",
       "      <td>1.020</td>\n",
       "      <td>1.0</td>\n",
       "      <td>0.0</td>\n",
       "      <td>NaN</td>\n",
       "      <td>1.0</td>\n",
       "      <td>0.0</td>\n",
       "      <td>0.0</td>\n",
       "      <td>...</td>\n",
       "      <td>44.0</td>\n",
       "      <td>7800.0</td>\n",
       "      <td>5.200000</td>\n",
       "      <td>yes</td>\n",
       "      <td>yes</td>\n",
       "      <td>no</td>\n",
       "      <td>good</td>\n",
       "      <td>no</td>\n",
       "      <td>no</td>\n",
       "      <td>ckd</td>\n",
       "    </tr>\n",
       "    <tr>\n",
       "      <th>1</th>\n",
       "      <td>1</td>\n",
       "      <td>7.0</td>\n",
       "      <td>50.0</td>\n",
       "      <td>1.020</td>\n",
       "      <td>4.0</td>\n",
       "      <td>0.0</td>\n",
       "      <td>NaN</td>\n",
       "      <td>1.0</td>\n",
       "      <td>0.0</td>\n",
       "      <td>0.0</td>\n",
       "      <td>...</td>\n",
       "      <td>38.0</td>\n",
       "      <td>6000.0</td>\n",
       "      <td>4.707435</td>\n",
       "      <td>no</td>\n",
       "      <td>no</td>\n",
       "      <td>no</td>\n",
       "      <td>good</td>\n",
       "      <td>no</td>\n",
       "      <td>no</td>\n",
       "      <td>ckd</td>\n",
       "    </tr>\n",
       "    <tr>\n",
       "      <th>2</th>\n",
       "      <td>2</td>\n",
       "      <td>62.0</td>\n",
       "      <td>80.0</td>\n",
       "      <td>1.010</td>\n",
       "      <td>2.0</td>\n",
       "      <td>3.0</td>\n",
       "      <td>1.0</td>\n",
       "      <td>1.0</td>\n",
       "      <td>0.0</td>\n",
       "      <td>0.0</td>\n",
       "      <td>...</td>\n",
       "      <td>31.0</td>\n",
       "      <td>7500.0</td>\n",
       "      <td>4.707435</td>\n",
       "      <td>no</td>\n",
       "      <td>yes</td>\n",
       "      <td>no</td>\n",
       "      <td>poor</td>\n",
       "      <td>no</td>\n",
       "      <td>yes</td>\n",
       "      <td>ckd</td>\n",
       "    </tr>\n",
       "    <tr>\n",
       "      <th>3</th>\n",
       "      <td>3</td>\n",
       "      <td>48.0</td>\n",
       "      <td>70.0</td>\n",
       "      <td>1.005</td>\n",
       "      <td>4.0</td>\n",
       "      <td>0.0</td>\n",
       "      <td>1.0</td>\n",
       "      <td>0.0</td>\n",
       "      <td>1.0</td>\n",
       "      <td>0.0</td>\n",
       "      <td>...</td>\n",
       "      <td>32.0</td>\n",
       "      <td>6700.0</td>\n",
       "      <td>3.900000</td>\n",
       "      <td>yes</td>\n",
       "      <td>no</td>\n",
       "      <td>no</td>\n",
       "      <td>poor</td>\n",
       "      <td>yes</td>\n",
       "      <td>yes</td>\n",
       "      <td>ckd</td>\n",
       "    </tr>\n",
       "    <tr>\n",
       "      <th>4</th>\n",
       "      <td>4</td>\n",
       "      <td>51.0</td>\n",
       "      <td>80.0</td>\n",
       "      <td>1.010</td>\n",
       "      <td>2.0</td>\n",
       "      <td>0.0</td>\n",
       "      <td>1.0</td>\n",
       "      <td>1.0</td>\n",
       "      <td>0.0</td>\n",
       "      <td>0.0</td>\n",
       "      <td>...</td>\n",
       "      <td>35.0</td>\n",
       "      <td>7300.0</td>\n",
       "      <td>4.600000</td>\n",
       "      <td>no</td>\n",
       "      <td>no</td>\n",
       "      <td>no</td>\n",
       "      <td>good</td>\n",
       "      <td>no</td>\n",
       "      <td>no</td>\n",
       "      <td>ckd</td>\n",
       "    </tr>\n",
       "  </tbody>\n",
       "</table>\n",
       "<p>5 rows × 26 columns</p>\n",
       "</div>"
      ],
      "text/plain": [
       "   id   age    bp     sg   al   su  rbc   pc  pcc   ba  ...   pcv      wc  \\\n",
       "0   0  48.0  80.0  1.020  1.0  0.0  NaN  1.0  0.0  0.0  ...  44.0  7800.0   \n",
       "1   1   7.0  50.0  1.020  4.0  0.0  NaN  1.0  0.0  0.0  ...  38.0  6000.0   \n",
       "2   2  62.0  80.0  1.010  2.0  3.0  1.0  1.0  0.0  0.0  ...  31.0  7500.0   \n",
       "3   3  48.0  70.0  1.005  4.0  0.0  1.0  0.0  1.0  0.0  ...  32.0  6700.0   \n",
       "4   4  51.0  80.0  1.010  2.0  0.0  1.0  1.0  0.0  0.0  ...  35.0  7300.0   \n",
       "\n",
       "         rc  htn   dm  cad  appet   pe  ane target  \n",
       "0  5.200000  yes  yes   no   good   no   no    ckd  \n",
       "1  4.707435   no   no   no   good   no   no    ckd  \n",
       "2  4.707435   no  yes   no   poor   no  yes    ckd  \n",
       "3  3.900000  yes   no   no   poor  yes  yes    ckd  \n",
       "4  4.600000   no   no   no   good   no   no    ckd  \n",
       "\n",
       "[5 rows x 26 columns]"
      ]
     },
     "execution_count": 173,
     "metadata": {},
     "output_type": "execute_result"
    }
   ],
   "source": [
    "df.head()"
   ]
  },
  {
   "cell_type": "code",
   "execution_count": 174,
   "id": "eb3ff493-7060-469b-9fb2-04bb315fdc2b",
   "metadata": {},
   "outputs": [],
   "source": [
    "# encoding the target with label encoder\n",
    "encoder = LabelEncoder()\n",
    "df.target = encoder.fit_transform(df.target)"
   ]
  },
  {
   "cell_type": "markdown",
   "id": "1ce8cf33-37ec-4efc-92f9-2304e27a9853",
   "metadata": {},
   "source": [
    "### Using  pandas get_dummies\n",
    "I don't always recommand using this you can find the reasons behind it here:[link]('https://stackoverflow.com/questions/36631163/what-are-the-pros-and-cons-between-get-dummies-pandas-and-onehotencoder-sciki#56567037')"
   ]
  },
  {
   "cell_type": "code",
   "execution_count": 175,
   "id": "40b84228-4a5c-448a-9307-577b08d6d02d",
   "metadata": {},
   "outputs": [],
   "source": [
    "# Encoding the remainig features with pandas get_dummies\n",
    "df = pd.get_dummies(df)"
   ]
  },
  {
   "cell_type": "code",
   "execution_count": 176,
   "id": "38066857-7ca8-4d32-9203-dc1372b10d2f",
   "metadata": {},
   "outputs": [],
   "source": [
    "from sklearn.impute import SimpleImputer\n",
    "from sklearn.pipeline import Pipeline"
   ]
  },
  {
   "cell_type": "code",
   "execution_count": 177,
   "id": "d0330b11-b518-4129-b731-daba53421c9c",
   "metadata": {},
   "outputs": [],
   "source": [
    "# we are going to select the features and the target variable.\n",
    "\"\"\"\n",
    "Note that X is n dimmentional array or dataframe\n",
    "y: 1D array or Series\n",
    "\"\"\"\n",
    "X = df.drop(['id','target'],1)\n",
    "y = df.target"
   ]
  },
  {
   "cell_type": "code",
   "execution_count": 178,
   "id": "196d5f2a-afe5-431a-a30d-30c13e34fc11",
   "metadata": {},
   "outputs": [],
   "source": [
    "# scaling the data\n",
    "pipeline = Pipeline([\n",
    "    ('impute', SimpleImputer(strategy='mean')),\n",
    "    ('scale', StandardScaler())\n",
    "])\n",
    "\n",
    "X = pd.DataFrame(columns=X.columns, data=pipeline.fit_transform(X))"
   ]
  },
  {
   "cell_type": "code",
   "execution_count": 179,
   "id": "b90dbca3-4098-4bca-b4cb-6375d248b9c3",
   "metadata": {},
   "outputs": [],
   "source": [
    "X_train,X_test,y_train,y_test = train_test_split(X,y,test_size=0.2, random_state=42)"
   ]
  },
  {
   "cell_type": "code",
   "execution_count": 180,
   "id": "5664dd02-7dd3-4787-a2e9-2c8202da44b6",
   "metadata": {},
   "outputs": [
    {
     "data": {
      "text/plain": [
       "array([0, 1, 0, 0, 0, 0, 1, 0, 1, 0])"
      ]
     },
     "execution_count": 180,
     "metadata": {},
     "output_type": "execute_result"
    }
   ],
   "source": [
    "lgr = LogisticRegression()\n",
    "lgr.fit(X_train,y_train)\n",
    "y_pred = lgr.predict(X_test)\n",
    "y_pred[:10]"
   ]
  },
  {
   "cell_type": "code",
   "execution_count": 181,
   "id": "54034425-253a-4319-8d76-2e5f8bb5fcdb",
   "metadata": {},
   "outputs": [],
   "source": [
    "from sklearn.metrics import classification_report, accuracy_score, confusion_matrix"
   ]
  },
  {
   "cell_type": "code",
   "execution_count": 182,
   "id": "050bf115-012c-43ca-a329-c961422bd7a0",
   "metadata": {},
   "outputs": [
    {
     "name": "stdout",
     "output_type": "stream",
     "text": [
      "              precision    recall  f1-score   support\n",
      "\n",
      "           0       1.00      1.00      1.00        52\n",
      "           1       1.00      1.00      1.00        28\n",
      "\n",
      "    accuracy                           1.00        80\n",
      "   macro avg       1.00      1.00      1.00        80\n",
      "weighted avg       1.00      1.00      1.00        80\n",
      "\n"
     ]
    }
   ],
   "source": [
    "print(classification_report(y_test,y_pred))"
   ]
  },
  {
   "cell_type": "code",
   "execution_count": 183,
   "id": "314a2200-1cee-4074-8699-a39c89aca1d1",
   "metadata": {},
   "outputs": [
    {
     "data": {
      "text/plain": [
       "1.0"
      ]
     },
     "execution_count": 183,
     "metadata": {},
     "output_type": "execute_result"
    }
   ],
   "source": [
    "accuracy_score(y_test,y_pred)"
   ]
  },
  {
   "cell_type": "code",
   "execution_count": 184,
   "id": "fc909999-4f16-4fee-983e-b5bca6c4e5e4",
   "metadata": {},
   "outputs": [
    {
     "data": {
      "text/plain": [
       "array([[52,  0],\n",
       "       [ 0, 28]])"
      ]
     },
     "execution_count": 184,
     "metadata": {},
     "output_type": "execute_result"
    }
   ],
   "source": [
    "confusion_matrix(y_test,y_pred)"
   ]
  },
  {
   "cell_type": "code",
   "execution_count": null,
   "id": "7f3ef7dd-8362-437f-96d5-4f15cf7197fe",
   "metadata": {},
   "outputs": [],
   "source": [
    "from sklearn.metrics import plot_confusion_matrix\n",
    "plot_confusion_matrix()"
   ]
  },
  {
   "cell_type": "markdown",
   "id": "2282effd-a9c6-49a9-86ed-9298150e5bde",
   "metadata": {},
   "source": [
    "# Part 4: Summary!"
   ]
  },
  {
   "cell_type": "markdown",
   "id": "23df0d0b-c239-4a9a-b92f-98a21e68606f",
   "metadata": {},
   "source": [
    "We hope this workshop was useful for you. We've only touched on some of the **basic concepts** of Pandas, but we believe this will give you the foundations to keep exploring the data! We covered:\n",
    "\n",
    "- Basic operations in Jupyter notebooks\n",
    "- Dataframes and Series in Pandas, and loading data to a dataframe\n",
    "- Basic data inspection (head, describe, dtypes, accessing columns and rows, sorting)\n",
    "- count, nunique\n",
    "- Indexing in dataframes and reset_index\n",
    "- Plotting (bar plots, hist plots, boxplot, heatmap)"
   ]
  },
  {
   "cell_type": "markdown",
   "id": "57e34e3d-36d1-4d20-958c-e0a258a4924a",
   "metadata": {},
   "source": [
    "**I would appreciate your feedback** <br>\n",
    "Email: abdoulayegnbalde@gmail.com <br>\n",
    "github: abdoulayegk <br>\n",
    "twitter: @abdoulayegk"
   ]
  },
  {
   "cell_type": "code",
   "execution_count": null,
   "id": "52743e42-10b6-4184-9b37-84f5c70d2810",
   "metadata": {},
   "outputs": [],
   "source": []
  }
 ],
 "metadata": {
  "kernelspec": {
   "display_name": "Python 3",
   "language": "python",
   "name": "python3"
  },
  "language_info": {
   "codemirror_mode": {
    "name": "ipython",
    "version": 3
   },
   "file_extension": ".py",
   "mimetype": "text/x-python",
   "name": "python",
   "nbconvert_exporter": "python",
   "pygments_lexer": "ipython3",
   "version": "3.9.5"
  }
 },
 "nbformat": 4,
 "nbformat_minor": 5
}
