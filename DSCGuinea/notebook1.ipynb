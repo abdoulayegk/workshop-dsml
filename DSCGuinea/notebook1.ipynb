{
 "cells": [
  {
   "cell_type": "markdown",
   "id": "e87b1866-2c79-4004-85db-d55413675fd5",
   "metadata": {},
   "source": [
    "# End to end introduction to machine learning using python\n",
    "\n",
    "Workshop lead: Abdoulaye Balde [@abdoulayegk](http://twitter.com/abdoulayegk)<br>\n",
    "Notebook will be  [abdulayegk]()<br>\n",
    "[Colab Notebook](https://colab.research.google.com/drive/14adHs2rjCAH0TXyvgCBOgEFRwCBzjh9f?usp=sharing)"
   ]
  },
  {
   "cell_type": "markdown",
   "id": "c1f7659d-f40f-43e8-9bc3-10f4aec48b85",
   "metadata": {},
   "source": [
    "# Overview\n",
    "The goal of this workshop is to give learners a general intro to machine learning and data science with Python using Pandas and Jupyter. \n",
    "We will first go through a general overwiew of python such as list, tuple and dictionary.\n",
    "then we go through the process of loading data from CSV files, inspecting and cleaning the data. As a second step, we will analyse the data and draw some insights about Chronic-kidney dataset. \n",
    "\n",
    "The workshop is structured as follows:\n",
    "\n",
    "- Intro and background\n",
    "- Part 0: Quick Jupyter exercise\n",
    "- Part 1: General overview of python\n",
    "- Part 2: Creation of dataframe and series using pandas\n",
    "- Part 3: Loading and inspecting data\n",
    "- Part 4: Data analysis\n",
    "- Part 5 Model building\n",
    "- Part 6: Summary\n",
    "\n",
    "**Note that this workshop is only intended as an introduction to some basic concepts of python for data science using Pandas. It is in no means intended to be comprehensive, and there are a lot of useful functions a beginner needs to know to do in-depth data analysis. I hope that this workshop sets you up for self-guided learning to master the full range of necessary Pandas tools.**\n",
    "\n",
    "## How to follow along with the workshop\n",
    "- You can run every cell in the notebook as we go along using the shortcut Shift+Enter"
   ]
  },
  {
   "cell_type": "markdown",
   "id": "8fc04718-2fbb-4eb6-af67-8b4f3fa6c5c9",
   "metadata": {},
   "source": [
    "# Intro\n",
    "\n",
    "## What is Jupyter (and the Jupyter ecosystem...)?\n",
    "- **IPython** is an **interactive Python shell** (just type \"ipython\" to start it)\n",
    "- **Jupyter** is a Python library that provides a **web-based UI** on top of ipython to create notebooks with code and output\n",
    "- **JupyterLab** provides some additional **features on top of Jupyter**, e.g. a file browser\n",
    "- **Binder** is a **web-based hub** for containers that contain your Python environment and renders notebooks based on a git repo\n",
    "\n",
    "## Quick overview of python list, tupl eand  dictionary\n",
    "- **List**  A list is a data structure in Python that is a mutable, or changeable, ordered sequence of elements. Each element or value that is inside of a list is called an item. Lists are defined by having values between square brackets [ ].\n",
    " - **Tuple** A tuple is a data structure that is an immutable, or unchangeable, ordered sequence of elements. Because tuples are immutable, their values cannot be modified. Tuples have values between parentheses ( ) separated by commas.\n",
    " \n",
    "- **Dictionary** The dictionary is Python’s built-in mapping type. Dictionaries map keys to values and these key-value pairs provide a useful way to store data in Python.\n",
    "\n",
    "    Typically used to hold data that are related, such as the information contained in an ID or a user profile, dictionaries are constructed with curly braces on either side { }.\n",
    "\n",
    "## What is Pandas/Matplotlib/Pyplot/Seaborn?\n",
    "\n",
    "- **Pandas** is a Python library for **data manipulation and analysis**. It offers data structures and operations for manipulating numerical tables and time series.\n",
    "- **Matplotlib** is a Python **2D plotting library**. Pyplot is a collection of command style functions in matplotlib that make matplotlib work like MATLAB. While we mostly use Seaborn, we sometimes fall back to using Pyplot functions for certain aspects of plotting.\n",
    "- **Seaborn** is a Python **data visualization** library based on matplotlib. It's kind of like a nicer version of Pyplot.\n",
    "- You can **use Pandas code in a regular Python script** of course. I'm just combining Jupyter + Pandas in this tutorial because notebooks are a great way to immediately see output!"
   ]
  },
  {
   "cell_type": "markdown",
   "id": "cc9377c0-8557-4c44-813b-8bc3aabac411",
   "metadata": {},
   "source": [
    "### Notebooks are basically just interactive ipython terminals, often mixed in with markdown text:\n",
    "- Each input field you see is called a **cell**\n",
    "- Cells can be **either code or markdown**\n",
    "- You can execute any kind of Python code\n",
    "- **Variables persist** between cells\n",
    "- The notebook **doesn't care about the order of cells**, just the order of executing it in order to remember variables. However, \"run all\" executes your cells top to bottom.\n",
    "\n",
    "### Notebooks have **two modes**: a) editing the cells and b) navigating the notebook (command mode):\n",
    "- You can **navigate** around the notebook in command mode by clicking cells or using the arrow keys\n",
    "- Depending on the environment you're using (Jupyter notebook, Jupyter lab, Google Colab...) there will be a different **visual cue** (e.g. a colored line) to indicate the mode a cell is in\n",
    "- In order to **edit a cell**, you can press **Enter** or double-click it.\n",
    "- To **execute** the cell content, press Shift+Enter to run the cell\n",
    "- To get **out of edit mode** and back into navigation mode, press the **Escape key**"
   ]
  },
  {
   "cell_type": "markdown",
   "id": "aa555fed-8cb2-46cb-a0e3-489ab3ab9ff0",
   "metadata": {},
   "source": [
    "### Some helpful keyboard shortcuts:\n",
    "- The **default type for a cell is code**. In command mode, press *m* to make a cell markdown and *y* to make it code\n",
    "- Press *a* in command mode to create a new cell *above* the current one\n",
    "- Press *b* in command mode to create a new cell *below* the current one\n",
    "- *Tab* autocompletes methods (like in IPython)\n",
    "- *Shift+Tab* shows you the docstring for the outer function of the line your cursor is in\n",
    "- Press *dd* in command mode to delete a cell. \n",
    "- *Cmd+z* undoes operations in the highlighted cell, *z* undoes cell operations in the notebook (e.g. deleting a cell)"
   ]
  },
  {
   "cell_type": "markdown",
   "id": "77c7e001-abb9-4f5f-947b-d6c691840192",
   "metadata": {},
   "source": [
    "# Part 1: General Overview of python \n",
    "In this part we are going to go through the basics things we need to know before loading data for that we are going to start from looping in python and we will go till classes in python.<br>\n",
    "**Note this will be just very basics things we should know to follow along in this workshop if you want to go in deep then you should get a book for that**"
   ]
  },
  {
   "cell_type": "code",
   "execution_count": null,
   "id": "85d165c2-f36b-4cc7-b48c-5303ae451fdd",
   "metadata": {},
   "outputs": [],
   "source": [
    "# To print your name in python\n",
    "print(\"Hello world!\")"
   ]
  },
  {
   "cell_type": "markdown",
   "id": "a723c5b3-87c4-4880-919d-9e6e03dfb981",
   "metadata": {},
   "source": [
    "## List\n",
    "### Les éléments peuvent être quelconques. "
   ]
  },
  {
   "cell_type": "code",
   "execution_count": null,
   "id": "39a7a73f-c909-4cd7-aba9-d6f40f679b96",
   "metadata": {},
   "outputs": [],
   "source": [
    "# Une liste vide\n",
    "a = []  # an empty list\n",
    "print(a)\n",
    "\n",
    "print(\"\\n\\n\")  # leave two lines blank\n",
    "b = [1, 2, 3, 4]  # list of numbers\n",
    "print(b)\n",
    "print(\"\\n\\n\")\n",
    "fruits = [\"Orange\", \"Banana\", \"Apple\"]  # list of fruits\n",
    "print(fruits)\n",
    "\n",
    "print(\"\\n\\n\")\n",
    "# you can mix list using different datatypes\n",
    "mylist = [1, \"Pineapple\", 3.14, [2, 3, 4]]\n",
    "print(mylist)"
   ]
  },
  {
   "cell_type": "markdown",
   "id": "b4cf06d3-7ae9-46e5-834e-0c580ebb09c6",
   "metadata": {},
   "source": [
    "## Tuple\n",
    "### Un tuple, c'est comme une liste, sauf que les éléments ne peuvent pas être changés (non mutable) : t = ('a', 'b'); t[0] = 'c' renvoie une erreur."
   ]
  },
  {
   "cell_type": "code",
   "execution_count": null,
   "id": "e9daded0-8e20-4b4e-9210-c28d758b4936",
   "metadata": {},
   "outputs": [],
   "source": [
    "# Tuple\n",
    "t = ()  # an empty tuple\n",
    "print(t)\n",
    "\n",
    "\n",
    "mytuple1 = (1, 2, 3, 4, 5)\n",
    "print(mytuple1)"
   ]
  },
  {
   "cell_type": "code",
   "execution_count": null,
   "id": "93c027c8-d18f-4b7a-a75e-819e34de6bbf",
   "metadata": {},
   "outputs": [],
   "source": [
    "bar = [(2, 3, 4), (), (\"Banana\", \"orange\")]\n",
    "type(bar)"
   ]
  },
  {
   "cell_type": "markdown",
   "id": "20d51444-faf2-4d45-a09c-3e24d8a01f0b",
   "metadata": {
    "tags": []
   },
   "source": [
    "### Dictionary\n",
    "Un ensemble d'affectation cle valeur. "
   ]
  },
  {
   "cell_type": "code",
   "execution_count": null,
   "id": "6aab0c46-97ef-4bba-976e-bbfb644bb0ab",
   "metadata": {},
   "outputs": [],
   "source": [
    "traduction = {\"chien\": \"Dog\", \"Chat\": \"Cat\", \"Guinee\": \"Guinea\"}\n",
    "traduction"
   ]
  },
  {
   "cell_type": "markdown",
   "id": "256cb37d-6024-43de-b850-4033fd214d78",
   "metadata": {},
   "source": [
    "**NB**: la cle doivent etre unique par example comme j'ai une cle chien je peux pas faire entre une autre cle Chien"
   ]
  },
  {
   "cell_type": "code",
   "execution_count": null,
   "id": "2daadbcb-ff0c-425b-ae46-56c95bca91b5",
   "metadata": {},
   "outputs": [],
   "source": [
    "dic = {}  # an empty dictionary\n",
    "\n",
    "mydic = {\"username\": \"abdoulayegk\", \"online\": True, \"followers\": 987}\n",
    "print(mydic)"
   ]
  },
  {
   "cell_type": "code",
   "execution_count": null,
   "id": "8b576c8a-c9b1-4e6f-8f54-b94f2c154921",
   "metadata": {},
   "outputs": [],
   "source": [
    "mydic[\"username\"]"
   ]
  },
  {
   "cell_type": "code",
   "execution_count": null,
   "id": "27fdd2ff-5a66-458c-86f9-dc24941a8650",
   "metadata": {},
   "outputs": [],
   "source": [
    "print(mydic[\"followers\"])\n",
    "# Returns 987\n",
    "\n",
    "print(mydic[\"online\"])\n",
    "# Returns True"
   ]
  },
  {
   "cell_type": "code",
   "execution_count": null,
   "id": "d2a57240-7850-43ad-9be4-80d25da417b3",
   "metadata": {},
   "outputs": [],
   "source": [
    "# to print the key values pair\n",
    "for key, value in mydic.items():\n",
    "    print(key, \"is the key for the value\", value)"
   ]
  },
  {
   "cell_type": "markdown",
   "id": "0094c62d-ef4a-403a-95f2-a06deebfedbc",
   "metadata": {},
   "source": [
    "Using Methods to Access Elements <br>\n",
    "In addition to using keys to access values, we can also work with some built-in methods:<br>\n",
    "\n",
    "dict.keys() isolates keys <br>\n",
    "dict.values() isolates values<br>\n",
    "dict.items() returns items in a list format of (key, value) tuple pairs<br>"
   ]
  },
  {
   "cell_type": "code",
   "execution_count": null,
   "id": "d627f536-94cc-470b-ab9d-7f9e44c7f1fe",
   "metadata": {},
   "outputs": [],
   "source": [
    "# To return all the keys of our dictionary\n",
    "print(mydic.keys())"
   ]
  },
  {
   "cell_type": "code",
   "execution_count": null,
   "id": "5d607c21-306d-449a-9835-833954c62979",
   "metadata": {},
   "outputs": [],
   "source": [
    "# To return the values of a dictionary\n",
    "print(mydic.values())"
   ]
  },
  {
   "cell_type": "markdown",
   "id": "52b0a900-01d7-41e2-bc93-3d5330f2630c",
   "metadata": {},
   "source": [
    "# Part 2: creation of Series and DataFrame in Pandas"
   ]
  },
  {
   "cell_type": "markdown",
   "id": "27581ac2-ead3-48bf-819b-f7aa311417c5",
   "metadata": {
    "tags": []
   },
   "source": [
    "## What is a dataframe?\n",
    "* A **dataframe** is a **2-dimensional labeled data structure** with columns of potentially different types. You can think of it like a spreadsheet or SQL table, or a dict of Series objects. It is generally the most commonly used Pandas object. \n",
    "* Pandas borrows the concept of DataFrame from the statistical programming language R.\n",
    "* There are a lot of **different ways to read data** into a dataframe - from lists, dicts, CSVs, databases... In this example, we're loading data from a CSV file!\n",
    "\n",
    "**Let's take a look at the data to familiarize ourselves with the format and data types. In this example, I'm using some treatment data from the oncology domain, including treatment starts and the drugs patients are getting.**"
   ]
  },
  {
   "cell_type": "markdown",
   "id": "333782e4-7c26-4fc8-ac7a-76acadbfd48b",
   "metadata": {},
   "source": [
    "# Importer les bibliothèques nécessaires\n",
    "Avant de travailler avec des bibliothèques comme Pandas ou Numpy, il faut les importer ; et avant même cette étape, il faut installer ces bibliothèques. Si ce n’est pas encore fait sur votre machine, voici donc des [instructions](https://pandas.pydata.org/pandas-docs/stable/getting_started/install.html) pour procéder à l’installation. Une fois que c’est fait, nous pouvons les importer "
   ]
  },
  {
   "cell_type": "code",
   "execution_count": null,
   "id": "7311d787-63bb-4ea1-ad5c-4adca8a6e402",
   "metadata": {},
   "outputs": [],
   "source": [
    "# we first import series from pandas\n",
    "from pandas import Series"
   ]
  },
  {
   "cell_type": "markdown",
   "id": "fbb54870-2cc0-41de-a801-edd5d1fd6dd2",
   "metadata": {},
   "source": [
    "- **Note we can create a series from a list**"
   ]
  },
  {
   "cell_type": "code",
   "execution_count": null,
   "id": "8c8fd631-f85a-4e10-9d7a-a01937f1a281",
   "metadata": {},
   "outputs": [],
   "source": [
    "# let's first creat a serie\n",
    "mylist = [20, 20, 30, 40]\n",
    "\n",
    "s = Series(mylist)\n",
    "s"
   ]
  },
  {
   "cell_type": "code",
   "execution_count": null,
   "id": "636802ce-9c6c-4fa3-a606-f30e8b613784",
   "metadata": {},
   "outputs": [],
   "source": [
    "s[2]"
   ]
  },
  {
   "cell_type": "code",
   "execution_count": null,
   "id": "582a88cb-c239-4e14-a858-9b1f8861dd4e",
   "metadata": {},
   "outputs": [],
   "source": [
    "# you can also et your own index because the default index start from 0 till n\n",
    "ss = Series(\n",
    "    [12, 13, 7, 80, 95], index=list(\"abcde\")\n",
    ")  # not we can use index=['a','b',..]\n",
    "ss\n",
    "\n",
    "\n",
    "# # you can also change the datatype to float or unsigned int\n",
    "# Series(\n",
    "#     [20.5, 12, 34, 56, 100],\n",
    "#     index=[\"a\", \"b\", \"c\", \"d\", \"e\"],\n",
    "# )"
   ]
  },
  {
   "cell_type": "code",
   "execution_count": null,
   "id": "c66077b9-9ab5-43a6-807a-34837cb44c24",
   "metadata": {},
   "outputs": [],
   "source": [
    "# On peux changer les type de donne par defaut c'est None\n",
    "s1 = Series([12, 13, 7, 80, 95], index=list(\"abcde\"), dtype=\"int8\")\n",
    "s1"
   ]
  },
  {
   "cell_type": "code",
   "execution_count": null,
   "id": "f63dc327-e6ba-43bc-82a3-e27f05258ee6",
   "metadata": {},
   "outputs": [],
   "source": [
    "# we can use index of integer of our choice for that we use the range function\n",
    "ex1 = Series([5, 3, 7, 8, 19], index=range(10, 15))\n",
    "ex1"
   ]
  },
  {
   "cell_type": "markdown",
   "id": "37797f1e-0ba9-40b4-b6c9-dc69df494b8e",
   "metadata": {},
   "source": [
    "## Sclicing series"
   ]
  },
  {
   "cell_type": "code",
   "execution_count": null,
   "id": "922d9736-b687-4871-8ffb-196beac877a8",
   "metadata": {},
   "outputs": [],
   "source": [
    "# using the above example we want to get the value at index 10 we can do following\n",
    "ex1[10]  # output should be 5"
   ]
  },
  {
   "cell_type": "code",
   "execution_count": null,
   "id": "3ac62698-fc93-42e8-ab92-e22f3f7d1213",
   "metadata": {},
   "outputs": [],
   "source": [
    "# using the string base index we can ge the same by using \"\" inside the bracket\n",
    "# if we want to get the value at index e we can do\n",
    "print(ss)\n",
    "print(\"Value at index e is {}\".format(ss[\"e\"]))"
   ]
  },
  {
   "cell_type": "code",
   "execution_count": null,
   "id": "2662e17f-5489-41d1-8142-6a3a5ee58fba",
   "metadata": {},
   "outputs": [],
   "source": [
    "# you can also add element to your series. Let's say I want to add 200 in ss\n",
    "ss[\"f\"] = 200\n",
    "ss"
   ]
  },
  {
   "cell_type": "code",
   "execution_count": null,
   "id": "856dcf6b-8332-4795-a658-6621bf98f0b3",
   "metadata": {},
   "outputs": [],
   "source": [
    "# use can use comparaison operatiors on series\n",
    "ss > 12\n",
    "\n",
    "\n",
    "# # To make look nice and more readable this will return a series of integer\n",
    "# ss[ss < 13]"
   ]
  },
  {
   "cell_type": "code",
   "execution_count": null,
   "id": "13cca2b4-5c2b-43eb-b1dd-b1c3fe92d207",
   "metadata": {},
   "outputs": [],
   "source": [
    "# What will be difference between the following two lines(list and array)\n",
    "\n",
    "l = [12, 13, 7, 80, 95] * 2\n",
    "print(l)\n",
    "print(\"\\n\\n\")\n",
    "\n",
    "print(ss * 2)"
   ]
  },
  {
   "cell_type": "markdown",
   "id": "f7ee917f-2b82-4864-9078-de9b6a79987b",
   "metadata": {},
   "source": [
    "### Dataframe"
   ]
  },
  {
   "cell_type": "code",
   "execution_count": null,
   "id": "264b3e03-f4a5-4fc9-8716-5ea7564bea07",
   "metadata": {},
   "outputs": [],
   "source": [
    "from pandas import DataFrame"
   ]
  },
  {
   "cell_type": "code",
   "execution_count": null,
   "id": "7e6353ee-08a4-464e-a5ec-6c925653e93d",
   "metadata": {},
   "outputs": [],
   "source": [
    "data = {\n",
    "    \"capital\": [\n",
    "        \"Delhi\",\n",
    "        \"Delhi\",\n",
    "        \"Delhi\",\n",
    "        \"Delhi\",\n",
    "        \"Delhi\",\n",
    "        \"Conakry\",\n",
    "        \"Conakry\",\n",
    "        \"Conakry\",\n",
    "        \"Conakry\",\n",
    "        \"Conakry\",\n",
    "        \"washington\",\n",
    "        \"washington\",\n",
    "        \"washington\",\n",
    "        \"washington\",\n",
    "        \"washington\",\n",
    "    ],\n",
    "    \"year\": [\n",
    "        2001,\n",
    "        2004,\n",
    "        2007,\n",
    "        2010,\n",
    "        2015,\n",
    "        2001,\n",
    "        2005,\n",
    "        2008,\n",
    "        2011,\n",
    "        2019,\n",
    "        2001,\n",
    "        2003,\n",
    "        2007,\n",
    "        2009,\n",
    "        2017,\n",
    "    ],\n",
    "    \"pop\": [\n",
    "        2.45,\n",
    "        2.99,\n",
    "        3.01,\n",
    "        3.50,\n",
    "        4.24,\n",
    "        2.47,\n",
    "        2.73,\n",
    "        2.85,\n",
    "        2.99,\n",
    "        3.11,\n",
    "        2.11,\n",
    "        3.00,\n",
    "        3.67,\n",
    "        3.73,\n",
    "        3.97,\n",
    "    ],\n",
    "}\n",
    "\n",
    "df = DataFrame(data)\n",
    "df"
   ]
  },
  {
   "cell_type": "code",
   "execution_count": null,
   "id": "eb712bf6-9dac-4832-b31e-091f63ea4616",
   "metadata": {},
   "outputs": [],
   "source": [
    "# we can see the capital whcich are not guinea\n",
    "df[df[\"capital\"] != \"Conakry\"]"
   ]
  },
  {
   "cell_type": "code",
   "execution_count": null,
   "id": "1ea3222a-fb14-4577-a963-4e385f30c9e6",
   "metadata": {},
   "outputs": [],
   "source": []
  },
  {
   "cell_type": "code",
   "execution_count": null,
   "id": "4dadab51-5d2b-49ad-8802-34459ff9fc45",
   "metadata": {},
   "outputs": [],
   "source": [
    "# create a new dataframe where year is greater than 2010\n",
    "\n",
    "df[df[\"year\"] > 2010]"
   ]
  },
  {
   "cell_type": "code",
   "execution_count": null,
   "id": "34d62e1c-bd44-46fa-bad4-44414cd2f603",
   "metadata": {},
   "outputs": [],
   "source": [
    "# we can also slice a dataframe for example if we want to capital and year only we can do following\n",
    "\n",
    "df[\n",
    "    [\"capital\", \"year\"]\n",
    "].head()  # the head function will return the first 5 rows of your dataframe"
   ]
  },
  {
   "cell_type": "code",
   "execution_count": null,
   "id": "4db60234-e7ad-4d5b-b413-96b4b169d35b",
   "metadata": {},
   "outputs": [],
   "source": [
    "df.to_csv(\"workshop.csv\", index=False)"
   ]
  },
  {
   "cell_type": "markdown",
   "id": "ffe64b98-6c01-46c4-94d4-b2841c34a83d",
   "metadata": {},
   "source": [
    "# Part 3: Loading and inspecting a (csv)\n",
    "\n",
    "Before we can start answering questions about the data we need to do a little bit of exploratory analysis.The first thing we need to do when working with a new dataset is to get an idea of what the data looks like. We start by loading the data into memory. Pandas comes with a built-in `read_csv` function that we can use to read CSV files and load them directly to a pandas `DataFrame` object. \n",
    "- **Note the dataset is on my github account** [dataset](https://raw.githubusercontent.com/abdoulayegk/ml-workshop/main/kidney_disease.csv)"
   ]
  },
  {
   "cell_type": "code",
   "execution_count": null,
   "id": "3f4e14d7-ae47-4c78-b6b7-1c20618ecb80",
   "metadata": {},
   "outputs": [],
   "source": [
    "# We need to import the libraries to start with\n",
    "import warnings\n",
    "\n",
    "import matplotlib.pyplot as plt\n",
    "import missingno as ms\n",
    "import numpy as np\n",
    "import pandas as pd\n",
    "import seaborn as sns\n",
    "\n",
    "warnings.filterwarnings(\"ignore\")\n",
    "# This command makes charts show inline in a notebook\n",
    "%matplotlib inline\n",
    "plt.style.use(\"ggplot\")\n",
    "\n",
    "# Making the figures show up a little larger than default size\n",
    "plt.rcParams[\"figure.figsize\"] = [10, 6]"
   ]
  },
  {
   "cell_type": "markdown",
   "id": "d0a2df99-48b1-40b1-8bd6-e02874ea70f9",
   "metadata": {},
   "source": [
    "### Loading real world dataset"
   ]
  },
  {
   "cell_type": "code",
   "execution_count": null,
   "id": "fc38bea1-528f-445e-90dc-45527bf5237f",
   "metadata": {},
   "outputs": [],
   "source": [
    "# Read data from a CSV into a dataframe\n",
    "# This is the data we're going to be working with!\n",
    "df = pd.read_csv(\"kidney_disease.csv\")"
   ]
  },
  {
   "cell_type": "code",
   "execution_count": null,
   "id": "b16bd6ac-db3a-4c80-abd8-d07c1997b295",
   "metadata": {},
   "outputs": [],
   "source": [
    "# Just typing the name of the dataframe will print the entire output\n",
    "# If there are too many rows, Jupyter will print the top few and\n",
    "# bottom few rows with a \"...\" to indicate that there are more rows\n",
    "df"
   ]
  },
  {
   "cell_type": "markdown",
   "id": "09c5f17d-02e6-403c-b1c9-19a62a834990",
   "metadata": {},
   "source": [
    "# Data Set Information:\n",
    "\n",
    "We use the following representation to collect the dataset \n",
    "1. age - age\n",
    "2. bp - blood pressure\n",
    "3. sg - specific gravity\n",
    "4. al - albumin\n",
    "5. su - sugar\n",
    "6. rbc - red blood cells\n",
    "7. pc - pus cell\n",
    "8. pcc - pus cell clumps\n",
    "9. ba - bacteria\n",
    "10. bgr - blood glucose random\n",
    "11. bu - blood urea\n",
    "12. sc - serum creatinine\n",
    "13. sod - sodium\n",
    "14. pot - potassium\n",
    "15. hemo - hemoglobin\n",
    "16. pcv - packed cell volume\n",
    "17. wc - white blood cell count\n",
    "18. rc - red blood cell count\n",
    "19. htn - hypertension\n",
    "20. dm - diabetes mellitus\n",
    "21. cad - coronary artery disease\n",
    "22. appet - appetite\n",
    "23. pe - pedal edema\n",
    "24. ane - anemia\n",
    "25. class - class\n",
    "26. id"
   ]
  },
  {
   "cell_type": "markdown",
   "id": "de3d000f-d54b-419d-9e62-9df4d8f39d35",
   "metadata": {},
   "source": [
    "## Inspecting a dataframe using built-in functions\n",
    "* Most operations on a dataframe happen by applying a function to it using the \".\" notation, e.g. `my_dataframe.do_something()`\n",
    "* Let's look at some simple functions that we can apply to Pandas dataframes"
   ]
  },
  {
   "cell_type": "markdown",
   "id": "ea558ba5-6f93-458a-9a37-9bc9e8b19632",
   "metadata": {},
   "source": [
    "**Note**: It is very important to give your columns name a meaningful names."
   ]
  },
  {
   "cell_type": "code",
   "execution_count": null,
   "id": "a0b4abfc-ad14-41d7-81e1-4f3ffc4ab79b",
   "metadata": {},
   "outputs": [],
   "source": [
    "# let's see the columns name of our dataset\n",
    "df.columns.to_list()"
   ]
  },
  {
   "cell_type": "code",
   "execution_count": null,
   "id": "5e6cc71e-f292-4f09-b0e7-5e1c4f3d88db",
   "metadata": {},
   "outputs": [],
   "source": [
    "# The head(n) function shows the first n rows in a dataframe. les 5 premiere Rangees de notre table\n",
    "# If no n is specified, it defaults to 5  Rangee.\n",
    "df.head()"
   ]
  },
  {
   "cell_type": "code",
   "execution_count": null,
   "id": "044feb21-85d2-4019-9494-7b7224f44183",
   "metadata": {},
   "outputs": [],
   "source": [
    "# You can also use the sample() function to get n random rows in\n",
    "# the dataframe\n",
    "df.sample(5)"
   ]
  },
  {
   "cell_type": "code",
   "execution_count": null,
   "id": "9f1b069b-4901-4f97-970f-6dbb27f6282d",
   "metadata": {},
   "outputs": [],
   "source": [
    "# This method prints information about a DataFrame including the index dtype and columns, non-null values and memory usage\n",
    "# Let's talk about the # column later!\n",
    "df.info()"
   ]
  },
  {
   "cell_type": "code",
   "execution_count": null,
   "id": "26313768-8916-45cf-960a-3dcca1c80ba7",
   "metadata": {},
   "outputs": [],
   "source": [
    "# the variable classification is our target so let's rename it.\n",
    "df = df.rename(columns={\"classification\": \"target\"})"
   ]
  },
  {
   "cell_type": "code",
   "execution_count": null,
   "id": "7cd74add-66e3-4fbd-b339-e72820797657",
   "metadata": {},
   "outputs": [],
   "source": [
    "# The describe function shows some basic statistics for numeric columns\n",
    "# We only have one here (Dosage), so this isn't very interesting\n",
    "df.describe().T"
   ]
  },
  {
   "cell_type": "code",
   "execution_count": null,
   "id": "685069ac-2b4c-4ef7-aaf0-de98fae79259",
   "metadata": {},
   "outputs": [],
   "source": [
    "# now let's see the shape of our dataset Nombre de rangees et numbere de columns\n",
    "df.shape"
   ]
  },
  {
   "cell_type": "markdown",
   "id": "0d9e7168-3327-43ea-a423-c4c9369240c9",
   "metadata": {},
   "source": [
    "## Other ways to inspect a dataframe\n",
    "* There are other operations you can do on a dataframe that don't follow the function notation\n",
    "* Let's look at a few examples:\n",
    "1. len(df)\n",
    "2. df.dtypes, etc\n"
   ]
  },
  {
   "cell_type": "markdown",
   "id": "52ec970e-297e-426f-8748-db2095880158",
   "metadata": {},
   "source": [
    "## <span style=\"color:blue\">*** DIY exercise ***</span>\n",
    "Create a new cell below and print the first ten rows of the \"df\" dataframe."
   ]
  },
  {
   "cell_type": "markdown",
   "id": "9043fc0e-7658-443f-ba45-bfdc091f61de",
   "metadata": {},
   "source": [
    "# Part 4: Data Exploration\n",
    "Let's assume we've loaded the treatment related data from our dataset in order to provide them with some analytical insights around the types of disease a patient has."
   ]
  },
  {
   "cell_type": "markdown",
   "id": "c24acea9-d4de-4b86-a7bf-ca897c609d5a",
   "metadata": {},
   "source": [
    "## Accessing columns in a dataframe"
   ]
  },
  {
   "cell_type": "code",
   "execution_count": null,
   "id": "e5ab8980-bdbc-4b50-ab4a-98b110110df3",
   "metadata": {},
   "outputs": [],
   "source": [
    "# let's plot a graph to see missing values in our dataset\n",
    "ms.matrix(df)"
   ]
  },
  {
   "cell_type": "code",
   "execution_count": null,
   "id": "2e63e672-7862-4b8c-a307-fec0d8a0cf5e",
   "metadata": {},
   "outputs": [],
   "source": [
    "# Check the type to show that this indeed returns a Series object\n",
    "type(df[\"wc\"])"
   ]
  },
  {
   "cell_type": "code",
   "execution_count": null,
   "id": "31584e78-a0ab-4230-90db-9561e793886c",
   "metadata": {},
   "outputs": [],
   "source": [
    "# And this is how you access two columns of a dataframe.\n",
    "# Note that this will return a dataframe again, not a series\n",
    "# (because a series has only one column...)\n",
    "# Also note the double square brackets\n",
    "# because you're passing a *list* of columns as an argument\n",
    "df[[\"wc\", \"pcc\"]].head()"
   ]
  },
  {
   "cell_type": "markdown",
   "id": "a7d8e72e-5116-4199-a670-d74482f15aaa",
   "metadata": {
    "tags": []
   },
   "source": [
    "## <span style=\"color:blue\">*** DIY exercise ***</span>\n",
    "Create a new cell below and print the list of unique pc in the dataframe."
   ]
  },
  {
   "cell_type": "code",
   "execution_count": null,
   "id": "0c864c2e-2ea3-4f1b-8d92-f59efadc32e0",
   "metadata": {},
   "outputs": [],
   "source": []
  },
  {
   "cell_type": "markdown",
   "id": "2ead8d39-e41f-4452-9174-fcf47f0f2550",
   "metadata": {
    "tags": []
   },
   "source": [
    "## Accessing rows in a dataframe\n",
    "In addition to slicing by column, we often want to get the record where a column has a specific value, e.g. a specific age here. This can be done using the `.loc` function syntax and a boolean statement:"
   ]
  },
  {
   "cell_type": "markdown",
   "id": "e3871f1d-7ed3-4618-a0f3-fc3c4a3587fe",
   "metadata": {},
   "source": [
    "### Loc"
   ]
  },
  {
   "cell_type": "code",
   "execution_count": null,
   "id": "267e55b5-ddd7-4d08-9b64-ec16b5b70ceb",
   "metadata": {},
   "outputs": [],
   "source": [
    "# Access the record(s) where the value in the PatientID column is PT20\n",
    "df.loc[df[\"age\"] == 20]"
   ]
  },
  {
   "cell_type": "code",
   "execution_count": null,
   "id": "1aeed7d0-da94-4cd1-9ff1-d541a7120a9a",
   "metadata": {},
   "outputs": [],
   "source": [
    "# You can also use boolean conditions in the selector\n",
    "df.loc[(df[\"age\"] == 20) & (df[\"pc\"] == \"normal\")]"
   ]
  },
  {
   "cell_type": "markdown",
   "id": "a6f6dece-a3b1-40be-bb34-426220779838",
   "metadata": {},
   "source": [
    "### iloc"
   ]
  },
  {
   "cell_type": "code",
   "execution_count": null,
   "id": "b11e0cb9-9744-427d-84b8-a56025d49344",
   "metadata": {},
   "outputs": [],
   "source": [
    "df.iloc[:, [2, 3]]"
   ]
  },
  {
   "cell_type": "code",
   "execution_count": null,
   "id": "9d4215f8-3dd4-45cd-a227-6435c72bce23",
   "metadata": {},
   "outputs": [],
   "source": [
    "df.iloc[[0, 2], [1, 3]]"
   ]
  },
  {
   "cell_type": "code",
   "execution_count": null,
   "id": "252d5316-2192-4241-b8e4-6ab7a086b5f2",
   "metadata": {},
   "outputs": [],
   "source": [
    "df.iloc[:, lambda df: [0, 2]]"
   ]
  },
  {
   "cell_type": "markdown",
   "id": "3063edd2-701b-4a13-b9b6-ce69b2af605b",
   "metadata": {},
   "source": [
    "**loc()** fait référence  l’étiquette.<br>\n",
    "**iloc()** fait référence à l’indice de position."
   ]
  },
  {
   "cell_type": "markdown",
   "id": "6b20772a-39a4-411a-9015-8870a2ecbe70",
   "metadata": {},
   "source": [
    "## Sorting dataframes\n",
    "Sorting the output of a dataframe can be helpful for visually inspecting or presenting data! Sorting by one or multiple columns is super easy using the `sort_values` function:"
   ]
  },
  {
   "cell_type": "code",
   "execution_count": null,
   "id": "f1491c9f-3e34-422d-8101-a611665cae23",
   "metadata": {},
   "outputs": [],
   "source": [
    "# Sort by earliest treatment start date, i.e. in ascending order (default)\n",
    "df.sort_values(\"age\").head()"
   ]
  },
  {
   "cell_type": "markdown",
   "id": "f8972576-f486-470a-8790-4ba7422f8e5a",
   "metadata": {},
   "source": [
    "-**Note you can use ascending=False to sort in descending order also you can sort a whole DataFrame**\n"
   ]
  },
  {
   "cell_type": "code",
   "execution_count": null,
   "id": "0ee09872-f66d-42a6-ba19-55af08437872",
   "metadata": {},
   "outputs": [],
   "source": [
    "# Use the inplace keyword to modify the dataframe\n",
    "# Note that you can also sort by a list of columns\n",
    "df.sort_values([\"id\", \"age\"], inplace=True)"
   ]
  },
  {
   "cell_type": "code",
   "execution_count": null,
   "id": "58e011c8-ff08-487e-aa06-604c38d37142",
   "metadata": {},
   "outputs": [],
   "source": [
    "# we can use replace as you can see here we are using dictionary\n",
    "df[\"target\"].replace({\"ckd\": 1, \"notckd\": 0}, inplace=True)"
   ]
  },
  {
   "cell_type": "markdown",
   "id": "5f494abe-1848-4a23-8c56-2ef195cbd45f",
   "metadata": {},
   "source": [
    "in this case the change that we made is temporary because we didn't change in the official data"
   ]
  },
  {
   "cell_type": "code",
   "execution_count": null,
   "id": "3affccca-cf4b-46b5-9b2f-3dcaad977080",
   "metadata": {},
   "outputs": [],
   "source": [
    "# use inplace=true to make the change in the original dataset"
   ]
  },
  {
   "cell_type": "code",
   "execution_count": null,
   "id": "e091da8b-a010-4a8d-aa65-1ccf1ca5f963",
   "metadata": {},
   "outputs": [],
   "source": [
    "sns.catplot(x=\"target\", kind=\"count\", data=df)"
   ]
  },
  {
   "cell_type": "code",
   "execution_count": null,
   "id": "181a1198-85bc-4ad2-8446-9d46f6647189",
   "metadata": {},
   "outputs": [],
   "source": [
    "df.rc.unique()"
   ]
  },
  {
   "cell_type": "markdown",
   "id": "17b6eda2-fd22-4d42-9a45-8affdfd0338c",
   "metadata": {},
   "source": [
    "You can from the above cell that we are having a string of numbers that's why we we're having dtype as object we have to convert it to the appropriate format"
   ]
  },
  {
   "cell_type": "code",
   "execution_count": null,
   "id": "11058c4a-a1c7-4bd7-a607-b15ed5832e4c",
   "metadata": {},
   "outputs": [],
   "source": [
    "df.pcv.unique()"
   ]
  },
  {
   "cell_type": "code",
   "execution_count": null,
   "id": "d1a540a1-6350-4728-86cc-92a480a628a7",
   "metadata": {},
   "outputs": [],
   "source": [
    "df.wc.unique()"
   ]
  },
  {
   "cell_type": "code",
   "execution_count": null,
   "id": "0425f4e6-f697-400f-a8fa-77af89b9d6a9",
   "metadata": {},
   "outputs": [],
   "source": [
    "df.sg.unique()"
   ]
  },
  {
   "cell_type": "code",
   "execution_count": null,
   "id": "57ab3585-90f9-4de6-8cee-04cd5a45a1c2",
   "metadata": {},
   "outputs": [],
   "source": [
    "df.wc.unique()"
   ]
  },
  {
   "cell_type": "markdown",
   "id": "0d8dcd35-f720-46c3-8aad-7a93f5058bf1",
   "metadata": {},
   "source": [
    " Our rc column is an object also we have some missing values and some thing that we don't really know like ?. we are going to replace all my the mean in this case and then we will fill missing values."
   ]
  },
  {
   "cell_type": "code",
   "execution_count": null,
   "id": "ebb11d27-9bea-49f3-b062-5432da3462af",
   "metadata": {},
   "outputs": [],
   "source": [
    "# To replace the string caracters with NaN\n",
    "df.rc.replace(\"?\", np.nan, inplace=True)\n",
    "df.wc.replace((\"?\"), np.nan, inplace=True)\n",
    "df.pcv.replace((\"?\"), np.nan, inplace=True)"
   ]
  },
  {
   "cell_type": "code",
   "execution_count": null,
   "id": "600e2299-4fad-4f7a-8b17-fd567bfb92bf",
   "metadata": {},
   "outputs": [],
   "source": [
    "df.rbc.unique()"
   ]
  },
  {
   "cell_type": "markdown",
   "id": "513ef539-e939-4ca3-ae0a-c7db3d0d977f",
   "metadata": {},
   "source": [
    "if you notice age is of float type so it's good to convert it to int but for not let's leave it as it it is."
   ]
  },
  {
   "cell_type": "code",
   "execution_count": null,
   "id": "01fd26aa-3732-4365-b7ec-2e79f1f2ac13",
   "metadata": {},
   "outputs": [],
   "source": [
    "sns.distplot(df.age)"
   ]
  },
  {
   "cell_type": "markdown",
   "id": "bea73f72-aeea-4003-a847-87d2c60ed195",
   "metadata": {},
   "source": [
    "#### These are still object so we have to convert it to numerical.\n",
    "1. pcv        \n",
    "2. wc         \n",
    "3. rc         "
   ]
  },
  {
   "cell_type": "code",
   "execution_count": null,
   "id": "3007aa21-0bb1-480a-a31f-110d79e33dde",
   "metadata": {},
   "outputs": [],
   "source": [
    "# now we have to change the datatype of pcv, wc and rc\n",
    "df.wc = df.wc.astype(\"float64\")\n",
    "df.rc = df.rc.astype(\"float64\")\n",
    "df.pcv = df.pcv.astype(\"float64\")"
   ]
  },
  {
   "cell_type": "code",
   "execution_count": null,
   "id": "94d15e7e-d9d5-4203-859a-8d8d91897bb8",
   "metadata": {},
   "outputs": [],
   "source": [
    "# # Now let's fill missing values\n",
    "# df.age.fillna(df.age.mean(), inplace=True)\n",
    "# df.bp.fillna(df.bp.mean(), inplace=True)\n",
    "# df.sg.fillna(df.sg.mean(), inplace=True)\n",
    "# df.al.fillna(df.al.mean(), inplace=True)\n",
    "# df.su.fillna(df.su.mode(), inplace=True)\n",
    "# df.wc.fillna(df.wc.mean(), inplace=True)\n",
    "# df.pcv.fillna(df.pcv.mean(), inplace=True)\n",
    "# df.rc.fillna(df.rc.mean(), inplace=True)\n",
    "# df.age.fillna(df.age.mean(), inplace=True)\n",
    "# df.al.fillna(df.al.mode(), inplace=True)\n",
    "# df.su.fillna(df.su.mean(), inplace=True)\n",
    "# df.pot.fillna(df.pot.mean(), inplace=True)\n",
    "# df.bu.fillna(df.bu.mean(), inplace=True)\n",
    "# df.sod.fillna(df.sod.mean(), inplace=True)\n",
    "# df.hemo.fillna(df.hemo.mean(), inplace=True)\n",
    "# df.sc.fillna(df.sc.mean(), inplace=True)\n",
    "# df.bgr.fillna(df.bgr.mean(), inplace=True)"
   ]
  },
  {
   "cell_type": "markdown",
   "id": "2a165e37-922b-4f4b-aff4-9f83670232aa",
   "metadata": {},
   "source": [
    "**NB** Il ya plusieure facons de remplace les valuers manquantes:\n",
    "1. fillna(0)\n",
    "2. ffill()\n",
    "3. bfill(), etc"
   ]
  },
  {
   "cell_type": "code",
   "execution_count": null,
   "id": "864c1fd1-234d-483c-9045-1521ea81faad",
   "metadata": {},
   "outputs": [],
   "source": [
    "df.isna().sum()"
   ]
  },
  {
   "cell_type": "code",
   "execution_count": null,
   "id": "f58c3e29-d8cb-4247-8a5f-f10ea47cc3c7",
   "metadata": {},
   "outputs": [],
   "source": [
    "df.rbc.unique()\n",
    "df.rbc = df.rbc.map({\"normal\": 1, \"abnormal\": 0})\n",
    "df.pc = df.pc.map({\"normal\": 1, \"abnormal\": 0})\n",
    "df.pcc = df.pcc.map({\"present\": 1, \"notpresent\": 0})\n",
    "df.ba = df.ba.map({\"present\": 1, \"notpresent\": 0})\n",
    "df.htn = df.htn.map({\"yes\": 1, \"no\": 0})\n",
    "df.dm = df.dm.map({\"yes\": 1, \"no\": 0})\n",
    "df.cad = df.cad.map({\"yes\": 1, \"no\": 0})\n",
    "df.appet = df.appet.map({\"good\": 1, \"poor\": 0})\n",
    "df.pe = df.pe.map({\"yes\": 1, \"no\": 0})\n",
    "df.ane = df.ane.map({\"yes\": 1, \"no\": 0})"
   ]
  },
  {
   "cell_type": "markdown",
   "id": "68acd344-1d25-4849-a12b-6ad5103ec82b",
   "metadata": {},
   "source": [
    "**NB** Sklearn provide a nice way of encoding features:\n",
    "- OneHotEncoder [Reference](https://scikit-learn.org/stable/modules/generated/sklearn.preprocessing.OneHotEncoder.html)\n",
    "\n",
    "\n",
    "**Pandas also provide one nice dummy encoder function**\n",
    "- pd.get_dummes() [Reference](https://pandas.pydata.org/pandas-docs/stable/reference/api/pandas.get_dummies.html)"
   ]
  },
  {
   "cell_type": "code",
   "execution_count": null,
   "id": "2e51407a-af0c-4af0-aab5-a278a54bc070",
   "metadata": {},
   "outputs": [],
   "source": [
    "df.htn.unique()"
   ]
  },
  {
   "cell_type": "code",
   "execution_count": null,
   "id": "70683e2c-bdcb-4113-9c2a-aff1118fc7ae",
   "metadata": {},
   "outputs": [],
   "source": [
    "df.head()"
   ]
  },
  {
   "cell_type": "code",
   "execution_count": null,
   "id": "8b25dfbf-54a2-40c1-a7c9-a20fcf0b7811",
   "metadata": {},
   "outputs": [],
   "source": [
    "df.isna().sum()"
   ]
  },
  {
   "cell_type": "code",
   "execution_count": null,
   "id": "2370f6b5-af6b-4674-a90c-ee88bb0390be",
   "metadata": {},
   "outputs": [],
   "source": [
    "df.age.plot(kind=\"hist\", bins=20)\n",
    "plt.show()"
   ]
  },
  {
   "cell_type": "code",
   "execution_count": null,
   "id": "4201cf84-badf-49ea-ad73-717c01a5cd43",
   "metadata": {},
   "outputs": [],
   "source": [
    "print(df.target.value_counts(normalize=True) * 100)"
   ]
  },
  {
   "cell_type": "code",
   "execution_count": null,
   "id": "173cf117-f6d8-40b2-884f-4829b6f20a1e",
   "metadata": {},
   "outputs": [],
   "source": [
    "# Explore appetite  vs target\n",
    "\n",
    "plt.figure(figsize=(16, 6))\n",
    "sns.countplot(x=\"appet\", hue=\"target\", data=df)\n",
    "plt.xticks(fontweight=\"light\", fontsize=\"x-large\");"
   ]
  },
  {
   "cell_type": "code",
   "execution_count": null,
   "id": "206fbc36-5ead-4260-94c2-60c98183490d",
   "metadata": {},
   "outputs": [],
   "source": [
    "# Explore pc(pus cell)  vs target\n",
    "\n",
    "plt.figure(figsize=(16, 6))\n",
    "sns.countplot(x=\"pc\", hue=\"target\", data=df)\n",
    "plt.xticks(fontweight=\"light\", fontsize=\"x-large\")\n",
    "plt.show()"
   ]
  },
  {
   "cell_type": "markdown",
   "id": "e5630e25-b0e3-4169-97ac-b49fdaff90c3",
   "metadata": {},
   "source": [
    "### Boxplot: boxplot is a method for graphically depicting groups of numerical data through their quartiles."
   ]
  },
  {
   "cell_type": "code",
   "execution_count": null,
   "id": "a8a82031-7ba8-4e78-aa83-ba1d56c9867d",
   "metadata": {},
   "outputs": [],
   "source": [
    "sns.boxplot(x=df.age)"
   ]
  },
  {
   "cell_type": "code",
   "execution_count": null,
   "id": "83dc94c2-73a0-488b-8523-6836d77700fd",
   "metadata": {},
   "outputs": [],
   "source": [
    "# from the above cess we can see that we have outliers(extrime values). we can visialize a boxplot as a way to see outliers on our data"
   ]
  },
  {
   "cell_type": "code",
   "execution_count": null,
   "id": "2800dc2c-cbb1-49fc-ad21-00c8ddd51f19",
   "metadata": {},
   "outputs": [],
   "source": [
    "sns.heatmap(df.corr(), annot=True)"
   ]
  },
  {
   "cell_type": "markdown",
   "id": "a53325a3-1ce8-416f-8d75-786e2229278e",
   "metadata": {},
   "source": [
    "### what is the total number of people who's age is greater than 20 and are suffering from the disease?"
   ]
  },
  {
   "cell_type": "code",
   "execution_count": null,
   "id": "bf311c5d-03db-4a91-8551-7a703a606d84",
   "metadata": {},
   "outputs": [],
   "source": [
    "len(df[(df[\"age\"] > 20) & (df[\"target\"] == 1)])"
   ]
  },
  {
   "cell_type": "markdown",
   "id": "10092736-f721-493a-ae21-fc58dc1d95e4",
   "metadata": {},
   "source": [
    "We can see that 233 people have their age greater than 20 and are also suffering from the disease"
   ]
  },
  {
   "cell_type": "markdown",
   "id": "e9e8932b-b0b8-4b92-a3a0-6c9c9162de7c",
   "metadata": {},
   "source": [
    "### what is the number of people who's appetite is good but suffering from the disease?"
   ]
  },
  {
   "cell_type": "code",
   "execution_count": null,
   "id": "e9a96039-013e-4fd2-8395-3095891da427",
   "metadata": {},
   "outputs": [],
   "source": [
    "len(df[(df[\"appet\"] == 1) & (df[\"target\"] == 1)])"
   ]
  },
  {
   "cell_type": "markdown",
   "id": "7ab4fabe-4575-4596-8027-b6b3a27af5dd",
   "metadata": {},
   "source": [
    "It appear to be 168 people with good appetite but suffering from the disease"
   ]
  },
  {
   "cell_type": "markdown",
   "id": "0de81f9d-71a3-43b7-82c6-3830ebfbd5d4",
   "metadata": {
    "tags": []
   },
   "source": [
    "## Query\n",
    "Query the columns of a DataFrame with a boolean expression.\n",
    "\n",
    "inplace: bool\n",
    "Whether the query should modify the data in place or return a modified copy.\n"
   ]
  },
  {
   "cell_type": "code",
   "execution_count": null,
   "id": "1a7565ce-b5fc-454e-93b9-f05a542c64b1",
   "metadata": {},
   "outputs": [],
   "source": [
    "df.query(\"age > 70\")"
   ]
  },
  {
   "cell_type": "markdown",
   "id": "9e4b2eec-2734-4f73-a962-dbaa8e0afd9f",
   "metadata": {},
   "source": [
    "**Node** we can use this method to create a brand new dataframe or modify the original dataframe by using **inplace=True**."
   ]
  },
  {
   "cell_type": "markdown",
   "id": "2c32d5f3-d231-463c-827c-31c7320ab05b",
   "metadata": {},
   "source": [
    "# Model building"
   ]
  },
  {
   "cell_type": "code",
   "execution_count": null,
   "id": "962596b1-7445-490d-b922-c14543587196",
   "metadata": {},
   "outputs": [],
   "source": [
    "from sklearn.impute import SimpleImputer\n",
    "from sklearn.linear_model import LogisticRegression\n",
    "from sklearn.model_selection import train_test_split\n",
    "from sklearn.pipeline import Pipeline\n",
    "from sklearn.preprocessing import LabelEncoder, StandardScaler"
   ]
  },
  {
   "cell_type": "markdown",
   "id": "5b427125-cf03-4177-9fce-a2974bce8c97",
   "metadata": {},
   "source": [
    "![](ml.png)"
   ]
  },
  {
   "cell_type": "code",
   "execution_count": null,
   "id": "5bbeeccc-7e45-4574-b17c-835e912bfe21",
   "metadata": {},
   "outputs": [],
   "source": [
    "df.head()"
   ]
  },
  {
   "cell_type": "code",
   "execution_count": null,
   "id": "eb3ff493-7060-469b-9fb2-04bb315fdc2b",
   "metadata": {},
   "outputs": [],
   "source": []
  },
  {
   "cell_type": "markdown",
   "id": "1ce8cf33-37ec-4efc-92f9-2304e27a9853",
   "metadata": {},
   "source": [
    "### Using  pandas get_dummies\n",
    "I don't always recommand using this you can find the reasons behind it here:[link]('https://stackoverflow.com/questions/36631163/what-are-the-pros-and-cons-between-get-dummies-pandas-and-onehotencoder-sciki#56567037')"
   ]
  },
  {
   "cell_type": "code",
   "execution_count": null,
   "id": "40b84228-4a5c-448a-9307-577b08d6d02d",
   "metadata": {},
   "outputs": [],
   "source": [
    "# Encoding the remainig features with pandas get_dummies\n",
    "# df = pd.get_dummies(df)"
   ]
  },
  {
   "cell_type": "code",
   "execution_count": null,
   "id": "d0330b11-b518-4129-b731-daba53421c9c",
   "metadata": {},
   "outputs": [],
   "source": [
    "# we are going to select the features and the target variable.\n",
    "\"\"\"\n",
    "Note that X is n dimmentional array or dataframe\n",
    "y: 1D array or Series\n",
    "\"\"\"\n",
    "X = df.drop([\"id\", \"target\"], 1)\n",
    "y = df.target"
   ]
  },
  {
   "cell_type": "markdown",
   "id": "d02eb1ca-f207-49dd-a28e-69aea3ff0604",
   "metadata": {},
   "source": [
    "![](img2.png)"
   ]
  },
  {
   "cell_type": "code",
   "execution_count": null,
   "id": "2de5d752-55aa-45e7-8417-fb6398e3646a",
   "metadata": {},
   "outputs": [],
   "source": [
    "X"
   ]
  },
  {
   "cell_type": "markdown",
   "id": "7a7475df-9dd6-4f62-b53a-d3ffe4168768",
   "metadata": {
    "tags": []
   },
   "source": [
    "## Handling missing values\n",
    "we are going to use SimpleImputer from sklearn which is a great technique then we will scale the data.<br>\n",
    "**Standardize features by removing the mean and scaling to unit variance.**\n",
    "\n",
    "The standard score of a sample x is calculated as:\n",
    "\n",
    "z = (x - u) / s\n",
    "1. SimpleImputer: https://scikit-learn.org/stable/modules/generated/sklearn.impute.SimpleImputer.html\n",
    "2. StandardScaler: https://scikit-learn.org/stable/modules/generated/sklearn.preprocessing.StandardScaler.html "
   ]
  },
  {
   "cell_type": "code",
   "execution_count": null,
   "id": "ac31bea1-16bc-46b3-8f87-352bce5041ee",
   "metadata": {},
   "outputs": [],
   "source": [
    "# encoding the target with label encoder\n",
    "encoder = LabelEncoder()\n",
    "df.target = encoder.fit_transform(df.target)"
   ]
  },
  {
   "cell_type": "code",
   "execution_count": null,
   "id": "196d5f2a-afe5-431a-a30d-30c13e34fc11",
   "metadata": {},
   "outputs": [],
   "source": [
    "# scaling the data\n",
    "pipeline = Pipeline(\n",
    "    [(\"impute\", SimpleImputer(strategy=\"mean\")), (\"scale\", StandardScaler())]\n",
    ")\n",
    "\n",
    "X = pd.DataFrame(columns=X.columns, data=pipeline.fit_transform(X))"
   ]
  },
  {
   "cell_type": "code",
   "execution_count": null,
   "id": "e0015d05-30dd-4844-bcfa-a5c8df46c51e",
   "metadata": {},
   "outputs": [],
   "source": [
    "# X"
   ]
  },
  {
   "cell_type": "code",
   "execution_count": null,
   "id": "b90dbca3-4098-4bca-b4cb-6375d248b9c3",
   "metadata": {},
   "outputs": [],
   "source": [
    "X_train, X_test, y_train, y_test = train_test_split(\n",
    "    X, y, test_size=0.2, random_state=42\n",
    ")"
   ]
  },
  {
   "cell_type": "markdown",
   "id": "9770d758-24c8-4aa1-a217-a29dfd959bdc",
   "metadata": {},
   "source": [
    "![:scale 80%](split.png)"
   ]
  },
  {
   "cell_type": "code",
   "execution_count": null,
   "id": "5664dd02-7dd3-4787-a2e9-2c8202da44b6",
   "metadata": {},
   "outputs": [],
   "source": [
    "lgr = LogisticRegression()\n",
    "lgr.fit(X_train, y_train)\n",
    "y_pred = lgr.predict(X_test)\n",
    "y_pred[:10]"
   ]
  },
  {
   "cell_type": "markdown",
   "id": "7eefebce-576b-44d4-b279-ae7cf60c4b5d",
   "metadata": {},
   "source": [
    "![](ml1.png)"
   ]
  },
  {
   "cell_type": "code",
   "execution_count": null,
   "id": "54034425-253a-4319-8d76-2e5f8bb5fcdb",
   "metadata": {},
   "outputs": [],
   "source": [
    "from sklearn.metrics import accuracy_score, classification_report, confusion_matrix"
   ]
  },
  {
   "cell_type": "code",
   "execution_count": null,
   "id": "050bf115-012c-43ca-a329-c961422bd7a0",
   "metadata": {},
   "outputs": [],
   "source": [
    "print(classification_report(y_test, y_pred))"
   ]
  },
  {
   "cell_type": "code",
   "execution_count": null,
   "id": "314a2200-1cee-4074-8699-a39c89aca1d1",
   "metadata": {},
   "outputs": [],
   "source": [
    "accuracy_score(y_test, y_pred)"
   ]
  },
  {
   "cell_type": "code",
   "execution_count": null,
   "id": "fc909999-4f16-4fee-983e-b5bca6c4e5e4",
   "metadata": {},
   "outputs": [],
   "source": [
    "confusion_matrix(y_test, y_pred)"
   ]
  },
  {
   "cell_type": "code",
   "execution_count": null,
   "id": "84f4f8e2-da18-4335-8902-b8cc6f7ecc5c",
   "metadata": {},
   "outputs": [],
   "source": [
    "from sklearn.model_selection import cross_val_score"
   ]
  },
  {
   "cell_type": "code",
   "execution_count": null,
   "id": "c6febe2c-6235-4db1-b57b-db52a945af73",
   "metadata": {},
   "outputs": [],
   "source": [
    "cross_val_score(lgr, X, y, scoring=\"accuracy\").mean()"
   ]
  },
  {
   "cell_type": "code",
   "execution_count": null,
   "id": "dbe3018c-16f3-4027-a193-54028df0150d",
   "metadata": {},
   "outputs": [],
   "source": []
  },
  {
   "cell_type": "code",
   "execution_count": null,
   "id": "805e42da-ca5d-4daa-8221-07273942723d",
   "metadata": {},
   "outputs": [],
   "source": [
    "# define lists to collect scores\n",
    "train_scores, test_scores = list(), list()\n",
    "# define the tree depths to evaluate\n",
    "values = [i for i in range(1, 51)]\n",
    "# evaluate a decision tree for each depth\n",
    "for i in values:\n",
    "    # configure the model\n",
    "    # model = KNeighborsClassifier(n_neighbors=i)\n",
    "    model = LogisticRegression()\n",
    "    # fit model on the training dataset\n",
    "    model.fit(X_train, y_train)\n",
    "    # evaluate on the train dataset\n",
    "    train_yhat = model.predict(X_train)\n",
    "    train_acc = accuracy_score(y_train, train_yhat)\n",
    "    train_scores.append(train_acc)\n",
    "    # evaluate on the test dataset\n",
    "    test_yhat = model.predict(X_test)\n",
    "    test_acc = accuracy_score(y_test, test_yhat)\n",
    "    test_scores.append(test_acc)\n",
    "    # summarize progress\n",
    "    print(\">%d, train: %.3f, test: %.3f\" % (i, train_acc, test_acc))\n",
    "# plot of train and test scores vs number of neighbors\n",
    "plt.plot(values, train_scores, \"-o\", label=\"Train\")\n",
    "plt.plot(values, test_scores, \"-o\", label=\"Test\")\n",
    "plt.legend()\n",
    "plt.show()"
   ]
  },
  {
   "cell_type": "markdown",
   "id": "27618143-7e67-4b8e-9088-296e283695b9",
   "metadata": {},
   "source": [
    "### Can take another example with KNN if we want."
   ]
  },
  {
   "cell_type": "markdown",
   "id": "3d7599c5-fd82-4bb8-8216-e4354f8fdc82",
   "metadata": {},
   "source": [
    "**In Many cases you would want use different machine learning models and also apply different preprocessing techniques I highly encourage you using crossvalidaton to avoid model overfitting** "
   ]
  },
  {
   "cell_type": "markdown",
   "id": "2282effd-a9c6-49a9-86ed-9298150e5bde",
   "metadata": {},
   "source": [
    "# Part 4: Summary!"
   ]
  },
  {
   "cell_type": "markdown",
   "id": "23df0d0b-c239-4a9a-b92f-98a21e68606f",
   "metadata": {},
   "source": [
    "We hope this workshop was useful for you. We've only touched on some of the **basic concepts** of Pandas, but we believe this will give you the foundations to keep exploring the data! We covered:\n",
    "\n",
    "- Basic operations in Jupyter notebooks\n",
    "- Dataframes and Series in Pandas, and loading data to a dataframe\n",
    "- Basic data inspection (head, describe, dtypes, accessing columns and rows, sorting)\n",
    "- count, nunique\n",
    "- Indexing in dataframes and reset_index\n",
    "- Plotting (bar plots, hist plots, boxplot, heatmap)\n",
    "- Model building and evaluation"
   ]
  },
  {
   "cell_type": "markdown",
   "id": "57e34e3d-36d1-4d20-958c-e0a258a4924a",
   "metadata": {},
   "source": [
    "**I would appreciate your feedback** <br>\n",
    "Email: abdoulayegnbalde@gmail.com <br>\n",
    "github: abdoulayegk <br>\n",
    "twitter: @abdoulayegk"
   ]
  }
 ],
 "metadata": {
  "kernelspec": {
   "display_name": "Python 3 (ipykernel)",
   "language": "python",
   "name": "python3"
  },
  "language_info": {
   "codemirror_mode": {
    "name": "ipython",
    "version": 3
   },
   "file_extension": ".py",
   "mimetype": "text/x-python",
   "name": "python",
   "nbconvert_exporter": "python",
   "pygments_lexer": "ipython3",
   "version": "3.9.5"
  }
 },
 "nbformat": 4,
 "nbformat_minor": 5
}
