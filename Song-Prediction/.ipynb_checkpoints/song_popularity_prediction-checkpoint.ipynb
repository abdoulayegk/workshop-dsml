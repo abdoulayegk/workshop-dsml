{
 "cells": [
  {
   "cell_type": "code",
   "execution_count": 1,
   "id": "7fee11a2-4275-4829-9066-d3c1dc71ca7b",
   "metadata": {},
   "outputs": [],
   "source": [
    "import pandas as pd\n",
    "import matplotlib.pyplot as plt \n",
    "import seaborn as sns\n",
    "from sklearn.impute import SimpleImputer\n",
    "import numpy as np\n",
    "from sklearn.preprocessing import StandardScaler\n",
    "from sklearn.model_selection import train_test_split\n",
    "from sklearn.metrics import classification_report, confusion_matrix\n",
    "from lightgbm import LGBMClassifier\n",
    "from catboost import CatBoostClassifier\n",
    "from sklearn.metrics import roc_auc_score\n",
    "import random\n",
    "random.seed(42)"
   ]
  },
  {
   "cell_type": "code",
   "execution_count": 2,
   "id": "92750de4-bbbc-4fee-bf75-d5fd1baeb2ce",
   "metadata": {},
   "outputs": [],
   "source": [
    "train = pd.read_csv(\"train.csv\")\n",
    "test = pd.read_csv('test.csv')\n",
    "sub = pd.read_csv('sample_submission.csv')"
   ]
  },
  {
   "cell_type": "code",
   "execution_count": 3,
   "id": "0c53499b-7c98-4503-b0a7-9d46a6ed9291",
   "metadata": {},
   "outputs": [
    {
     "data": {
      "text/html": [
       "<div>\n",
       "<style scoped>\n",
       "    .dataframe tbody tr th:only-of-type {\n",
       "        vertical-align: middle;\n",
       "    }\n",
       "\n",
       "    .dataframe tbody tr th {\n",
       "        vertical-align: top;\n",
       "    }\n",
       "\n",
       "    .dataframe thead th {\n",
       "        text-align: right;\n",
       "    }\n",
       "</style>\n",
       "<table border=\"1\" class=\"dataframe\">\n",
       "  <thead>\n",
       "    <tr style=\"text-align: right;\">\n",
       "      <th></th>\n",
       "      <th>id</th>\n",
       "      <th>song_duration_ms</th>\n",
       "      <th>acousticness</th>\n",
       "      <th>danceability</th>\n",
       "      <th>energy</th>\n",
       "      <th>instrumentalness</th>\n",
       "      <th>key</th>\n",
       "      <th>liveness</th>\n",
       "      <th>loudness</th>\n",
       "      <th>audio_mode</th>\n",
       "      <th>speechiness</th>\n",
       "      <th>tempo</th>\n",
       "      <th>time_signature</th>\n",
       "      <th>audio_valence</th>\n",
       "      <th>song_popularity</th>\n",
       "    </tr>\n",
       "  </thead>\n",
       "  <tbody>\n",
       "    <tr>\n",
       "      <th>0</th>\n",
       "      <td>0</td>\n",
       "      <td>212990.0</td>\n",
       "      <td>0.642286</td>\n",
       "      <td>0.856520</td>\n",
       "      <td>0.707073</td>\n",
       "      <td>0.002001</td>\n",
       "      <td>10.0</td>\n",
       "      <td>NaN</td>\n",
       "      <td>-5.619088</td>\n",
       "      <td>0</td>\n",
       "      <td>0.082570</td>\n",
       "      <td>158.386236</td>\n",
       "      <td>4</td>\n",
       "      <td>0.734642</td>\n",
       "      <td>0</td>\n",
       "    </tr>\n",
       "    <tr>\n",
       "      <th>1</th>\n",
       "      <td>1</td>\n",
       "      <td>NaN</td>\n",
       "      <td>0.054866</td>\n",
       "      <td>0.733289</td>\n",
       "      <td>0.835545</td>\n",
       "      <td>0.000996</td>\n",
       "      <td>8.0</td>\n",
       "      <td>0.436428</td>\n",
       "      <td>-5.236965</td>\n",
       "      <td>1</td>\n",
       "      <td>0.127358</td>\n",
       "      <td>102.752988</td>\n",
       "      <td>3</td>\n",
       "      <td>0.711531</td>\n",
       "      <td>1</td>\n",
       "    </tr>\n",
       "    <tr>\n",
       "      <th>2</th>\n",
       "      <td>2</td>\n",
       "      <td>193213.0</td>\n",
       "      <td>NaN</td>\n",
       "      <td>0.188387</td>\n",
       "      <td>0.783524</td>\n",
       "      <td>-0.002694</td>\n",
       "      <td>5.0</td>\n",
       "      <td>0.170499</td>\n",
       "      <td>-4.951759</td>\n",
       "      <td>0</td>\n",
       "      <td>0.052282</td>\n",
       "      <td>178.685791</td>\n",
       "      <td>3</td>\n",
       "      <td>0.425536</td>\n",
       "      <td>0</td>\n",
       "    </tr>\n",
       "    <tr>\n",
       "      <th>3</th>\n",
       "      <td>3</td>\n",
       "      <td>249893.0</td>\n",
       "      <td>0.488660</td>\n",
       "      <td>0.585234</td>\n",
       "      <td>0.552685</td>\n",
       "      <td>0.000608</td>\n",
       "      <td>0.0</td>\n",
       "      <td>0.094805</td>\n",
       "      <td>-7.893694</td>\n",
       "      <td>0</td>\n",
       "      <td>0.035618</td>\n",
       "      <td>128.715630</td>\n",
       "      <td>3</td>\n",
       "      <td>0.453597</td>\n",
       "      <td>0</td>\n",
       "    </tr>\n",
       "    <tr>\n",
       "      <th>4</th>\n",
       "      <td>4</td>\n",
       "      <td>165969.0</td>\n",
       "      <td>0.493017</td>\n",
       "      <td>NaN</td>\n",
       "      <td>0.740982</td>\n",
       "      <td>0.002033</td>\n",
       "      <td>10.0</td>\n",
       "      <td>0.094891</td>\n",
       "      <td>-2.684095</td>\n",
       "      <td>0</td>\n",
       "      <td>0.050746</td>\n",
       "      <td>121.928157</td>\n",
       "      <td>4</td>\n",
       "      <td>0.741311</td>\n",
       "      <td>0</td>\n",
       "    </tr>\n",
       "  </tbody>\n",
       "</table>\n",
       "</div>"
      ],
      "text/plain": [
       "   id  song_duration_ms  acousticness  danceability    energy  \\\n",
       "0   0          212990.0      0.642286      0.856520  0.707073   \n",
       "1   1               NaN      0.054866      0.733289  0.835545   \n",
       "2   2          193213.0           NaN      0.188387  0.783524   \n",
       "3   3          249893.0      0.488660      0.585234  0.552685   \n",
       "4   4          165969.0      0.493017           NaN  0.740982   \n",
       "\n",
       "   instrumentalness   key  liveness  loudness  audio_mode  speechiness  \\\n",
       "0          0.002001  10.0       NaN -5.619088           0     0.082570   \n",
       "1          0.000996   8.0  0.436428 -5.236965           1     0.127358   \n",
       "2         -0.002694   5.0  0.170499 -4.951759           0     0.052282   \n",
       "3          0.000608   0.0  0.094805 -7.893694           0     0.035618   \n",
       "4          0.002033  10.0  0.094891 -2.684095           0     0.050746   \n",
       "\n",
       "        tempo  time_signature  audio_valence  song_popularity  \n",
       "0  158.386236               4       0.734642                0  \n",
       "1  102.752988               3       0.711531                1  \n",
       "2  178.685791               3       0.425536                0  \n",
       "3  128.715630               3       0.453597                0  \n",
       "4  121.928157               4       0.741311                0  "
      ]
     },
     "execution_count": 3,
     "metadata": {},
     "output_type": "execute_result"
    }
   ],
   "source": [
    "train.head()"
   ]
  },
  {
   "cell_type": "code",
   "execution_count": 4,
   "id": "712f4a6f-64df-4dc9-aec2-fd014bf17ad4",
   "metadata": {},
   "outputs": [
    {
     "name": "stdout",
     "output_type": "stream",
     "text": [
      "<class 'pandas.core.frame.DataFrame'>\n",
      "RangeIndex: 40000 entries, 0 to 39999\n",
      "Data columns (total 15 columns):\n",
      " #   Column            Non-Null Count  Dtype  \n",
      "---  ------            --------------  -----  \n",
      " 0   id                40000 non-null  int64  \n",
      " 1   song_duration_ms  35899 non-null  float64\n",
      " 2   acousticness      36008 non-null  float64\n",
      " 3   danceability      35974 non-null  float64\n",
      " 4   energy            36025 non-null  float64\n",
      " 5   instrumentalness  36015 non-null  float64\n",
      " 6   key               35935 non-null  float64\n",
      " 7   liveness          35914 non-null  float64\n",
      " 8   loudness          36043 non-null  float64\n",
      " 9   audio_mode        40000 non-null  int64  \n",
      " 10  speechiness       40000 non-null  float64\n",
      " 11  tempo             40000 non-null  float64\n",
      " 12  time_signature    40000 non-null  int64  \n",
      " 13  audio_valence     40000 non-null  float64\n",
      " 14  song_popularity   40000 non-null  int64  \n",
      "dtypes: float64(11), int64(4)\n",
      "memory usage: 4.6 MB\n"
     ]
    }
   ],
   "source": [
    "train.info()"
   ]
  },
  {
   "cell_type": "code",
   "execution_count": 5,
   "id": "01d1c129-6fa2-4099-80fd-574d546bac29",
   "metadata": {},
   "outputs": [
    {
     "data": {
      "image/png": "[encoded data removed]",
      "text/plain": [
       "<Figure size 432x288 with 1 Axes>"
      ]
     },
     "metadata": {
      "needs_background": "light"
     },
     "output_type": "display_data"
    }
   ],
   "source": [
    "# target\n",
    "sns.countplot(x=train.song_popularity, data=train)\n",
    "plt.show()"
   ]
  },
  {
   "cell_type": "code",
   "execution_count": 6,
   "id": "bd690906-475c-4b6a-b476-eb4929d6bd36",
   "metadata": {},
   "outputs": [
    {
     "data": {
      "text/plain": [
       "id                     0\n",
       "song_duration_ms    4101\n",
       "acousticness        3992\n",
       "danceability        4026\n",
       "energy              3975\n",
       "instrumentalness    3985\n",
       "key                 4065\n",
       "liveness            4086\n",
       "loudness            3957\n",
       "audio_mode             0\n",
       "speechiness            0\n",
       "tempo                  0\n",
       "time_signature         0\n",
       "audio_valence          0\n",
       "song_popularity        0\n",
       "dtype: int64"
      ]
     },
     "execution_count": 6,
     "metadata": {},
     "output_type": "execute_result"
    }
   ],
   "source": [
    "train.isna().sum()"
   ]
  },
  {
   "cell_type": "code",
   "execution_count": 7,
   "id": "ba54c1cc-d787-469d-9450-991579f8f8ec",
   "metadata": {},
   "outputs": [],
   "source": [
    "X = train.drop(['id','song_popularity'],1)\n",
    "y = train['song_popularity']"
   ]
  },
  {
   "cell_type": "code",
   "execution_count": 8,
   "id": "d585af55-d621-4dd2-a948-cfa8acd817a0",
   "metadata": {},
   "outputs": [
    {
     "data": {
      "text/html": [
       "<div>\n",
       "<style scoped>\n",
       "    .dataframe tbody tr th:only-of-type {\n",
       "        vertical-align: middle;\n",
       "    }\n",
       "\n",
       "    .dataframe tbody tr th {\n",
       "        vertical-align: top;\n",
       "    }\n",
       "\n",
       "    .dataframe thead th {\n",
       "        text-align: right;\n",
       "    }\n",
       "</style>\n",
       "<table border=\"1\" class=\"dataframe\">\n",
       "  <thead>\n",
       "    <tr style=\"text-align: right;\">\n",
       "      <th></th>\n",
       "      <th>song_duration_ms</th>\n",
       "      <th>acousticness</th>\n",
       "      <th>danceability</th>\n",
       "      <th>energy</th>\n",
       "      <th>instrumentalness</th>\n",
       "      <th>key</th>\n",
       "      <th>liveness</th>\n",
       "      <th>loudness</th>\n",
       "      <th>audio_mode</th>\n",
       "      <th>speechiness</th>\n",
       "      <th>tempo</th>\n",
       "      <th>time_signature</th>\n",
       "      <th>audio_valence</th>\n",
       "    </tr>\n",
       "  </thead>\n",
       "  <tbody>\n",
       "    <tr>\n",
       "      <th>0</th>\n",
       "      <td>212990.0</td>\n",
       "      <td>0.642286</td>\n",
       "      <td>0.856520</td>\n",
       "      <td>0.707073</td>\n",
       "      <td>0.002001</td>\n",
       "      <td>10.0</td>\n",
       "      <td>NaN</td>\n",
       "      <td>-5.619088</td>\n",
       "      <td>0</td>\n",
       "      <td>0.082570</td>\n",
       "      <td>158.386236</td>\n",
       "      <td>4</td>\n",
       "      <td>0.734642</td>\n",
       "    </tr>\n",
       "    <tr>\n",
       "      <th>1</th>\n",
       "      <td>NaN</td>\n",
       "      <td>0.054866</td>\n",
       "      <td>0.733289</td>\n",
       "      <td>0.835545</td>\n",
       "      <td>0.000996</td>\n",
       "      <td>8.0</td>\n",
       "      <td>0.436428</td>\n",
       "      <td>-5.236965</td>\n",
       "      <td>1</td>\n",
       "      <td>0.127358</td>\n",
       "      <td>102.752988</td>\n",
       "      <td>3</td>\n",
       "      <td>0.711531</td>\n",
       "    </tr>\n",
       "    <tr>\n",
       "      <th>2</th>\n",
       "      <td>193213.0</td>\n",
       "      <td>NaN</td>\n",
       "      <td>0.188387</td>\n",
       "      <td>0.783524</td>\n",
       "      <td>-0.002694</td>\n",
       "      <td>5.0</td>\n",
       "      <td>0.170499</td>\n",
       "      <td>-4.951759</td>\n",
       "      <td>0</td>\n",
       "      <td>0.052282</td>\n",
       "      <td>178.685791</td>\n",
       "      <td>3</td>\n",
       "      <td>0.425536</td>\n",
       "    </tr>\n",
       "    <tr>\n",
       "      <th>3</th>\n",
       "      <td>249893.0</td>\n",
       "      <td>0.488660</td>\n",
       "      <td>0.585234</td>\n",
       "      <td>0.552685</td>\n",
       "      <td>0.000608</td>\n",
       "      <td>0.0</td>\n",
       "      <td>0.094805</td>\n",
       "      <td>-7.893694</td>\n",
       "      <td>0</td>\n",
       "      <td>0.035618</td>\n",
       "      <td>128.715630</td>\n",
       "      <td>3</td>\n",
       "      <td>0.453597</td>\n",
       "    </tr>\n",
       "    <tr>\n",
       "      <th>4</th>\n",
       "      <td>165969.0</td>\n",
       "      <td>0.493017</td>\n",
       "      <td>NaN</td>\n",
       "      <td>0.740982</td>\n",
       "      <td>0.002033</td>\n",
       "      <td>10.0</td>\n",
       "      <td>0.094891</td>\n",
       "      <td>-2.684095</td>\n",
       "      <td>0</td>\n",
       "      <td>0.050746</td>\n",
       "      <td>121.928157</td>\n",
       "      <td>4</td>\n",
       "      <td>0.741311</td>\n",
       "    </tr>\n",
       "  </tbody>\n",
       "</table>\n",
       "</div>"
      ],
      "text/plain": [
       "   song_duration_ms  acousticness  danceability    energy  instrumentalness  \\\n",
       "0          212990.0      0.642286      0.856520  0.707073          0.002001   \n",
       "1               NaN      0.054866      0.733289  0.835545          0.000996   \n",
       "2          193213.0           NaN      0.188387  0.783524         -0.002694   \n",
       "3          249893.0      0.488660      0.585234  0.552685          0.000608   \n",
       "4          165969.0      0.493017           NaN  0.740982          0.002033   \n",
       "\n",
       "    key  liveness  loudness  audio_mode  speechiness       tempo  \\\n",
       "0  10.0       NaN -5.619088           0     0.082570  158.386236   \n",
       "1   8.0  0.436428 -5.236965           1     0.127358  102.752988   \n",
       "2   5.0  0.170499 -4.951759           0     0.052282  178.685791   \n",
       "3   0.0  0.094805 -7.893694           0     0.035618  128.715630   \n",
       "4  10.0  0.094891 -2.684095           0     0.050746  121.928157   \n",
       "\n",
       "   time_signature  audio_valence  \n",
       "0               4       0.734642  \n",
       "1               3       0.711531  \n",
       "2               3       0.425536  \n",
       "3               3       0.453597  \n",
       "4               4       0.741311  "
      ]
     },
     "execution_count": 8,
     "metadata": {},
     "output_type": "execute_result"
    }
   ],
   "source": [
    "X.head()"
   ]
  },
  {
   "cell_type": "code",
   "execution_count": 9,
   "id": "c2baf16d-cb83-4912-9248-a98f6a739268",
   "metadata": {},
   "outputs": [],
   "source": [
    "imput_train= SimpleImputer(missing_values = np.nan, strategy = 'mean')\n",
    "# >imp_mean = SimpleImputer(missing_values=np.nan, strategy='mean')\n",
    "X = imput_train.fit_transform(X)"
   ]
  },
  {
   "cell_type": "code",
   "execution_count": 10,
   "id": "0fa302e1-4917-4ace-a3a5-792c2e33561f",
   "metadata": {},
   "outputs": [
    {
     "data": {
      "text/plain": [
       "array([[2.12990000e+05, 6.42285517e-01, 8.56520289e-01, ...,\n",
       "        1.58386236e+02, 4.00000000e+00, 7.34641557e-01],\n",
       "       [1.93165848e+05, 5.48656388e-02, 7.33288830e-01, ...,\n",
       "        1.02752988e+02, 3.00000000e+00, 7.11530551e-01],\n",
       "       [1.93213000e+05, 2.76404430e-01, 1.88387099e-01, ...,\n",
       "        1.78685791e+02, 3.00000000e+00, 4.25536016e-01],\n",
       "       ...,\n",
       "       [1.60879000e+05, 8.77431248e-01, 4.09064592e-01, ...,\n",
       "        9.95560744e+01, 3.00000000e+00, 1.77947389e-01],\n",
       "       [1.93918000e+05, 2.76404430e-01, 3.65738206e-01, ...,\n",
       "        1.39857384e+02, 3.00000000e+00, 7.72978406e-01],\n",
       "       [1.96475000e+05, 7.11618441e-03, 3.54585290e-01, ...,\n",
       "        1.01974949e+02, 3.00000000e+00, 5.88549127e-01]])"
      ]
     },
     "execution_count": 10,
     "metadata": {},
     "output_type": "execute_result"
    }
   ],
   "source": [
    "X"
   ]
  },
  {
   "cell_type": "code",
   "execution_count": 11,
   "id": "463f6097-1946-4465-93b9-217a1fabeed4",
   "metadata": {},
   "outputs": [],
   "source": [
    "# df = SimpleImputer(missing_values = np.nan, strategy = 'mean')\n",
    "# # >imp_mean = SimpleImputer(missing_values=np.nan, strategy='mean')\n",
    "# train = df.fit_transform(train)"
   ]
  },
  {
   "cell_type": "code",
   "execution_count": 12,
   "id": "55998186-e82a-4b49-9e46-1b5adfbe2bed",
   "metadata": {},
   "outputs": [],
   "source": [
    "# mean_imputer = SimpleImputer(strategy='mean')\n",
    "# result_mean_imputer = mean_imputer.fit_transform(df)"
   ]
  },
  {
   "cell_type": "code",
   "execution_count": 13,
   "id": "a6baadb3-58a4-465c-a0d6-27544f311ff0",
   "metadata": {},
   "outputs": [
    {
     "data": {
      "text/plain": [
       "((40000, 13), (40000,))"
      ]
     },
     "execution_count": 13,
     "metadata": {},
     "output_type": "execute_result"
    }
   ],
   "source": [
    "X.shape,y.shape"
   ]
  },
  {
   "cell_type": "code",
   "execution_count": 14,
   "id": "0cc8573b-a6a4-407a-9410-08b785e6f30e",
   "metadata": {},
   "outputs": [],
   "source": [
    "X_train,X_test,y_train,y_test = train_test_split(X, y, test_size=0.05, random_state=786)"
   ]
  },
  {
   "cell_type": "code",
   "execution_count": 15,
   "id": "74fc88c8-1a31-46f5-a769-f5f0fc190a56",
   "metadata": {},
   "outputs": [
    {
     "data": {
      "text/plain": [
       "LGBMClassifier(colsample_bytree=0.4, learning_rate=0.01, max_depth=7,\n",
       "               min_child_samples=15, min_child_weight=256, n_estimators=20000,\n",
       "               objective='binary', reg_alpha=10, reg_lambda=0.1, subsample=0.6,\n",
       "               subsample_freq=1)"
      ]
     },
     "execution_count": 15,
     "metadata": {},
     "output_type": "execute_result"
    }
   ],
   "source": [
    "lgb = LGBMClassifier(objective= 'binary', \n",
    "            n_estimators= 20000,\n",
    "            max_depth= 7,\n",
    "            learning_rate=  0.01, \n",
    "            min_child_weight= 256,\n",
    "            min_child_samples= 15, \n",
    "            reg_alpha= 10, \n",
    "            reg_lambda= 0.1, \n",
    "            subsample= 0.6, \n",
    "            subsample_freq= 1, \n",
    "            colsample_bytree= 0.4)\n",
    "lgb.fit(X_train,y_train)"
   ]
  },
  {
   "cell_type": "code",
   "execution_count": 41,
   "id": "c9f734ca-6e44-40e2-8d1e-82d65e54bd3f",
   "metadata": {},
   "outputs": [],
   "source": [
    "y_pred = lgb.predict_proba(X_test)[:,1]"
   ]
  },
  {
   "cell_type": "code",
   "execution_count": 42,
   "id": "a0cba5e9-993a-484b-ab69-60daf43d3ea6",
   "metadata": {},
   "outputs": [
    {
     "data": {
      "text/plain": [
       "array([0.28817007, 0.26941926, 0.54425696, ..., 0.49146297, 0.43880546,\n",
       "       0.56562328])"
      ]
     },
     "execution_count": 42,
     "metadata": {},
     "output_type": "execute_result"
    }
   ],
   "source": [
    "y_pred"
   ]
  },
  {
   "cell_type": "code",
   "execution_count": 44,
   "id": "34f7e492-dde3-4273-8fd8-1d1bbfc11f07",
   "metadata": {},
   "outputs": [],
   "source": [
    "#print(classification_report(y_test, y_pred))"
   ]
  },
  {
   "cell_type": "code",
   "execution_count": 45,
   "id": "50dd2bcb-8146-4a98-b3b6-b5b64cb7e667",
   "metadata": {
    "tags": []
   },
   "outputs": [
    {
     "data": {
      "text/plain": [
       "0.5466268720927105"
      ]
     },
     "execution_count": 45,
     "metadata": {},
     "output_type": "execute_result"
    }
   ],
   "source": [
    "roc_auc_score(y_test,y_pred)"
   ]
  },
  {
   "cell_type": "code",
   "execution_count": 46,
   "id": "0eaecf98-5153-4e2d-ba3b-dff92717040c",
   "metadata": {},
   "outputs": [
    {
     "data": {
      "text/plain": [
       "<catboost.core.CatBoostClassifier at 0x7f357bbffca0>"
      ]
     },
     "execution_count": 46,
     "metadata": {},
     "output_type": "execute_result"
    }
   ],
   "source": [
    "cb = CatBoostClassifier(verbose=False)\n",
    "cb.fit(X_train, y_train)"
   ]
  },
  {
   "cell_type": "markdown",
   "id": "4b468d0a-4ec5-41bd-8bc0-b3d7ecfab84b",
   "metadata": {},
   "source": [
    "# working with the test set"
   ]
  },
  {
   "cell_type": "code",
   "execution_count": 47,
   "id": "6f5212d2-409b-497b-8293-e8d983604fbb",
   "metadata": {},
   "outputs": [],
   "source": [
    "df = test.drop('id',1)\n"
   ]
  },
  {
   "cell_type": "code",
   "execution_count": 48,
   "id": "3fccde2a-e9cb-45a4-80e4-5dab230bc378",
   "metadata": {},
   "outputs": [
    {
     "data": {
      "text/plain": [
       "song_duration_ms     957\n",
       "acousticness         950\n",
       "danceability         976\n",
       "energy              1055\n",
       "instrumentalness    1000\n",
       "key                  992\n",
       "liveness            1006\n",
       "loudness            1026\n",
       "audio_mode             0\n",
       "speechiness            0\n",
       "tempo                  0\n",
       "time_signature         0\n",
       "audio_valence          0\n",
       "dtype: int64"
      ]
     },
     "execution_count": 48,
     "metadata": {},
     "output_type": "execute_result"
    }
   ],
   "source": [
    "df.isna().sum()"
   ]
  },
  {
   "cell_type": "code",
   "execution_count": 49,
   "id": "c8c4d9eb-aa84-4f04-b79e-80a125152c3e",
   "metadata": {},
   "outputs": [],
   "source": [
    "test_imput = SimpleImputer(missing_values=np.nan,strategy='mean')\n",
    "test_df = test_imput.fit_transform(df)"
   ]
  },
  {
   "cell_type": "code",
   "execution_count": 50,
   "id": "3a2680f9-cee8-4d74-bd98-c03ab2194be8",
   "metadata": {},
   "outputs": [
    {
     "data": {
      "text/plain": [
       "array([[3.08523000e+05, 1.98453405e-02, 5.69817432e-01, ...,\n",
       "        1.26129304e+02, 4.00000000e+00, 3.99620451e-01],\n",
       "       [2.00011000e+05, 7.01191036e-02, 7.31256023e-01, ...,\n",
       "        8.64481489e+01, 3.00000000e+00, 4.99424461e-01],\n",
       "       [2.79758000e+05, 8.10637132e-01, 5.68857904e-01, ...,\n",
       "        9.95443512e+01, 3.00000000e+00, 5.64950591e-01],\n",
       "       ...,\n",
       "       [1.88434000e+05, 7.53472359e-01, 7.83946794e-01, ...,\n",
       "        1.19090558e+02, 4.00000000e+00, 4.82961338e-01],\n",
       "       [1.73044000e+05, 8.63578837e-01, 3.73283420e-01, ...,\n",
       "        1.03048349e+02, 3.00000000e+00, 5.18741779e-01],\n",
       "       [1.57896000e+05, 1.98523554e-02, 7.20380057e-01, ...,\n",
       "        1.09873611e+02, 4.00000000e+00, 9.71367981e-01]])"
      ]
     },
     "execution_count": 50,
     "metadata": {},
     "output_type": "execute_result"
    }
   ],
   "source": [
    "test_df"
   ]
  },
  {
   "cell_type": "code",
   "execution_count": 52,
   "id": "c75740e4-5e64-4315-94e3-4222af746b92",
   "metadata": {},
   "outputs": [],
   "source": [
    "y_p = cb.predict_proba(X_test)[:,1]"
   ]
  },
  {
   "cell_type": "code",
   "execution_count": 54,
   "id": "5b92f549-6ca9-47ac-a18c-f3220b871711",
   "metadata": {},
   "outputs": [],
   "source": [
    "#print(classification_report(y_test, y_p))"
   ]
  },
  {
   "cell_type": "code",
   "execution_count": 55,
   "id": "7b052db8-fa66-4b89-8bf3-e036dd5a5266",
   "metadata": {},
   "outputs": [
    {
     "data": {
      "text/plain": [
       "0.5633083272834826"
      ]
     },
     "execution_count": 55,
     "metadata": {},
     "output_type": "execute_result"
    }
   ],
   "source": [
    "roc_auc_score(y_test, y_p)"
   ]
  },
  {
   "cell_type": "code",
   "execution_count": 56,
   "id": "cc86d3d2-0767-4ffc-8dcd-5942b662dbc1",
   "metadata": {},
   "outputs": [
    {
     "data": {
      "text/plain": [
       "(10000,)"
      ]
     },
     "execution_count": 56,
     "metadata": {},
     "output_type": "execute_result"
    }
   ],
   "source": [
    "y_test_pred = lgb.predict(test_df)\n",
    "y_test_pred.shape"
   ]
  },
  {
   "cell_type": "code",
   "execution_count": 57,
   "id": "4416e113-2974-4f97-83bf-dbf911081a9b",
   "metadata": {},
   "outputs": [
    {
     "data": {
      "text/plain": [
       "(10000, 13)"
      ]
     },
     "execution_count": 57,
     "metadata": {},
     "output_type": "execute_result"
    }
   ],
   "source": [
    "test_df.shape"
   ]
  },
  {
   "cell_type": "code",
   "execution_count": 58,
   "id": "96c924d7-0010-4ec0-9f6e-4c9162c07e13",
   "metadata": {},
   "outputs": [],
   "source": [
    "final = pd.DataFrame({'id':sub.id,'song_popularity':y_test_pred })\n",
    "filename = 'submission_lgb.csv'\n",
    "final.to_csv(filename,index=False)"
   ]
  },
  {
   "cell_type": "code",
   "execution_count": 59,
   "id": "55e0764e-1b12-4f64-a146-891e5a4648d2",
   "metadata": {},
   "outputs": [
    {
     "data": {
      "text/html": [
       "<div>\n",
       "<style scoped>\n",
       "    .dataframe tbody tr th:only-of-type {\n",
       "        vertical-align: middle;\n",
       "    }\n",
       "\n",
       "    .dataframe tbody tr th {\n",
       "        vertical-align: top;\n",
       "    }\n",
       "\n",
       "    .dataframe thead th {\n",
       "        text-align: right;\n",
       "    }\n",
       "</style>\n",
       "<table border=\"1\" class=\"dataframe\">\n",
       "  <thead>\n",
       "    <tr style=\"text-align: right;\">\n",
       "      <th></th>\n",
       "      <th>id</th>\n",
       "      <th>song_popularity</th>\n",
       "    </tr>\n",
       "  </thead>\n",
       "  <tbody>\n",
       "    <tr>\n",
       "      <th>0</th>\n",
       "      <td>0</td>\n",
       "      <td>0</td>\n",
       "    </tr>\n",
       "    <tr>\n",
       "      <th>1</th>\n",
       "      <td>1</td>\n",
       "      <td>0</td>\n",
       "    </tr>\n",
       "    <tr>\n",
       "      <th>2</th>\n",
       "      <td>2</td>\n",
       "      <td>0</td>\n",
       "    </tr>\n",
       "    <tr>\n",
       "      <th>3</th>\n",
       "      <td>3</td>\n",
       "      <td>0</td>\n",
       "    </tr>\n",
       "    <tr>\n",
       "      <th>4</th>\n",
       "      <td>4</td>\n",
       "      <td>0</td>\n",
       "    </tr>\n",
       "    <tr>\n",
       "      <th>...</th>\n",
       "      <td>...</td>\n",
       "      <td>...</td>\n",
       "    </tr>\n",
       "    <tr>\n",
       "      <th>9995</th>\n",
       "      <td>9995</td>\n",
       "      <td>0</td>\n",
       "    </tr>\n",
       "    <tr>\n",
       "      <th>9996</th>\n",
       "      <td>9996</td>\n",
       "      <td>0</td>\n",
       "    </tr>\n",
       "    <tr>\n",
       "      <th>9997</th>\n",
       "      <td>9997</td>\n",
       "      <td>0</td>\n",
       "    </tr>\n",
       "    <tr>\n",
       "      <th>9998</th>\n",
       "      <td>9998</td>\n",
       "      <td>0</td>\n",
       "    </tr>\n",
       "    <tr>\n",
       "      <th>9999</th>\n",
       "      <td>9999</td>\n",
       "      <td>0</td>\n",
       "    </tr>\n",
       "  </tbody>\n",
       "</table>\n",
       "<p>10000 rows × 2 columns</p>\n",
       "</div>"
      ],
      "text/plain": [
       "        id  song_popularity\n",
       "0        0                0\n",
       "1        1                0\n",
       "2        2                0\n",
       "3        3                0\n",
       "4        4                0\n",
       "...    ...              ...\n",
       "9995  9995                0\n",
       "9996  9996                0\n",
       "9997  9997                0\n",
       "9998  9998                0\n",
       "9999  9999                0\n",
       "\n",
       "[10000 rows x 2 columns]"
      ]
     },
     "execution_count": 59,
     "metadata": {},
     "output_type": "execute_result"
    }
   ],
   "source": [
    "sub"
   ]
  },
  {
   "cell_type": "code",
   "execution_count": 60,
   "id": "3af42ceb-4d12-43ad-ad1f-24f7eba28e51",
   "metadata": {},
   "outputs": [],
   "source": [
    "# catboost\n",
    "y_catb = cb.predict(test_df)\n",
    "final = pd.DataFrame({'id':sub.id,'song_popularity':y_catb })\n",
    "filename = 'submission_cb.csv'\n",
    "final.to_csv(filename,index=False)"
   ]
  },
  {
   "cell_type": "code",
   "execution_count": null,
   "id": "0c379d61-00c2-4f1f-bfe6-e8f4ad31805f",
   "metadata": {},
   "outputs": [],
   "source": []
  }
 ],
 "metadata": {
  "kernelspec": {
   "display_name": "Python 3",
   "language": "python",
   "name": "python3"
  },
  "language_info": {
   "codemirror_mode": {
    "name": "ipython",
    "version": 3
   },
   "file_extension": ".py",
   "mimetype": "text/x-python",
   "name": "python",
   "nbconvert_exporter": "python",
   "pygments_lexer": "ipython3",
   "version": "3.9.5"
  }
 },
 "nbformat": 4,
 "nbformat_minor": 5
}
