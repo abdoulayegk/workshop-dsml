{
 "cells": [
  {
   "cell_type": "code",
   "execution_count": 1,
   "id": "2e8211e8-f6d3-43e7-9ed5-6e67bf5eaa37",
   "metadata": {},
   "outputs": [],
   "source": [
    "import matplotlib.pyplot as plt\n",
    "import missingno as mn\n",
    "import pandas as pd\n",
    "import seaborn as sns\n",
    "from sklearn.linear_model import LogisticRegression\n",
    "from sklearn.metrics import accuracy_score\n",
    "from sklearn.model_selection import train_test_split"
   ]
  },
  {
   "cell_type": "code",
   "execution_count": 2,
   "id": "f2797922-95fa-4400-8d25-b5d10428d6aa",
   "metadata": {},
   "outputs": [
    {
     "data": {
      "text/html": [
       "<div>\n",
       "<style scoped>\n",
       "    .dataframe tbody tr th:only-of-type {\n",
       "        vertical-align: middle;\n",
       "    }\n",
       "\n",
       "    .dataframe tbody tr th {\n",
       "        vertical-align: top;\n",
       "    }\n",
       "\n",
       "    .dataframe thead th {\n",
       "        text-align: right;\n",
       "    }\n",
       "</style>\n",
       "<table border=\"1\" class=\"dataframe\">\n",
       "  <thead>\n",
       "    <tr style=\"text-align: right;\">\n",
       "      <th></th>\n",
       "      <th>id</th>\n",
       "      <th>song_duration_ms</th>\n",
       "      <th>acousticness</th>\n",
       "      <th>danceability</th>\n",
       "      <th>energy</th>\n",
       "      <th>instrumentalness</th>\n",
       "      <th>key</th>\n",
       "      <th>liveness</th>\n",
       "      <th>loudness</th>\n",
       "      <th>audio_mode</th>\n",
       "      <th>speechiness</th>\n",
       "      <th>tempo</th>\n",
       "      <th>time_signature</th>\n",
       "      <th>audio_valence</th>\n",
       "      <th>song_popularity</th>\n",
       "    </tr>\n",
       "  </thead>\n",
       "  <tbody>\n",
       "    <tr>\n",
       "      <th>0</th>\n",
       "      <td>0</td>\n",
       "      <td>212990.0</td>\n",
       "      <td>0.642286</td>\n",
       "      <td>0.856520</td>\n",
       "      <td>0.707073</td>\n",
       "      <td>0.002001</td>\n",
       "      <td>10.0</td>\n",
       "      <td>NaN</td>\n",
       "      <td>-5.619088</td>\n",
       "      <td>0</td>\n",
       "      <td>0.082570</td>\n",
       "      <td>158.386236</td>\n",
       "      <td>4</td>\n",
       "      <td>0.734642</td>\n",
       "      <td>0</td>\n",
       "    </tr>\n",
       "    <tr>\n",
       "      <th>1</th>\n",
       "      <td>1</td>\n",
       "      <td>NaN</td>\n",
       "      <td>0.054866</td>\n",
       "      <td>0.733289</td>\n",
       "      <td>0.835545</td>\n",
       "      <td>0.000996</td>\n",
       "      <td>8.0</td>\n",
       "      <td>0.436428</td>\n",
       "      <td>-5.236965</td>\n",
       "      <td>1</td>\n",
       "      <td>0.127358</td>\n",
       "      <td>102.752988</td>\n",
       "      <td>3</td>\n",
       "      <td>0.711531</td>\n",
       "      <td>1</td>\n",
       "    </tr>\n",
       "    <tr>\n",
       "      <th>2</th>\n",
       "      <td>2</td>\n",
       "      <td>193213.0</td>\n",
       "      <td>NaN</td>\n",
       "      <td>0.188387</td>\n",
       "      <td>0.783524</td>\n",
       "      <td>-0.002694</td>\n",
       "      <td>5.0</td>\n",
       "      <td>0.170499</td>\n",
       "      <td>-4.951759</td>\n",
       "      <td>0</td>\n",
       "      <td>0.052282</td>\n",
       "      <td>178.685791</td>\n",
       "      <td>3</td>\n",
       "      <td>0.425536</td>\n",
       "      <td>0</td>\n",
       "    </tr>\n",
       "    <tr>\n",
       "      <th>3</th>\n",
       "      <td>3</td>\n",
       "      <td>249893.0</td>\n",
       "      <td>0.488660</td>\n",
       "      <td>0.585234</td>\n",
       "      <td>0.552685</td>\n",
       "      <td>0.000608</td>\n",
       "      <td>0.0</td>\n",
       "      <td>0.094805</td>\n",
       "      <td>-7.893694</td>\n",
       "      <td>0</td>\n",
       "      <td>0.035618</td>\n",
       "      <td>128.715630</td>\n",
       "      <td>3</td>\n",
       "      <td>0.453597</td>\n",
       "      <td>0</td>\n",
       "    </tr>\n",
       "    <tr>\n",
       "      <th>4</th>\n",
       "      <td>4</td>\n",
       "      <td>165969.0</td>\n",
       "      <td>0.493017</td>\n",
       "      <td>NaN</td>\n",
       "      <td>0.740982</td>\n",
       "      <td>0.002033</td>\n",
       "      <td>10.0</td>\n",
       "      <td>0.094891</td>\n",
       "      <td>-2.684095</td>\n",
       "      <td>0</td>\n",
       "      <td>0.050746</td>\n",
       "      <td>121.928157</td>\n",
       "      <td>4</td>\n",
       "      <td>0.741311</td>\n",
       "      <td>0</td>\n",
       "    </tr>\n",
       "  </tbody>\n",
       "</table>\n",
       "</div>"
      ],
      "text/plain": [
       "   id  song_duration_ms  acousticness  danceability    energy  \\\n",
       "0   0          212990.0      0.642286      0.856520  0.707073   \n",
       "1   1               NaN      0.054866      0.733289  0.835545   \n",
       "2   2          193213.0           NaN      0.188387  0.783524   \n",
       "3   3          249893.0      0.488660      0.585234  0.552685   \n",
       "4   4          165969.0      0.493017           NaN  0.740982   \n",
       "\n",
       "   instrumentalness   key  liveness  loudness  audio_mode  speechiness  \\\n",
       "0          0.002001  10.0       NaN -5.619088           0     0.082570   \n",
       "1          0.000996   8.0  0.436428 -5.236965           1     0.127358   \n",
       "2         -0.002694   5.0  0.170499 -4.951759           0     0.052282   \n",
       "3          0.000608   0.0  0.094805 -7.893694           0     0.035618   \n",
       "4          0.002033  10.0  0.094891 -2.684095           0     0.050746   \n",
       "\n",
       "        tempo  time_signature  audio_valence  song_popularity  \n",
       "0  158.386236               4       0.734642                0  \n",
       "1  102.752988               3       0.711531                1  \n",
       "2  178.685791               3       0.425536                0  \n",
       "3  128.715630               3       0.453597                0  \n",
       "4  121.928157               4       0.741311                0  "
      ]
     },
     "execution_count": 2,
     "metadata": {},
     "output_type": "execute_result"
    }
   ],
   "source": [
    "df = pd.read_csv(\"train.csv\")\n",
    "df.head()"
   ]
  },
  {
   "cell_type": "code",
   "execution_count": 3,
   "id": "ce3b3208-632a-4677-a85e-2dbbda1a2f54",
   "metadata": {},
   "outputs": [
    {
     "name": "stderr",
     "output_type": "stream",
     "text": [
      "/home/balde/Downloads/AUR/y/lib/python3.9/site-packages/seaborn/_decorators.py:36: FutureWarning: Pass the following variable as a keyword arg: x. From version 0.12, the only valid positional argument will be `data`, and passing other arguments without an explicit keyword will result in an error or misinterpretation.\n",
      "  warnings.warn(\n"
     ]
    },
    {
     "data": {
      "text/plain": [
       "<AxesSubplot:xlabel='song_popularity', ylabel='count'>"
      ]
     },
     "execution_count": 3,
     "metadata": {},
     "output_type": "execute_result"
    },
    {
     "data": {
      "image/png": "[encoded data removed]",
      "text/plain": [
       "<Figure size 432x288 with 1 Axes>"
      ]
     },
     "metadata": {
      "needs_background": "light"
     },
     "output_type": "display_data"
    }
   ],
   "source": [
    "sns.countplot(df.song_popularity)"
   ]
  },
  {
   "cell_type": "code",
   "execution_count": 4,
   "id": "13a0eff5-595c-4951-baea-b2aa410acd79",
   "metadata": {},
   "outputs": [
    {
     "data": {
      "text/plain": [
       "<AxesSubplot:>"
      ]
     },
     "execution_count": 4,
     "metadata": {},
     "output_type": "execute_result"
    },
    {
     "data": {
      "image/png": "[encoded data removed]",
      "text/plain": [
       "<Figure size 1800x720 with 2 Axes>"
      ]
     },
     "metadata": {
      "needs_background": "light"
     },
     "output_type": "display_data"
    }
   ],
   "source": [
    "mn.matrix(df)"
   ]
  },
  {
   "cell_type": "code",
   "execution_count": 5,
   "id": "f2b8831e-6f17-4b31-954b-5d0d36a8de71",
   "metadata": {},
   "outputs": [
    {
     "data": {
      "text/plain": [
       "0.0     5175\n",
       "6.0     4949\n",
       "10.0    4302\n",
       "2.0     4080\n",
       "8.0     3028\n",
       "5.0     2985\n",
       "9.0     2881\n",
       "7.0     2690\n",
       "4.0     2239\n",
       "1.0     2143\n",
       "3.0     1346\n",
       "11.0     117\n",
       "Name: key, dtype: int64"
      ]
     },
     "execution_count": 5,
     "metadata": {},
     "output_type": "execute_result"
    }
   ],
   "source": [
    "df.key.value_counts()"
   ]
  },
  {
   "cell_type": "code",
   "execution_count": 6,
   "id": "fe905cb9-5a3f-4ad1-85d7-4e382478c54a",
   "metadata": {},
   "outputs": [
    {
     "data": {
      "text/plain": [
       "<AxesSubplot:>"
      ]
     },
     "execution_count": 6,
     "metadata": {},
     "output_type": "execute_result"
    },
    {
     "data": {
      "image/png": "[encoded data removed]",
      "text/plain": [
       "<Figure size 432x288 with 1 Axes>"
      ]
     },
     "metadata": {
      "needs_background": "light"
     },
     "output_type": "display_data"
    }
   ],
   "source": [
    "df.key.value_counts().plot(kind=\"bar\")"
   ]
  },
  {
   "cell_type": "code",
   "execution_count": 7,
   "id": "0d3b6f31-4549-4284-8d8c-151eb7c086be",
   "metadata": {},
   "outputs": [
    {
     "name": "stdout",
     "output_type": "stream",
     "text": [
      "<class 'pandas.core.frame.DataFrame'>\n",
      "RangeIndex: 40000 entries, 0 to 39999\n",
      "Data columns (total 15 columns):\n",
      " #   Column            Non-Null Count  Dtype  \n",
      "---  ------            --------------  -----  \n",
      " 0   id                40000 non-null  int64  \n",
      " 1   song_duration_ms  35899 non-null  float64\n",
      " 2   acousticness      36008 non-null  float64\n",
      " 3   danceability      35974 non-null  float64\n",
      " 4   energy            36025 non-null  float64\n",
      " 5   instrumentalness  36015 non-null  float64\n",
      " 6   key               35935 non-null  float64\n",
      " 7   liveness          35914 non-null  float64\n",
      " 8   loudness          36043 non-null  float64\n",
      " 9   audio_mode        40000 non-null  int64  \n",
      " 10  speechiness       40000 non-null  float64\n",
      " 11  tempo             40000 non-null  float64\n",
      " 12  time_signature    40000 non-null  int64  \n",
      " 13  audio_valence     40000 non-null  float64\n",
      " 14  song_popularity   40000 non-null  int64  \n",
      "dtypes: float64(11), int64(4)\n",
      "memory usage: 4.6 MB\n"
     ]
    }
   ],
   "source": [
    "df.info()"
   ]
  },
  {
   "cell_type": "code",
   "execution_count": 8,
   "id": "885c0b7f-1aa9-47e3-8818-ad790b1a604a",
   "metadata": {},
   "outputs": [
    {
     "data": {
      "text/html": [
       "<div>\n",
       "<style scoped>\n",
       "    .dataframe tbody tr th:only-of-type {\n",
       "        vertical-align: middle;\n",
       "    }\n",
       "\n",
       "    .dataframe tbody tr th {\n",
       "        vertical-align: top;\n",
       "    }\n",
       "\n",
       "    .dataframe thead th {\n",
       "        text-align: right;\n",
       "    }\n",
       "</style>\n",
       "<table border=\"1\" class=\"dataframe\">\n",
       "  <thead>\n",
       "    <tr style=\"text-align: right;\">\n",
       "      <th></th>\n",
       "      <th>count</th>\n",
       "      <th>mean</th>\n",
       "      <th>std</th>\n",
       "      <th>min</th>\n",
       "      <th>25%</th>\n",
       "      <th>50%</th>\n",
       "      <th>75%</th>\n",
       "      <th>max</th>\n",
       "    </tr>\n",
       "  </thead>\n",
       "  <tbody>\n",
       "    <tr>\n",
       "      <th>id</th>\n",
       "      <td>40000.0</td>\n",
       "      <td>19999.500000</td>\n",
       "      <td>11547.149720</td>\n",
       "      <td>0.000000</td>\n",
       "      <td>9999.750000</td>\n",
       "      <td>19999.500000</td>\n",
       "      <td>29999.250000</td>\n",
       "      <td>39999.000000</td>\n",
       "    </tr>\n",
       "    <tr>\n",
       "      <th>song_duration_ms</th>\n",
       "      <td>35899.0</td>\n",
       "      <td>193165.847572</td>\n",
       "      <td>45822.127679</td>\n",
       "      <td>25658.000000</td>\n",
       "      <td>166254.500000</td>\n",
       "      <td>186660.000000</td>\n",
       "      <td>215116.000000</td>\n",
       "      <td>491671.000000</td>\n",
       "    </tr>\n",
       "    <tr>\n",
       "      <th>acousticness</th>\n",
       "      <td>36008.0</td>\n",
       "      <td>0.276404</td>\n",
       "      <td>0.297928</td>\n",
       "      <td>-0.013551</td>\n",
       "      <td>0.039618</td>\n",
       "      <td>0.140532</td>\n",
       "      <td>0.482499</td>\n",
       "      <td>1.065284</td>\n",
       "    </tr>\n",
       "    <tr>\n",
       "      <th>danceability</th>\n",
       "      <td>35974.0</td>\n",
       "      <td>0.570951</td>\n",
       "      <td>0.190010</td>\n",
       "      <td>0.043961</td>\n",
       "      <td>0.424760</td>\n",
       "      <td>0.608234</td>\n",
       "      <td>0.718464</td>\n",
       "      <td>0.957131</td>\n",
       "    </tr>\n",
       "    <tr>\n",
       "      <th>energy</th>\n",
       "      <td>36025.0</td>\n",
       "      <td>0.683932</td>\n",
       "      <td>0.212662</td>\n",
       "      <td>-0.001682</td>\n",
       "      <td>0.539276</td>\n",
       "      <td>0.704453</td>\n",
       "      <td>0.870503</td>\n",
       "      <td>1.039741</td>\n",
       "    </tr>\n",
       "    <tr>\n",
       "      <th>instrumentalness</th>\n",
       "      <td>36015.0</td>\n",
       "      <td>0.036527</td>\n",
       "      <td>0.150024</td>\n",
       "      <td>-0.004398</td>\n",
       "      <td>0.000941</td>\n",
       "      <td>0.001974</td>\n",
       "      <td>0.003225</td>\n",
       "      <td>1.075415</td>\n",
       "    </tr>\n",
       "    <tr>\n",
       "      <th>key</th>\n",
       "      <td>35935.0</td>\n",
       "      <td>5.042605</td>\n",
       "      <td>3.372728</td>\n",
       "      <td>0.000000</td>\n",
       "      <td>2.000000</td>\n",
       "      <td>5.000000</td>\n",
       "      <td>8.000000</td>\n",
       "      <td>11.000000</td>\n",
       "    </tr>\n",
       "    <tr>\n",
       "      <th>liveness</th>\n",
       "      <td>35914.0</td>\n",
       "      <td>0.198514</td>\n",
       "      <td>0.151670</td>\n",
       "      <td>0.027843</td>\n",
       "      <td>0.111796</td>\n",
       "      <td>0.135945</td>\n",
       "      <td>0.212842</td>\n",
       "      <td>1.065298</td>\n",
       "    </tr>\n",
       "    <tr>\n",
       "      <th>loudness</th>\n",
       "      <td>36043.0</td>\n",
       "      <td>-7.407596</td>\n",
       "      <td>3.877198</td>\n",
       "      <td>-32.117911</td>\n",
       "      <td>-9.578139</td>\n",
       "      <td>-6.345413</td>\n",
       "      <td>-4.620711</td>\n",
       "      <td>-0.877346</td>\n",
       "    </tr>\n",
       "    <tr>\n",
       "      <th>audio_mode</th>\n",
       "      <td>40000.0</td>\n",
       "      <td>0.321150</td>\n",
       "      <td>0.466924</td>\n",
       "      <td>0.000000</td>\n",
       "      <td>0.000000</td>\n",
       "      <td>0.000000</td>\n",
       "      <td>1.000000</td>\n",
       "      <td>1.000000</td>\n",
       "    </tr>\n",
       "    <tr>\n",
       "      <th>speechiness</th>\n",
       "      <td>40000.0</td>\n",
       "      <td>0.094107</td>\n",
       "      <td>0.083591</td>\n",
       "      <td>0.015065</td>\n",
       "      <td>0.038500</td>\n",
       "      <td>0.055881</td>\n",
       "      <td>0.118842</td>\n",
       "      <td>0.560748</td>\n",
       "    </tr>\n",
       "    <tr>\n",
       "      <th>tempo</th>\n",
       "      <td>40000.0</td>\n",
       "      <td>116.562815</td>\n",
       "      <td>26.167911</td>\n",
       "      <td>62.055779</td>\n",
       "      <td>96.995309</td>\n",
       "      <td>113.795959</td>\n",
       "      <td>128.517383</td>\n",
       "      <td>219.163578</td>\n",
       "    </tr>\n",
       "    <tr>\n",
       "      <th>time_signature</th>\n",
       "      <td>40000.0</td>\n",
       "      <td>3.394375</td>\n",
       "      <td>0.524405</td>\n",
       "      <td>2.000000</td>\n",
       "      <td>3.000000</td>\n",
       "      <td>3.000000</td>\n",
       "      <td>4.000000</td>\n",
       "      <td>5.000000</td>\n",
       "    </tr>\n",
       "    <tr>\n",
       "      <th>audio_valence</th>\n",
       "      <td>40000.0</td>\n",
       "      <td>0.580645</td>\n",
       "      <td>0.237351</td>\n",
       "      <td>0.013398</td>\n",
       "      <td>0.398669</td>\n",
       "      <td>0.598827</td>\n",
       "      <td>0.759635</td>\n",
       "      <td>1.022558</td>\n",
       "    </tr>\n",
       "    <tr>\n",
       "      <th>song_popularity</th>\n",
       "      <td>40000.0</td>\n",
       "      <td>0.364400</td>\n",
       "      <td>0.481268</td>\n",
       "      <td>0.000000</td>\n",
       "      <td>0.000000</td>\n",
       "      <td>0.000000</td>\n",
       "      <td>1.000000</td>\n",
       "      <td>1.000000</td>\n",
       "    </tr>\n",
       "  </tbody>\n",
       "</table>\n",
       "</div>"
      ],
      "text/plain": [
       "                    count           mean           std           min  \\\n",
       "id                40000.0   19999.500000  11547.149720      0.000000   \n",
       "song_duration_ms  35899.0  193165.847572  45822.127679  25658.000000   \n",
       "acousticness      36008.0       0.276404      0.297928     -0.013551   \n",
       "danceability      35974.0       0.570951      0.190010      0.043961   \n",
       "energy            36025.0       0.683932      0.212662     -0.001682   \n",
       "instrumentalness  36015.0       0.036527      0.150024     -0.004398   \n",
       "key               35935.0       5.042605      3.372728      0.000000   \n",
       "liveness          35914.0       0.198514      0.151670      0.027843   \n",
       "loudness          36043.0      -7.407596      3.877198    -32.117911   \n",
       "audio_mode        40000.0       0.321150      0.466924      0.000000   \n",
       "speechiness       40000.0       0.094107      0.083591      0.015065   \n",
       "tempo             40000.0     116.562815     26.167911     62.055779   \n",
       "time_signature    40000.0       3.394375      0.524405      2.000000   \n",
       "audio_valence     40000.0       0.580645      0.237351      0.013398   \n",
       "song_popularity   40000.0       0.364400      0.481268      0.000000   \n",
       "\n",
       "                            25%            50%            75%            max  \n",
       "id                  9999.750000   19999.500000   29999.250000   39999.000000  \n",
       "song_duration_ms  166254.500000  186660.000000  215116.000000  491671.000000  \n",
       "acousticness           0.039618       0.140532       0.482499       1.065284  \n",
       "danceability           0.424760       0.608234       0.718464       0.957131  \n",
       "energy                 0.539276       0.704453       0.870503       1.039741  \n",
       "instrumentalness       0.000941       0.001974       0.003225       1.075415  \n",
       "key                    2.000000       5.000000       8.000000      11.000000  \n",
       "liveness               0.111796       0.135945       0.212842       1.065298  \n",
       "loudness              -9.578139      -6.345413      -4.620711      -0.877346  \n",
       "audio_mode             0.000000       0.000000       1.000000       1.000000  \n",
       "speechiness            0.038500       0.055881       0.118842       0.560748  \n",
       "tempo                 96.995309     113.795959     128.517383     219.163578  \n",
       "time_signature         3.000000       3.000000       4.000000       5.000000  \n",
       "audio_valence          0.398669       0.598827       0.759635       1.022558  \n",
       "song_popularity        0.000000       0.000000       1.000000       1.000000  "
      ]
     },
     "execution_count": 8,
     "metadata": {},
     "output_type": "execute_result"
    }
   ],
   "source": [
    "df.describe().T"
   ]
  },
  {
   "cell_type": "code",
   "execution_count": 9,
   "id": "7f4e1c72-ab70-483f-840a-9538f93304a2",
   "metadata": {},
   "outputs": [],
   "source": [
    "from sklearn.impute import SimpleImputer\n",
    "from sklearn.preprocessing import StandardScaler"
   ]
  },
  {
   "cell_type": "code",
   "execution_count": 10,
   "id": "65815321-4e78-4eef-b38d-a66afdd0aac8",
   "metadata": {},
   "outputs": [],
   "source": [
    "X = df.drop([\"id\", \"song_popularity\"], axis=1)\n",
    "y = df.song_popularity"
   ]
  },
  {
   "cell_type": "code",
   "execution_count": 11,
   "id": "fd8292cc-05f3-42cb-94b6-dc4238a3c8a8",
   "metadata": {},
   "outputs": [],
   "source": [
    "from sklearn.pipeline import Pipeline"
   ]
  },
  {
   "cell_type": "code",
   "execution_count": 12,
   "id": "8bdae175-6b78-4cb7-95f9-c44516194030",
   "metadata": {},
   "outputs": [],
   "source": [
    "X_col = X.columns.to_list()"
   ]
  },
  {
   "cell_type": "code",
   "execution_count": 13,
   "id": "a169dece-8e2f-4575-a6ad-59e0b151ccb4",
   "metadata": {},
   "outputs": [],
   "source": [
    "pipe = Pipeline([(\"impute\", SimpleImputer()), (\"scale\", StandardScaler())])"
   ]
  },
  {
   "cell_type": "code",
   "execution_count": 14,
   "id": "59608c79-0349-4ecc-9c2d-d476f6d03cf2",
   "metadata": {},
   "outputs": [],
   "source": [
    "X = pipe.fit_transform(X)"
   ]
  },
  {
   "cell_type": "code",
   "execution_count": 18,
   "id": "21d1b9d4-a6ac-4145-bce7-45abb5b874e2",
   "metadata": {},
   "outputs": [
    {
     "data": {
      "text/plain": [
       "song_duration_ms    0\n",
       "acousticness        0\n",
       "danceability        0\n",
       "energy              0\n",
       "instrumentalness    0\n",
       "key                 0\n",
       "liveness            0\n",
       "loudness            0\n",
       "audio_mode          0\n",
       "speechiness         0\n",
       "tempo               0\n",
       "time_signature      0\n",
       "audio_valence       0\n",
       "dtype: int64"
      ]
     },
     "execution_count": 18,
     "metadata": {},
     "output_type": "execute_result"
    }
   ],
   "source": [
    "X_df = pd.DataFrame(columns=X_col, data=X)\n",
    "X_df.isna().sum()"
   ]
  },
  {
   "cell_type": "code",
   "execution_count": 19,
   "id": "27dec72a-97ef-4bc3-b5dc-6e95c96dd978",
   "metadata": {},
   "outputs": [],
   "source": [
    "X_train, X_test, y_train, y_test = train_test_split(\n",
    "    X, y, random_state=42, test_size=0.2\n",
    ")"
   ]
  },
  {
   "cell_type": "code",
   "execution_count": 21,
   "id": "41c9e150-5d22-43d0-b79c-4a665ec02681",
   "metadata": {},
   "outputs": [
    {
     "data": {
      "text/plain": [
       "((32000, 13), (32000,))"
      ]
     },
     "execution_count": 21,
     "metadata": {},
     "output_type": "execute_result"
    }
   ],
   "source": [
    "X_train.shape, y_train.shape"
   ]
  },
  {
   "cell_type": "code",
   "execution_count": 23,
   "id": "ea104358-0a9e-4245-8a40-b0fb68e2697d",
   "metadata": {},
   "outputs": [
    {
     "data": {
      "text/plain": [
       "((8000, 13), (8000,))"
      ]
     },
     "execution_count": 23,
     "metadata": {},
     "output_type": "execute_result"
    }
   ],
   "source": [
    "X_test.shape, y_test.shape"
   ]
  },
  {
   "cell_type": "code",
   "execution_count": 25,
   "id": "2c4f5e54-a4a8-44bc-845e-150118d12405",
   "metadata": {},
   "outputs": [
    {
     "data": {
      "text/plain": [
       "LogisticRegression()"
      ]
     },
     "execution_count": 25,
     "metadata": {},
     "output_type": "execute_result"
    }
   ],
   "source": [
    "lgr = LogisticRegression()\n",
    "lgr.fit(X_train, y_train)"
   ]
  },
  {
   "cell_type": "code",
   "execution_count": 28,
   "id": "1bbd4282-a40d-43ee-944e-28b692bba9a4",
   "metadata": {},
   "outputs": [
    {
     "data": {
      "text/plain": [
       "array([0, 0, 0, 0, 0, 0, 0, 0, 0, 0])"
      ]
     },
     "execution_count": 28,
     "metadata": {},
     "output_type": "execute_result"
    }
   ],
   "source": [
    "y_pred = lgr.predict(X_test)\n",
    "\n",
    "y_pred[:10]"
   ]
  },
  {
   "cell_type": "code",
   "execution_count": 29,
   "id": "7a09e0f6-fd9e-414a-9ede-deb8a8a3f412",
   "metadata": {},
   "outputs": [
    {
     "data": {
      "text/plain": [
       "0.636"
      ]
     },
     "execution_count": 29,
     "metadata": {},
     "output_type": "execute_result"
    }
   ],
   "source": [
    "accuracy_score(y_test, y_pred)"
   ]
  },
  {
   "cell_type": "code",
   "execution_count": 30,
   "id": "18b023d8-bbf7-44aa-88d6-c07649bf05cf",
   "metadata": {},
   "outputs": [],
   "source": [
    "from sklearn.metrics import classification_report"
   ]
  },
  {
   "cell_type": "code",
   "execution_count": 32,
   "id": "fd41738d-f425-4ba3-8d40-47d7b09956ad",
   "metadata": {},
   "outputs": [
    {
     "name": "stdout",
     "output_type": "stream",
     "text": [
      "              precision    recall  f1-score   support\n",
      "\n",
      "           0       0.64      1.00      0.78      5089\n",
      "           1       0.47      0.00      0.00      2911\n",
      "\n",
      "    accuracy                           0.64      8000\n",
      "   macro avg       0.55      0.50      0.39      8000\n",
      "weighted avg       0.57      0.64      0.50      8000\n",
      "\n"
     ]
    }
   ],
   "source": [
    "print(classification_report(y_test, y_pred))"
   ]
  },
  {
   "cell_type": "code",
   "execution_count": 34,
   "id": "6b69505f-6291-46c4-be46-fff1375e426d",
   "metadata": {},
   "outputs": [],
   "source": [
    "from sklearn.ensemble import HistGradientBoostingClassifier"
   ]
  },
  {
   "cell_type": "code",
   "execution_count": 40,
   "id": "0d48c4a8-7a85-45f4-b9a4-5a8b7e0d425f",
   "metadata": {},
   "outputs": [
    {
     "data": {
      "text/plain": [
       "HistGradientBoostingClassifier(learning_rate=0.01, max_iter=500)"
      ]
     },
     "execution_count": 40,
     "metadata": {},
     "output_type": "execute_result"
    }
   ],
   "source": [
    "hgb = HistGradientBoostingClassifier(learning_rate=0.01,max_iter=500)\n",
    "hgb.fit(X_train, y_train)"
   ]
  },
  {
   "cell_type": "code",
   "execution_count": 41,
   "id": "2623b188-0ced-4845-9da3-40c412d51fe1",
   "metadata": {},
   "outputs": [],
   "source": [
    "pred_h = hgb.predict(X_test)"
   ]
  },
  {
   "cell_type": "code",
   "execution_count": 42,
   "id": "1ec138e2-0f7b-4490-a799-c54236e19eb8",
   "metadata": {},
   "outputs": [
    {
     "data": {
      "text/plain": [
       "0.6375"
      ]
     },
     "execution_count": 42,
     "metadata": {},
     "output_type": "execute_result"
    }
   ],
   "source": [
    "accuracy_score(y_test,pred_h)"
   ]
  },
  {
   "cell_type": "code",
   "execution_count": 43,
   "id": "1dd69ced-ef9d-4107-869b-eaa94377bb99",
   "metadata": {},
   "outputs": [
    {
     "name": "stdout",
     "output_type": "stream",
     "text": [
      "              precision    recall  f1-score   support\n",
      "\n",
      "           0       0.64      0.99      0.78      5089\n",
      "           1       0.58      0.01      0.03      2911\n",
      "\n",
      "    accuracy                           0.64      8000\n",
      "   macro avg       0.61      0.50      0.40      8000\n",
      "weighted avg       0.62      0.64      0.50      8000\n",
      "\n"
     ]
    }
   ],
   "source": [
    "print(classification_report(y_test, pred_h))"
   ]
  },
  {
   "cell_type": "code",
   "execution_count": null,
   "id": "79545a32-33df-47a6-8db6-3f9006fb51e4",
   "metadata": {},
   "outputs": [],
   "source": []
  }
 ],
 "metadata": {
  "kernelspec": {
   "display_name": "Python 3 (ipykernel)",
   "language": "python",
   "name": "python3"
  },
  "language_info": {
   "codemirror_mode": {
    "name": "ipython",
    "version": 3
   },
   "file_extension": ".py",
   "mimetype": "text/x-python",
   "name": "python",
   "nbconvert_exporter": "python",
   "pygments_lexer": "ipython3",
   "version": "3.9.5"
  }
 },
 "nbformat": 4,
 "nbformat_minor": 5
}
